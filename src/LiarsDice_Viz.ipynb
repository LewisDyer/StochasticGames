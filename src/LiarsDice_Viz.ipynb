{
 "cells": [
  {
   "cell_type": "code",
   "execution_count": 45,
   "metadata": {
    "ExecuteTime": {
     "end_time": "2020-12-16T10:53:09.741428Z",
     "start_time": "2020-12-16T10:53:09.725414Z"
    }
   },
   "outputs": [
    {
     "name": "stdout",
     "output_type": "stream",
     "text": [
      "3/2, P1\n",
      "1\n",
      "2\n"
     ]
    }
   ],
   "source": [
    "class NodeInfo:\n",
    "    def __init__(self, p1_dice, p2_dice, start_player, p1_strat, p2_strat, start_bid_strat):\n",
    "        self.p1_dice = p1_dice\n",
    "        self.p2_dice = p2_dice\n",
    "        self.start_player = start_player\n",
    "        self.left = None\n",
    "        self.right = None\n",
    "        self.p1_win_round = self.get_model_checking()\n",
    "        self.p1_win_game = None\n",
    "        \n",
    "    def __str__(self):\n",
    "        return f\"{self.p1_dice}/{self.p2_dice}, P{self.start_player}\"\n",
    "    \n",
    "    def get_winner(self):\n",
    "        if self.p1_dice == 0:\n",
    "            return 2\n",
    "        if self.p2_dice == 0:\n",
    "            return 1\n",
    "        return 0\n",
    "    \n",
    "    def get_model_checking(self):\n",
    "        # construct a model spec, and read in the results for this particular model. If no results exist yet for this model,\n",
    "    \n",
    "print(NodeInfo(3, 2, 1))\n",
    "print((NodeInfo(3, 0, 1)).get_winner())\n",
    "print((NodeInfo(0, 3, 1)).get_winner())"
   ]
  },
  {
   "cell_type": "code",
   "execution_count": 46,
   "metadata": {
    "ExecuteTime": {
     "end_time": "2020-12-16T10:53:10.148482Z",
     "start_time": "2020-12-16T10:53:10.135594Z"
    }
   },
   "outputs": [],
   "source": [
    "def game_tree(root):\n",
    "    # given the starting configuration, returns the tree for a game of Liar's dice\n",
    "    \n",
    "    if root.get_winner():\n",
    "        return root\n",
    "    else:\n",
    "        p1_lose = NodeInfo(root.p1_dice - 1, root.p2_dice, 1)\n",
    "        root.left = game_tree(p1_lose)\n",
    "        \n",
    "        p2_lose = NodeInfo(root.p1_dice, root.p2_dice - 1, 2)\n",
    "        root.right = game_tree(p2_lose)\n",
    "        \n",
    "        return root\n",
    "\n",
    "game_22 = game_tree(NodeInfo(2, 2, 1))"
   ]
  },
  {
   "cell_type": "code",
   "execution_count": 47,
   "metadata": {
    "ExecuteTime": {
     "end_time": "2020-12-16T10:53:10.459536Z",
     "start_time": "2020-12-16T10:53:10.440641Z"
    }
   },
   "outputs": [
    {
     "name": "stdout",
     "output_type": "stream",
     "text": [
      "Need model checking results for 2/2, P1\n",
      "Need model checking results for 1/2, P1\n",
      "Need model checking results for 1/1, P2\n",
      "Need model checking results for 2/1, P2\n",
      "Need model checking results for 1/1, P1\n",
      "1\n"
     ]
    }
   ],
   "source": [
    "def prob_p1_wins(root):\n",
    "    # given a starting configuration, calculates the probability that p1 wins the overall game.\n",
    "    \n",
    "    if root.get_winner() == 1:\n",
    "        return 1\n",
    "    if root.get_winner() == 2:\n",
    "        return 0\n",
    "    \n",
    "    if root.p1_win_round is None:\n",
    "        print(f\"Need model checking results for {root}\")\n",
    "        root.p1_win_round = 1\n",
    "    \n",
    "    return  ((1 - root.p1_win_round) * prob_p1_wins(root.left) + root.p1_win_round * prob_p1_wins(root.right))\n",
    "\n",
    "print(prob_p1_wins(game_22))"
   ]
  },
  {
   "cell_type": "code",
   "execution_count": 48,
   "metadata": {
    "ExecuteTime": {
     "end_time": "2020-12-16T10:53:11.143618Z",
     "start_time": "2020-12-16T10:53:11.126215Z"
    }
   },
   "outputs": [
    {
     "name": "stdout",
     "output_type": "stream",
     "text": [
      "Need model checking results for 1/1, P2\n"
     ]
    },
    {
     "data": {
      "text/plain": [
       "1"
      ]
     },
     "execution_count": 48,
     "metadata": {},
     "output_type": "execute_result"
    }
   ],
   "source": [
    "prob_p1_wins(game_tree(NodeInfo(1, 1, 2)))"
   ]
  },
  {
   "cell_type": "code",
   "execution_count": null,
   "metadata": {},
   "outputs": [],
   "source": []
  }
 ],
 "metadata": {
  "hide_input": false,
  "kernelspec": {
   "display_name": "Python 3",
   "language": "python",
   "name": "python3"
  },
  "language_info": {
   "codemirror_mode": {
    "name": "ipython",
    "version": 3
   },
   "file_extension": ".py",
   "mimetype": "text/x-python",
   "name": "python",
   "nbconvert_exporter": "python",
   "pygments_lexer": "ipython3",
   "version": "3.7.3"
  },
  "toc": {
   "base_numbering": 1,
   "nav_menu": {},
   "number_sections": true,
   "sideBar": true,
   "skip_h1_title": false,
   "title_cell": "Table of Contents",
   "title_sidebar": "Contents",
   "toc_cell": false,
   "toc_position": {},
   "toc_section_display": true,
   "toc_window_display": false
  }
 },
 "nbformat": 4,
 "nbformat_minor": 2
}
