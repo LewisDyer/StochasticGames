{
 "cells": [
  {
   "cell_type": "code",
   "execution_count": 56,
   "metadata": {
    "ExecuteTime": {
     "end_time": "2020-12-18T16:58:36.695819Z",
     "start_time": "2020-12-18T16:58:36.679849Z"
    }
   },
   "outputs": [
    {
     "name": "stdout",
     "output_type": "stream",
     "text": [
      "0.5\n",
      "1\n",
      "2\n"
     ]
    }
   ],
   "source": [
    "class NodeInfo:\n",
    "    def __init__(self, p1_dice, p2_dice, p1_bid_strat, p1_cha_strat, p2_bid_strat, p2_cha_strat, start_player, start_bid_strat):\n",
    "        self.p1_dice = p1_dice\n",
    "        self.p2_dice = p2_dice\n",
    "        self.p1_bid_strat = p1_bid_strat\n",
    "        self.p1_cha_strat = p1_cha_strat\n",
    "        self.p2_bid_strat = p2_bid_strat\n",
    "        self.p2_cha_strat = p2_cha_strat\n",
    "        self.start_player = start_player\n",
    "        self.start_bid_strat = start_bid_strat\n",
    "        \n",
    "        self.model_spec = model_spec = f\"ld_{p1_dice}-{p2_dice}_{p1_bid_strat}_{p1_cha_strat}_{p2_bid_strat}_{p2_cha_strat}_{start_player}_{start_bid_strat}\"\n",
    "        self.left = None\n",
    "        self.right = None\n",
    "        self.p1_win_round = self.get_model_checking()\n",
    "        self.p1_win_game = None\n",
    "        \n",
    "    def __str__(self):\n",
    "        return f\"{self.p1_dice}/{self.p2_dice}, P{self.start_player}\"\n",
    "    \n",
    "    def get_winner(self):\n",
    "        if self.p1_dice == 0:\n",
    "            return 2\n",
    "        if self.p2_dice == 0:\n",
    "            return 1\n",
    "        return 0\n",
    "    \n",
    "    def get_model_checking(self):\n",
    "        # construct a model spec, and read in the results for this particular model. If no results exist yet for this model,\n",
    "        # generate them!\n",
    "        \n",
    "        if self.get_winner() != 0:\n",
    "            return self.get_winner()\n",
    "        else:\n",
    "            data_location = f\"LiarsDice/data/{self.model_spec}/{self.model_spec}_p1_win_round.csv\"\n",
    "            try:\n",
    "                with open(data_location) as f:\n",
    "                    lines = f.readlines()\n",
    "                    return(float(lines[1]))\n",
    "            except FileNotFoundError:\n",
    "                print(f\"Need model checking for {self.model_spec}\")\n",
    "                return 0\n",
    "    \n",
    "print(NodeInfo(2, 2, 0, 0, 1, 1, 1, 1).p1_win_round)\n",
    "print((NodeInfo(3, 0, 1, 1, 0, 0, 1, 1)).get_winner())\n",
    "print((NodeInfo(0, 3, 1, 1, 0, 0, 1, 1)).get_winner())"
   ]
  },
  {
   "cell_type": "code",
   "execution_count": 58,
   "metadata": {
    "ExecuteTime": {
     "end_time": "2020-12-18T16:58:59.600988Z",
     "start_time": "2020-12-18T16:58:59.589978Z"
    }
   },
   "outputs": [],
   "source": [
    "def game_tree(root):\n",
    "    # given the starting configuration, returns the tree for a game of Liar's dice\n",
    "    \n",
    "    if root.get_winner():\n",
    "        return root\n",
    "    else:\n",
    "        p1_lose = NodeInfo(root.p1_dice - 1, root.p2_dice, root.p1_bid_strat, root.p1_cha_strat, root.p2_bid_strat, root.p2_cha_strat, 1, root.start_bid_strat)\n",
    "        root.left = game_tree(p1_lose)\n",
    "        \n",
    "        p2_lose = NodeInfo(root.p1_dice, root.p2_dice - 1, root.p1_bid_strat, root.p1_cha_strat, root.p2_bid_strat, root.p2_cha_strat, 2, root.start_bid_strat)\n",
    "        root.right = game_tree(p2_lose)\n",
    "        \n",
    "        return root\n",
    "\n",
    "game_22 = game_tree(NodeInfo(2, 2, 0, 0, 1, 1, 1, 1))"
   ]
  },
  {
   "cell_type": "code",
   "execution_count": 59,
   "metadata": {
    "ExecuteTime": {
     "end_time": "2020-12-18T16:59:05.528061Z",
     "start_time": "2020-12-18T16:59:05.510493Z"
    }
   },
   "outputs": [
    {
     "name": "stdout",
     "output_type": "stream",
     "text": [
      "0.7469135833333334\n"
     ]
    }
   ],
   "source": [
    "def prob_p1_wins(root):\n",
    "    # given a starting configuration, calculates the probability that p1 wins the overall game.\n",
    "    \n",
    "    if root.get_winner() == 1:\n",
    "        return 1\n",
    "    if root.get_winner() == 2:\n",
    "        return 0\n",
    "    \n",
    "    if root.p1_win_round is None:\n",
    "        print(f\"Need model checking results for {root}\")\n",
    "        root.p1_win_round = 1\n",
    "    \n",
    "    return  ((1 - root.p1_win_round) * prob_p1_wins(root.left) + root.p1_win_round * prob_p1_wins(root.right))\n",
    "\n",
    "print(prob_p1_wins(game_22))"
   ]
  },
  {
   "cell_type": "code",
   "execution_count": 48,
   "metadata": {
    "ExecuteTime": {
     "end_time": "2020-12-16T10:53:11.143618Z",
     "start_time": "2020-12-16T10:53:11.126215Z"
    }
   },
   "outputs": [
    {
     "name": "stdout",
     "output_type": "stream",
     "text": [
      "Need model checking results for 1/1, P2\n"
     ]
    },
    {
     "data": {
      "text/plain": [
       "1"
      ]
     },
     "execution_count": 48,
     "metadata": {},
     "output_type": "execute_result"
    }
   ],
   "source": [
    "prob_p1_wins(game_tree(NodeInfo(1, 1, 2)))"
   ]
  },
  {
   "cell_type": "code",
   "execution_count": 33,
   "metadata": {
    "ExecuteTime": {
     "end_time": "2020-12-18T13:30:40.654488Z",
     "start_time": "2020-12-18T13:30:39.826273Z"
    }
   },
   "outputs": [
    {
     "name": "stderr",
     "output_type": "stream",
     "text": [
      "Traceback (most recent call last):\n",
      "  File \"utils/pyprism.py\", line 76, in <module>\n",
      "    param_lookup = set_params(args.params)\n",
      "  File \"utils/pyprism.py\", line 43, in set_params\n",
      "    with p_values.open('r') as p_csv:\n",
      "  File \"C:\\Users\\Lewis\\Anaconda3\\lib\\pathlib.py\", line 1186, in open\n",
      "    opener=self._opener)\n",
      "  File \"C:\\Users\\Lewis\\Anaconda3\\lib\\pathlib.py\", line 1039, in _opener\n",
      "    return self._accessor.open(self, flags, mode)\n",
      "FileNotFoundError: [Errno 2] No such file or directory: 'LiarsDice\\\\params\\\\{model_spec}.csv'\n"
     ]
    }
   ],
   "source": [
    "from LiarsDice.model_checking import build_model\n",
    "\n",
    "build_model(2, 2, 1, 1, 0, 0, 1, 1)"
   ]
  },
  {
   "cell_type": "code",
   "execution_count": 32,
   "metadata": {
    "ExecuteTime": {
     "end_time": "2020-12-18T13:30:22.935152Z",
     "start_time": "2020-12-18T13:30:22.916353Z"
    }
   },
   "outputs": [],
   "source": [
    "def build_model(p1_dice, p2_dice, p1_bid_strat, p1_cha_strat, p2_bid_strat, p2_cha_strat, starting_player, start_bid_strat):\n",
    "\n",
    "    #!mkdir \"LiarsDice/models/$model_spec\"\n",
    "\n",
    "    model_spec = f\"ld_{p1_dice}-{p2_dice}_{p1_bid_strat}_{p1_cha_strat}_{p2_bid_strat}_{p2_cha_strat}_{starting_player}_{start_bid_strat}\"\n",
    "    \n",
    "    output_model = f\"LiarsDice/models/{model_spec}/{model_spec}.prism\"\n",
    "\n",
    "    !python utils/pyprism.py LiarsDice/LiarsDice.pyprism $output_model LiarsDice/params/{model_spec}.csv\n",
    "\n",
    "    props_file = \"LiarsDice/LD_manual.props\"\n",
    "\n",
    "    !prism-ext {output_model} $props_file -prop 5 -const p2_c=0.5 -gridresolution 1 -exportresults LiarsDice/data/{model_spec}/{model_spec}_p1_win_round.csv:csv"
   ]
  },
  {
   "cell_type": "code",
   "execution_count": 35,
   "metadata": {
    "ExecuteTime": {
     "end_time": "2020-12-18T14:29:55.628894Z",
     "start_time": "2020-12-18T14:29:55.599996Z"
    }
   },
   "outputs": [
    {
     "ename": "NameError",
     "evalue": "name 'p1_dice' is not defined",
     "output_type": "error",
     "traceback": [
      "\u001b[1;31m---------------------------------------------------------------------------\u001b[0m",
      "\u001b[1;31mNameError\u001b[0m                                 Traceback (most recent call last)",
      "\u001b[1;32m<ipython-input-35-35c09e3ad077>\u001b[0m in \u001b[0;36m<module>\u001b[1;34m\u001b[0m\n\u001b[1;32m----> 1\u001b[1;33m \u001b[0mmodel_spec\u001b[0m \u001b[1;33m=\u001b[0m \u001b[1;34mf\"ld_{p1_dice}-{p2_dice}_{p1_bid_strat}_{p1_cha_strat}_{p2_bid_strat}_{p2_cha_strat}_{starting_player}_{start_bid_strat}\"\u001b[0m\u001b[1;33m\u001b[0m\u001b[1;33m\u001b[0m\u001b[0m\n\u001b[0m\u001b[0;32m      2\u001b[0m \u001b[1;33m\u001b[0m\u001b[0m\n\u001b[0;32m      3\u001b[0m \u001b[0moutput_model\u001b[0m \u001b[1;33m=\u001b[0m \u001b[1;34mf\"LiarsDice/models/{model_spec}/{model_spec}.prism\"\u001b[0m\u001b[1;33m\u001b[0m\u001b[1;33m\u001b[0m\u001b[0m\n\u001b[0;32m      4\u001b[0m \u001b[1;33m\u001b[0m\u001b[0m\n\u001b[0;32m      5\u001b[0m \u001b[0mget_ipython\u001b[0m\u001b[1;33m(\u001b[0m\u001b[1;33m)\u001b[0m\u001b[1;33m.\u001b[0m\u001b[0msystem\u001b[0m\u001b[1;33m(\u001b[0m\u001b[1;34m'python utils/pyprism.py LiarsDice/LiarsDice.pyprism $output_model LiarsDice/params/{model_spec}.csv'\u001b[0m\u001b[1;33m)\u001b[0m\u001b[1;33m\u001b[0m\u001b[1;33m\u001b[0m\u001b[0m\n",
      "\u001b[1;31mNameError\u001b[0m: name 'p1_dice' is not defined"
     ]
    }
   ],
   "source": [
    "model_spec = f\"ld_{p1_dice}-{p2_dice}_{p1_bid_strat}_{p1_cha_strat}_{p2_bid_strat}_{p2_cha_strat}_{starting_player}_{start_bid_strat}\"\n",
    "    \n",
    "output_model = f\"LiarsDice/models/{model_spec}/{model_spec}.prism\"\n",
    "\n",
    "!python utils/pyprism.py LiarsDice/LiarsDice.pyprism $output_model LiarsDice/params/{model_spec}.csv\n",
    "\n",
    "props_file = \"LiarsDice/LD_manual.props\"\n",
    "    \n",
    "!mkdir \"LiarsDice/data/$model_spec\"\n",
    "\n",
    "!prism-ext {output_model} $props_file -prop 5 -const p2_c=0.5 -gridresolution 1 -exportresults LiarsDice/data/{model_spec}/{model_spec}_p1_win_round.csv:csv"
   ]
  },
  {
   "cell_type": "code",
   "execution_count": null,
   "metadata": {},
   "outputs": [],
   "source": []
  }
 ],
 "metadata": {
  "hide_input": false,
  "kernelspec": {
   "display_name": "Python 3",
   "language": "python",
   "name": "python3"
  },
  "language_info": {
   "codemirror_mode": {
    "name": "ipython",
    "version": 3
   },
   "file_extension": ".py",
   "mimetype": "text/x-python",
   "name": "python",
   "nbconvert_exporter": "python",
   "pygments_lexer": "ipython3",
   "version": "3.7.3"
  },
  "toc": {
   "base_numbering": 1,
   "nav_menu": {},
   "number_sections": true,
   "sideBar": true,
   "skip_h1_title": false,
   "title_cell": "Table of Contents",
   "title_sidebar": "Contents",
   "toc_cell": false,
   "toc_position": {},
   "toc_section_display": true,
   "toc_window_display": false
  }
 },
 "nbformat": 4,
 "nbformat_minor": 2
}
