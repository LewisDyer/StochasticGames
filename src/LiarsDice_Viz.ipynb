{
 "cells": [
  {
   "cell_type": "code",
   "execution_count": 17,
   "metadata": {
    "ExecuteTime": {
     "end_time": "2020-12-15T16:51:44.802115Z",
     "start_time": "2020-12-15T16:51:44.781982Z"
    }
   },
   "outputs": [
    {
     "name": "stdout",
     "output_type": "stream",
     "text": [
      "3/2, P1\n",
      "1\n"
     ]
    }
   ],
   "source": [
    "class NodeInfo:\n",
    "    def __init__(self, p1_dice, p2_dice, start_player):\n",
    "        self.p1_dice = p1_dice\n",
    "        self.p2_dice = p2_dice\n",
    "        self.start_player = start_player\n",
    "        self.left = None\n",
    "        self.right = None\n",
    "        \n",
    "    def __str__(self):\n",
    "        return f\"{self.p1_dice}/{self.p2_dice}, P{self.start_player}\"\n",
    "    \n",
    "    def get_winner(self):\n",
    "        if self.p1_dice == 0:\n",
    "            return 2\n",
    "        if self.p2_dice == 0:\n",
    "            return 1\n",
    "        return 0\n",
    "    \n",
    "print(NodeInfo(3, 2, 1))\n",
    "print((NodeInfo(3, 0, 1)).get_winner())"
   ]
  },
  {
   "cell_type": "code",
   "execution_count": 23,
   "metadata": {
    "ExecuteTime": {
     "end_time": "2020-12-15T16:53:42.562792Z",
     "start_time": "2020-12-15T16:53:42.550780Z"
    }
   },
   "outputs": [
    {
     "name": "stdout",
     "output_type": "stream",
     "text": [
      "non-terminal node\n",
      "1/2, P1\n",
      "non-terminal node\n",
      "0/2, P1\n",
      "found terminal node\n",
      "1/1, P2\n",
      "found terminal node\n",
      "2/1, P2\n",
      "non-terminal node\n",
      "0/2, P1\n",
      "found terminal node\n",
      "1/1, P2\n",
      "found terminal node\n",
      "1/2, P1\n"
     ]
    }
   ],
   "source": [
    "def game_tree(root):\n",
    "    # given the starting configuration, returns the tree for a game of Liar's dice\n",
    "    \n",
    "    if root.get_winner():\n",
    "        print(\"found terminal node\")\n",
    "        return root\n",
    "    else:\n",
    "        print(\"non-terminal node\")\n",
    "        p1_lose = NodeInfo(root.p1_dice - 1, root.p2_dice, 1)\n",
    "        print(p1_lose)\n",
    "        root.left = game_tree(p1_lose)\n",
    "        \n",
    "        p2_lose = NodeInfo(root.p1_dice, root.p2_dice - 1, 2)\n",
    "        print(p2_lose)\n",
    "        root.right = game_tree(p1_lose)\n",
    "        \n",
    "        return root\n",
    "\n",
    "\n",
    "def traverse(root):\n",
    "    traverse(root.left)\n",
    "    print(root)\n",
    "    traverse(root.right)\n",
    "        \n",
    "game_22 = NodeInfo(2, 2, 1)"
   ]
  },
  {
   "cell_type": "code",
   "execution_count": null,
   "metadata": {},
   "outputs": [],
   "source": []
  }
 ],
 "metadata": {
  "hide_input": false,
  "kernelspec": {
   "display_name": "Python 3",
   "language": "python",
   "name": "python3"
  },
  "language_info": {
   "codemirror_mode": {
    "name": "ipython",
    "version": 3
   },
   "file_extension": ".py",
   "mimetype": "text/x-python",
   "name": "python",
   "nbconvert_exporter": "python",
   "pygments_lexer": "ipython3",
   "version": "3.7.3"
  },
  "toc": {
   "base_numbering": 1,
   "nav_menu": {},
   "number_sections": true,
   "sideBar": true,
   "skip_h1_title": false,
   "title_cell": "Table of Contents",
   "title_sidebar": "Contents",
   "toc_cell": false,
   "toc_position": {},
   "toc_section_display": true,
   "toc_window_display": false
  }
 },
 "nbformat": 4,
 "nbformat_minor": 2
}
