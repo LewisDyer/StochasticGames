{
 "cells": [
  {
   "cell_type": "code",
   "execution_count": 15,
   "metadata": {
    "ExecuteTime": {
     "end_time": "2020-12-14T16:52:36.686302Z",
     "start_time": "2020-12-14T16:52:36.304172Z"
    }
   },
   "outputs": [
    {
     "name": "stdout",
     "output_type": "stream",
     "text": [
      "PRISM-games\n",
      "===========\n",
      "\n",
      "Version: 3.0 (based on PRISM 4.6)\n",
      "Date: Mon Dec 14 16:52:36 GMT 2020\n",
      "Hostname: DESKTOP-LDYER\n",
      "Memory limits: cudd=1g, java(heap)=1g\n",
      "Command line: prism-games\n",
      "Usage: prism-games [options] <model-file> [<properties-file>] [more-options]\n",
      "\n",
      "For more information, type: prism -help\n"
     ]
    }
   ],
   "source": [
    "!prism"
   ]
  },
  {
   "cell_type": "code",
   "execution_count": 16,
   "metadata": {
    "ExecuteTime": {
     "end_time": "2020-12-14T16:54:52.320266Z",
     "start_time": "2020-12-14T16:54:52.162215Z"
    }
   },
   "outputs": [
    {
     "name": "stderr",
     "output_type": "stream",
     "text": [
      "Error: Could not find or load main class prism.PrismCL\n",
      "Caused by: java.lang.ClassNotFoundException: prism.PrismCL\n"
     ]
    }
   ],
   "source": [
    "!prism-ext"
   ]
  },
  {
   "cell_type": "code",
   "execution_count": null,
   "metadata": {},
   "outputs": [],
   "source": []
  }
 ],
 "metadata": {
  "hide_input": false,
  "kernelspec": {
   "display_name": "Python 3",
   "language": "python",
   "name": "python3"
  },
  "language_info": {
   "codemirror_mode": {
    "name": "ipython",
    "version": 3
   },
   "file_extension": ".py",
   "mimetype": "text/x-python",
   "name": "python",
   "nbconvert_exporter": "python",
   "pygments_lexer": "ipython3",
   "version": "3.7.3"
  },
  "toc": {
   "base_numbering": 1,
   "nav_menu": {},
   "number_sections": true,
   "sideBar": true,
   "skip_h1_title": false,
   "title_cell": "Table of Contents",
   "title_sidebar": "Contents",
   "toc_cell": false,
   "toc_position": {},
   "toc_section_display": true,
   "toc_window_display": false
  }
 },
 "nbformat": 4,
 "nbformat_minor": 2
}
