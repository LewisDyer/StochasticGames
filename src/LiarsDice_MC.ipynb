{
 "cells": [
  {
   "cell_type": "markdown",
   "metadata": {
    "ExecuteTime": {
     "end_time": "2020-12-15T10:35:33.521972Z",
     "start_time": "2020-12-15T10:35:33.505996Z"
    }
   },
   "source": [
    "## Utils for Jupyter notebooks"
   ]
  },
  {
   "cell_type": "code",
   "execution_count": 1,
   "metadata": {
    "ExecuteTime": {
     "end_time": "2020-12-15T15:58:22.419072Z",
     "start_time": "2020-12-15T15:58:22.406190Z"
    }
   },
   "outputs": [],
   "source": [
    "# Show/Hide code button\n",
    "\n",
    "from IPython.display import HTML\n",
    "\n",
    "HTML('''<script>\n",
    "code_show=true; \n",
    "function code_toggle() {\n",
    " if (code_show){\n",
    " $('div.input').hide();\n",
    " } else {\n",
    " $('div.input').show();\n",
    " }\n",
    " code_show = !code_show\n",
    "} \n",
    "$( document ).ready(code_toggle);\n",
    "</script>\n",
    "<form action=\"javascript:code_toggle()\"><input type=\"submit\" value=\"Show Code\"></form>''')"
   ]
  },
  {
   "cell_type": "code",
   "execution_count": 7,
   "metadata": {
    "ExecuteTime": {
     "end_time": "2020-12-15T16:00:26.247897Z",
     "start_time": "2020-12-15T16:00:26.234358Z"
    }
   },
   "outputs": [],
   "source": [
    "# magic command to store Python variables in csv file\n",
    "# credit to sirex, https://github.com/ipython/ipython/issues/6701\n",
    "from IPython.core.magic import register_line_cell_magic\n",
    "\n",
    "@register_line_cell_magic\n",
    "def writetemplate(line, cell):\n",
    "    with open(line, 'w') as f:\n",
    "        f.write(cell.format(**globals()))"
   ]
  },
  {
   "cell_type": "markdown",
   "metadata": {},
   "source": [
    "# Generate model"
   ]
  },
  {
   "cell_type": "code",
   "execution_count": 13,
   "metadata": {
    "ExecuteTime": {
     "end_time": "2020-12-15T16:02:37.962280Z",
     "start_time": "2020-12-15T16:02:37.952271Z"
    }
   },
   "outputs": [],
   "source": [
    "# Edit this cell to define parameters for your model\n",
    "p1_dice = 2 # how many dice player 1 starts with\n",
    "p2_dice = 2 # how many dice player 2 starts with\n",
    "starting_player = 1 # determines which player starts/makes the first bid\n",
    "start_bid_strat = 1 # strategy for initial bid\n",
    "p1_strat = 1 # defines a player's strategy (for bidding/challenging)\n",
    "p2_strat = 1\n",
    "\n",
    "model_spec = f\"ld_{p1_dice}-{p2_dice}_{p1_strat}_{p2_strat}_{starting_player}_{start_bid_strat}\""
   ]
  },
  {
   "cell_type": "code",
   "execution_count": 14,
   "metadata": {
    "ExecuteTime": {
     "end_time": "2020-12-15T16:02:38.244311Z",
     "start_time": "2020-12-15T16:02:38.240308Z"
    }
   },
   "outputs": [],
   "source": [
    "%%writetemplate LiarsDice/params/{model_spec}.csv\n",
    "p1_die, {p1_dice}\n",
    "p1_strat, {p1_strat}\n",
    "p2_die, {p2_dice}\n",
    "p2_strat, {p2_strat}\n",
    "start_player, {starting_player}\n",
    "start_bid_strat, {start_bid_strat}\n",
    "p1, 1\n",
    "p2, 2"
   ]
  },
  {
   "cell_type": "code",
   "execution_count": 15,
   "metadata": {
    "ExecuteTime": {
     "end_time": "2020-12-15T16:02:38.721488Z",
     "start_time": "2020-12-15T16:02:38.607473Z"
    }
   },
   "outputs": [
    {
     "name": "stderr",
     "output_type": "stream",
     "text": [
      "A subdirectory or file LiarsDice/models/ld_2-2_1_1_1_1 already exists.\n"
     ]
    },
    {
     "name": "stdout",
     "output_type": "stream",
     "text": [
      "Model generated successfully at LiarsDice\\models\\ld_2-2_1_1_1_1\\ld_2-2_1_1_1_1.prism\n"
     ]
    }
   ],
   "source": [
    "!mkdir \"LiarsDice/models/$model_spec\"\n",
    "\n",
    "output_model = f\"LiarsDice/models/{model_spec}/{model_spec}.prism\"\n",
    "\n",
    "!python utils/pyprism.py LiarsDice/LiarsDice.pyprism $output_model LiarsDice/params/{model_spec}.csv"
   ]
  },
  {
   "cell_type": "markdown",
   "metadata": {},
   "source": [
    "# Verify properties, save to files"
   ]
  },
  {
   "cell_type": "code",
   "execution_count": 16,
   "metadata": {
    "ExecuteTime": {
     "end_time": "2020-12-15T16:04:27.437003Z",
     "start_time": "2020-12-15T16:02:39.592471Z"
    }
   },
   "outputs": [
    {
     "name": "stdout",
     "output_type": "stream",
     "text": [
      "PRISM\n",
      "=====\n",
      "\n",
      "Version: 4.4.pomdps\n",
      "Date: Tue Dec 15 16:02:39 GMT 2020\n",
      "Hostname: DESKTOP-LDYER\n",
      "Memory limits: cudd=1g, java(heap)=1g\n",
      "Command line: prism LiarsDice/models/ld_2-2_1_1_1_1/ld_2-2_1_1_1_1.prism LiarsDice/LD_manual.props -prop 1 -const 'p1_c=0.5,p2_c=0.5' -gridresolution 1 -exportresults 'testfile.csv:csv'\n",
      "\n",
      "Parsing model file \"LiarsDice/models/ld_2-2_1_1_1_1/ld_2-2_1_1_1_1.prism\"...\n",
      "\n",
      "Parsing properties file \"LiarsDice/LD_manual.props\"...\n",
      "\n",
      "6 properties:\n",
      "(1) Pmax=? [ F \"game_over\" ]\n",
      "(2) Pmax=? [ F \"p1_loses\" ]\n",
      "(3) Pmax=? [ F \"p2_loses\" ]\n",
      "(4) Pmin=? [ F \"game_over\" ]\n",
      "(5) Pmin=? [ F \"p1_loses\" ]\n",
      "(6) Pmin=? [ F \"p2_loses\" ]\n",
      "\n",
      "Type:        POMDP\n",
      "Modules:     player1 player2 controller \n",
      "Variables:   p1_d1 p1_d2 p1_bid_face p1_bid_quat (p2_d1) (p2_d2) p2_bid_face p2_bid_quat phase made_challenge challenge_correct \n",
      "\n",
      "Switching to explicit engine\n",
      "\n",
      "---------------------------------------------------------------------\n",
      "\n",
      "Model checking: Pmax=? [ F \"game_over\" ]\n",
      "Model constants: p1_c=0.5,p2_c=0.5\n",
      "\n",
      "Building model...\n",
      "Model constants: p1_c=0.5,p2_c=0.5\n",
      "\n",
      "Computing reachable states...\n",
      " 65629 states\n",
      "Reachable states exploration and model construction done in 0.41 secs.\n",
      "Sorting reachable states list...\n",
      "\n",
      "Time for model construction: 1.414 seconds.\n",
      "\n",
      "Warning: Deadlocks detected and fixed in 15156 states\n",
      "\n",
      "Type:        POMDP\n",
      "States:        65629 (1 initial)\n",
      "Transitions:   81216\n",
      "Choices:       78841\n",
      "Max/avg:       2/1.20\n",
      "Observables:   2159\n",
      "Unobservables: 43\n",
      "\n",
      "Starting probabilistic reachability (max)...\n",
      "Starting fixed-resolution grid approximation (max)...\n",
      "Grid statistics: resolution=1, points=65629, unknown points=50473\n",
      "Building belief space approximation...\n",
      "Solving belief space approximation...\n",
      "\n",
      "Strategy DTMC:\n",
      "States:      451 (1 initial)\n",
      "Transitions: 452\n",
      "Choices:     362\n",
      "Max/avg:     1/0.80\n",
      "\n",
      "Starting probabilistic reachability (min)...\n",
      "Starting Prob0 (min)...\n",
      "Prob0 (min) took 9 iterations and 0.007 seconds.\n",
      "Starting Prob1 (min)...\n",
      "Prob1 (min) took 9 iterations and 0.003 seconds.\n",
      "target=89, yes=451, no=0, maybe=0\n",
      "Probabilistic reachability took 0.018 seconds.\n",
      "Outer bound: 1.0000000000000002\n",
      "Inner bound: 1.0\n",
      "Fixed-resolution grid approximation (max) took 11 iterations and 105.463 seconds.\n",
      "Probabilistic reachability took 105.464 seconds.\n",
      "\n",
      "Value in the initial state: 1.0000000000000002\n",
      "\n",
      "Time for model checking: 105.476 seconds.\n",
      "\n",
      "Result: 1.0000000000000002 (value in the initial state)\n",
      "\n",
      "Exporting results to file \"testfile.csv\"...\n",
      "\n",
      "---------------------------------------------------------------------\n",
      "\n",
      "Note: There was 1 warning during computation.\n",
      "\n"
     ]
    }
   ],
   "source": [
    "props_file = \"LiarsDice/LD_manual.props\"\n",
    "\n",
    "!prism-ext $output_model $props_file -prop 1 -const p1_c=0.5,p2_c=0.5 -gridresolution 1 -exportresults \"testfile.csv\":csv"
   ]
  },
  {
   "cell_type": "code",
   "execution_count": null,
   "metadata": {},
   "outputs": [],
   "source": []
  }
 ],
 "metadata": {
  "hide_input": false,
  "kernelspec": {
   "display_name": "Python 3",
   "language": "python",
   "name": "python3"
  },
  "language_info": {
   "codemirror_mode": {
    "name": "ipython",
    "version": 3
   },
   "file_extension": ".py",
   "mimetype": "text/x-python",
   "name": "python",
   "nbconvert_exporter": "python",
   "pygments_lexer": "ipython3",
   "version": "3.7.3"
  },
  "toc": {
   "base_numbering": 1,
   "nav_menu": {},
   "number_sections": true,
   "sideBar": true,
   "skip_h1_title": false,
   "title_cell": "Table of Contents",
   "title_sidebar": "Contents",
   "toc_cell": false,
   "toc_position": {},
   "toc_section_display": true,
   "toc_window_display": false
  }
 },
 "nbformat": 4,
 "nbformat_minor": 2
}
