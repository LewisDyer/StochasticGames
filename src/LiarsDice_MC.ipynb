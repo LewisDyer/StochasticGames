{
 "cells": [
  {
   "cell_type": "markdown",
   "metadata": {
    "ExecuteTime": {
     "end_time": "2020-12-15T10:35:33.521972Z",
     "start_time": "2020-12-15T10:35:33.505996Z"
    }
   },
   "source": [
    "## Utils for Jupyter notebooks"
   ]
  },
  {
   "cell_type": "code",
   "execution_count": 5,
   "metadata": {
    "ExecuteTime": {
     "end_time": "2021-03-31T12:55:56.078514Z",
     "start_time": "2021-03-31T12:55:56.062495Z"
    }
   },
   "outputs": [
    {
     "data": {
      "text/html": [
       "<script>\n",
       "code_show=true; \n",
       "function code_toggle() {\n",
       " if (code_show){\n",
       " $('div.input').hide();\n",
       " } else {\n",
       " $('div.input').show();\n",
       " }\n",
       " code_show = !code_show\n",
       "} \n",
       "$( document ).ready(code_toggle);\n",
       "</script>\n",
       "<form action=\"javascript:code_toggle()\"><input type=\"submit\" value=\"Show Code\"></form>"
      ],
      "text/plain": [
       "<IPython.core.display.HTML object>"
      ]
     },
     "execution_count": 5,
     "metadata": {},
     "output_type": "execute_result"
    }
   ],
   "source": [
    "# Show/Hide code button\n",
    "\n",
    "from IPython.display import HTML\n",
    "\n",
    "HTML('''<script>\n",
    "code_show=true; \n",
    "function code_toggle() {\n",
    " if (code_show){\n",
    " $('div.input').hide();\n",
    " } else {\n",
    " $('div.input').show();\n",
    " }\n",
    " code_show = !code_show\n",
    "} \n",
    "$( document ).ready(code_toggle);\n",
    "</script>\n",
    "<form action=\"javascript:code_toggle()\"><input type=\"submit\" value=\"Show Code\"></form>''')"
   ]
  },
  {
   "cell_type": "code",
   "execution_count": 1,
   "metadata": {
    "ExecuteTime": {
     "end_time": "2021-04-01T08:13:05.922121Z",
     "start_time": "2021-04-01T08:13:05.913128Z"
    }
   },
   "outputs": [],
   "source": [
    "# magic command to store Python variables in csv file\n",
    "# credit to sirex, https://github.com/ipython/ipython/issues/6701\n",
    "from IPython.core.magic import register_line_cell_magic\n",
    "\n",
    "@register_line_cell_magic\n",
    "def writetemplate(line, cell):\n",
    "    with open(line, 'w') as f:\n",
    "        f.write(cell.format(**globals()))"
   ]
  },
  {
   "cell_type": "markdown",
   "metadata": {},
   "source": [
    "# Generate model"
   ]
  },
  {
   "cell_type": "code",
   "execution_count": 7,
   "metadata": {
    "ExecuteTime": {
     "end_time": "2021-04-01T08:16:03.583076Z",
     "start_time": "2021-04-01T08:16:03.576035Z"
    }
   },
   "outputs": [],
   "source": [
    "# Edit this cell to define parameters for your model\n",
    "p1_dice = 2 # how many dice player 1 starts with\n",
    "p2_dice = 2 # how many dice player 2 starts with\n",
    "p1_bid_strat = 2 # defines a player's strategy (for bidding)\n",
    "p1_cha_strat = 1 # strategy for challenging\n",
    "p2_bid_strat = 2\n",
    "p2_cha_strat = 1\n",
    "starting_player = 1 # determines which player starts/makes the first bid\n",
    "start_bid_strat = 1 # strategy for initial bid\n",
    "\n",
    "model_spec = f\"ld_{p1_dice}-{p2_dice}_{p1_bid_strat}_{p1_cha_strat}_{p2_bid_strat}_{p2_cha_strat}_{starting_player}_{start_bid_strat}\""
   ]
  },
  {
   "cell_type": "code",
   "execution_count": 8,
   "metadata": {
    "ExecuteTime": {
     "end_time": "2021-04-01T08:16:03.801904Z",
     "start_time": "2021-04-01T08:16:03.797900Z"
    }
   },
   "outputs": [],
   "source": [
    "%%writetemplate LiarsDice/params/{model_spec}.csv\n",
    "p1_die, {p1_dice}\n",
    "p1_bid_strat, {p1_bid_strat}\n",
    "p1_cha_strat, {p1_cha_strat}\n",
    "p2_die, {p2_dice}\n",
    "p2_bid_strat, {p2_bid_strat}\n",
    "p2_cha_strat, {p2_cha_strat}\n",
    "start_player, {starting_player}\n",
    "start_bid_strat, {start_bid_strat}\n",
    "p1, 1\n",
    "p2, 2"
   ]
  },
  {
   "cell_type": "code",
   "execution_count": 9,
   "metadata": {
    "ExecuteTime": {
     "end_time": "2021-04-01T08:16:04.233549Z",
     "start_time": "2021-04-01T08:16:04.113323Z"
    }
   },
   "outputs": [
    {
     "name": "stdout",
     "output_type": "stream",
     "text": [
      "Model generated successfully at LiarsDice\\models\\ld_2-2_2_1_2_1_1_1\\ld_2-2_2_1_2_1_1_1.prism\n"
     ]
    }
   ],
   "source": [
    "!mkdir \"LiarsDice/models/$model_spec\"\n",
    "\n",
    "output_model = f\"LiarsDice/models/{model_spec}/{model_spec}.prism\"\n",
    "\n",
    "!python utils/pyprism.py LiarsDice/LiarsDice.pyprism $output_model LiarsDice/params/{model_spec}.csv"
   ]
  },
  {
   "cell_type": "markdown",
   "metadata": {},
   "source": [
    "# Verify properties, save to files"
   ]
  },
  {
   "cell_type": "code",
   "execution_count": 10,
   "metadata": {
    "ExecuteTime": {
     "end_time": "2021-04-01T08:30:17.339400Z",
     "start_time": "2021-04-01T08:16:07.064342Z"
    }
   },
   "outputs": [
    {
     "name": "stdout",
     "output_type": "stream",
     "text": [
      "PRISM\n",
      "=====\n",
      "\n",
      "Version: 4.4.pomdps\n",
      "Date: Thu Apr 01 09:16:07 BST 2021\n",
      "Hostname: DESKTOP-LDYER\n",
      "Memory limits: cudd=1g, java(heap)=1g\n",
      "Command line: prism LiarsDice/models/ld_2-2_2_1_2_1_1_1/ld_2-2_2_1_2_1_1_1.prism LiarsDice/LD_manual.props -prop 3 -const 'p1_c=0.5,p2_c=0.5' -gridresolution 1 -exportresults 'LiarsDice/data/ld_2-2_2_1_2_1_1_1/ld_2-2_2_1_2_1_1_1_p1_win_round.csv:csv'\n",
      "\n",
      "Parsing model file \"LiarsDice/models/ld_2-2_2_1_2_1_1_1/ld_2-2_2_1_2_1_1_1.prism\"...\n",
      "\n",
      "Parsing properties file \"LiarsDice/LD_manual.props\"...\n",
      "\n",
      "6 properties:\n",
      "(1) Pmax=? [ F \"game_over\" ]\n",
      "(2) Pmax=? [ F \"p1_loses\" ]\n",
      "(3) Pmax=? [ F \"p2_loses\" ]\n",
      "(4) Pmin=? [ F \"game_over\" ]\n",
      "(5) Pmin=? [ F \"p1_loses\" ]\n",
      "(6) Pmin=? [ F \"p2_loses\" ]\n",
      "\n",
      "Type:        POMDP\n",
      "Modules:     player1 player2 controller \n",
      "Variables:   p1_d1 p1_d2 p1_bid_face p1_bid_quat (p2_d1) (p2_d2) p2_bid_face p2_bid_quat phase made_challenge challenge_correct \n",
      "\n",
      "Switching to explicit engine\n",
      "\n",
      "---------------------------------------------------------------------\n",
      "\n",
      "Model checking: Pmax=? [ F \"p2_loses\" ]\n",
      "Model constants: p1_c=0.5,p2_c=0.5\n",
      "\n",
      "Building model...\n",
      "Model constants: p1_c=0.5,p2_c=0.5\n",
      "\n",
      "Computing reachable states...\n",
      " 163333 states\n",
      "Reachable states exploration and model construction done in 0.95 secs.\n",
      "Sorting reachable states list...\n",
      "\n",
      "Time for model construction: 4.494 seconds.\n",
      "\n",
      "Warning: Deadlocks detected and fixed in 40176 states\n",
      "\n",
      "Type:        POMDP\n",
      "States:        163333 (1 initial)\n",
      "Transitions:   207396\n",
      "Choices:       176293\n",
      "Max/avg:       2/1.08\n",
      "Observables:   5685\n",
      "Unobservables: 43\n",
      "\n",
      "Starting probabilistic reachability (max)...\n",
      "Starting fixed-resolution grid approximation (max)...\n",
      "Grid statistics: resolution=1, points=163333, unknown points=135882\n",
      "Building belief space approximation...\n",
      "Solving belief space approximation...\n",
      "\n",
      "Strategy DTMC:\n",
      "States:      4172 (1 initial)\n",
      "Transitions: 4673\n",
      "Choices:     3436\n",
      "Max/avg:     1/0.82\n",
      "\n",
      "Starting probabilistic reachability (min)...\n",
      "Starting Prob0 (min)...\n",
      "Prob0 (min) took 8 iterations and 0.024 seconds.\n",
      "Starting Prob1 (min)...\n",
      "Prob1 (min) took 30 iterations and 0.051 seconds.\n",
      "target=736, yes=2201, no=1131, maybe=840\n",
      "Starting value iteration (min, with Power method)...\n",
      "Value iteration (min, with Power method) took 8 iterations, 16616 multiplications and 0.014 seconds.\n",
      "Probabilistic reachability took 0.108 seconds.\n",
      "Outer bound: 0.8624614398148238\n",
      "Inner bound: 0.7695473251028796\n",
      "Fixed-resolution grid approximation (max) took 10 iterations and 844.76 seconds.\n",
      "Probabilistic reachability took 844.762 seconds.\n",
      "\n",
      "Value in the initial state: 0.8624614398148238\n",
      "\n",
      "Time for model checking: 844.785 seconds.\n",
      "\n",
      "Result: 0.8624614398148238 (value in the initial state)\n",
      "\n",
      "Exporting results to file \"LiarsDice/data/ld_2-2_2_1_2_1_1_1/ld_2-2_2_1_2_1_1_1_p1_win_round.csv\"...\n",
      "\n",
      "---------------------------------------------------------------------\n",
      "\n",
      "Note: There was 1 warning during computation.\n",
      "\n"
     ]
    }
   ],
   "source": [
    "props_file = \"LiarsDice/LD_manual.props\"\n",
    "\n",
    "!mkdir \"LiarsDice/data/$model_spec\"\n",
    "!prism-ext {output_model} $props_file -prop 3 -const p1_c=0.5,p2_c=0.5 -gridresolution 1 -exportresults LiarsDice/data/{model_spec}/{model_spec}_p1_win_round.csv:csv"
   ]
  },
  {
   "cell_type": "code",
   "execution_count": null,
   "metadata": {},
   "outputs": [],
   "source": []
  }
 ],
 "metadata": {
  "hide_input": false,
  "kernelspec": {
   "display_name": "Python 3",
   "language": "python",
   "name": "python3"
  },
  "language_info": {
   "codemirror_mode": {
    "name": "ipython",
    "version": 3
   },
   "file_extension": ".py",
   "mimetype": "text/x-python",
   "name": "python",
   "nbconvert_exporter": "python",
   "pygments_lexer": "ipython3",
   "version": "3.7.3"
  },
  "toc": {
   "base_numbering": 1,
   "nav_menu": {},
   "number_sections": true,
   "sideBar": true,
   "skip_h1_title": false,
   "title_cell": "Table of Contents",
   "title_sidebar": "Contents",
   "toc_cell": false,
   "toc_position": {},
   "toc_section_display": true,
   "toc_window_display": false
  }
 },
 "nbformat": 4,
 "nbformat_minor": 2
}
