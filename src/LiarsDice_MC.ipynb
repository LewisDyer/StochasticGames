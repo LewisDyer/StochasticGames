{
 "cells": [
  {
   "cell_type": "markdown",
   "metadata": {
    "ExecuteTime": {
     "end_time": "2020-12-15T10:35:33.521972Z",
     "start_time": "2020-12-15T10:35:33.505996Z"
    }
   },
   "source": [
    "## Utils for Jupyter notebooks"
   ]
  },
  {
   "cell_type": "code",
   "execution_count": 1,
   "metadata": {
    "ExecuteTime": {
     "end_time": "2020-12-16T11:01:12.171607Z",
     "start_time": "2020-12-16T11:01:12.158837Z"
    }
   },
   "outputs": [
    {
     "data": {
      "text/html": [
       "<script>\n",
       "code_show=true; \n",
       "function code_toggle() {\n",
       " if (code_show){\n",
       " $('div.input').hide();\n",
       " } else {\n",
       " $('div.input').show();\n",
       " }\n",
       " code_show = !code_show\n",
       "} \n",
       "$( document ).ready(code_toggle);\n",
       "</script>\n",
       "<form action=\"javascript:code_toggle()\"><input type=\"submit\" value=\"Show Code\"></form>"
      ],
      "text/plain": [
       "<IPython.core.display.HTML object>"
      ]
     },
     "execution_count": 1,
     "metadata": {},
     "output_type": "execute_result"
    }
   ],
   "source": [
    "# Show/Hide code button\n",
    "\n",
    "from IPython.display import HTML\n",
    "\n",
    "HTML('''<script>\n",
    "code_show=true; \n",
    "function code_toggle() {\n",
    " if (code_show){\n",
    " $('div.input').hide();\n",
    " } else {\n",
    " $('div.input').show();\n",
    " }\n",
    " code_show = !code_show\n",
    "} \n",
    "$( document ).ready(code_toggle);\n",
    "</script>\n",
    "<form action=\"javascript:code_toggle()\"><input type=\"submit\" value=\"Show Code\"></form>''')"
   ]
  },
  {
   "cell_type": "code",
   "execution_count": 2,
   "metadata": {
    "ExecuteTime": {
     "end_time": "2020-12-18T10:05:58.395146Z",
     "start_time": "2020-12-18T10:05:58.379963Z"
    }
   },
   "outputs": [],
   "source": [
    "# magic command to store Python variables in csv file\n",
    "# credit to sirex, https://github.com/ipython/ipython/issues/6701\n",
    "from IPython.core.magic import register_line_cell_magic\n",
    "\n",
    "@register_line_cell_magic\n",
    "def writetemplate(line, cell):\n",
    "    with open(line, 'w') as f:\n",
    "        f.write(cell.format(**globals()))"
   ]
  },
  {
   "cell_type": "markdown",
   "metadata": {},
   "source": [
    "# Generate model"
   ]
  },
  {
   "cell_type": "code",
   "execution_count": 56,
   "metadata": {
    "ExecuteTime": {
     "end_time": "2020-12-18T16:58:47.442987Z",
     "start_time": "2020-12-18T16:58:47.426966Z"
    }
   },
   "outputs": [],
   "source": [
    "# Edit this cell to define parameters for your model\n",
    "p1_dice = 2 # how many dice player 1 starts with\n",
    "p2_dice = 1 # how many dice player 2 starts with\n",
    "p1_bid_strat = 0 # defines a player's strategy (for bidding)\n",
    "p1_cha_strat = 0 # strategy for challenging\n",
    "p2_bid_strat = 1\n",
    "p2_cha_strat = 1\n",
    "starting_player = 2 # determines which player starts/makes the first bid\n",
    "start_bid_strat = 1 # strategy for initial bid\n",
    "\n",
    "model_spec = f\"ld_{p1_dice}-{p2_dice}_{p1_bid_strat}_{p1_cha_strat}_{p2_bid_strat}_{p2_cha_strat}_{starting_player}_{start_bid_strat}\""
   ]
  },
  {
   "cell_type": "code",
   "execution_count": 57,
   "metadata": {
    "ExecuteTime": {
     "end_time": "2020-12-18T16:58:47.690825Z",
     "start_time": "2020-12-18T16:58:47.675807Z"
    }
   },
   "outputs": [],
   "source": [
    "%%writetemplate LiarsDice/params/{model_spec}.csv\n",
    "p1_die, {p1_dice}\n",
    "p1_bid_strat, {p1_bid_strat}\n",
    "p1_cha_strat, {p1_cha_strat}\n",
    "p2_die, {p2_dice}\n",
    "p2_bid_strat, {p2_bid_strat}\n",
    "p2_cha_strat, {p2_cha_strat}\n",
    "start_player, {starting_player}\n",
    "start_bid_strat, {start_bid_strat}\n",
    "p1, 1\n",
    "p2, 2"
   ]
  },
  {
   "cell_type": "code",
   "execution_count": 58,
   "metadata": {
    "ExecuteTime": {
     "end_time": "2020-12-18T16:58:48.047308Z",
     "start_time": "2020-12-18T16:58:47.938852Z"
    }
   },
   "outputs": [
    {
     "name": "stdout",
     "output_type": "stream",
     "text": [
      "Model generated successfully at LiarsDice\\models\\ld_2-1_0_0_1_1_2_1\\ld_2-1_0_0_1_1_2_1.prism\n"
     ]
    }
   ],
   "source": [
    "!mkdir \"LiarsDice/models/$model_spec\"\n",
    "\n",
    "output_model = f\"LiarsDice/models/{model_spec}/{model_spec}.prism\"\n",
    "\n",
    "!python utils/pyprism.py LiarsDice/LiarsDice.pyprism $output_model LiarsDice/params/{model_spec}.csv"
   ]
  },
  {
   "cell_type": "markdown",
   "metadata": {},
   "source": [
    "# Verify properties, save to files"
   ]
  },
  {
   "cell_type": "code",
   "execution_count": 59,
   "metadata": {
    "ExecuteTime": {
     "end_time": "2020-12-18T16:58:52.074431Z",
     "start_time": "2020-12-18T16:58:49.252033Z"
    }
   },
   "outputs": [
    {
     "name": "stdout",
     "output_type": "stream",
     "text": [
      "PRISM\n",
      "=====\n",
      "\n",
      "Version: 4.4.pomdps\n",
      "Date: Fri Dec 18 16:58:49 GMT 2020\n",
      "Hostname: DESKTOP-LDYER\n",
      "Memory limits: cudd=1g, java(heap)=1g\n",
      "Command line: prism LiarsDice/models/ld_2-1_0_0_1_1_2_1/ld_2-1_0_0_1_1_2_1.prism LiarsDice/LD_manual.props -prop 3 -const p2_c=0.5 -gridresolution 1 -exportresults 'LiarsDice/data/ld_2-1_0_0_1_1_2_1/ld_2-1_0_0_1_1_2_1_p1_win_round.csv:csv'\n",
      "\n",
      "Parsing model file \"LiarsDice/models/ld_2-1_0_0_1_1_2_1/ld_2-1_0_0_1_1_2_1.prism\"...\n",
      "\n",
      "Parsing properties file \"LiarsDice/LD_manual.props\"...\n",
      "\n",
      "6 properties:\n",
      "(1) Pmax=? [ F \"game_over\" ]\n",
      "(2) Pmax=? [ F \"p1_loses\" ]\n",
      "(3) Pmax=? [ F \"p2_loses\" ]\n",
      "(4) Pmin=? [ F \"game_over\" ]\n",
      "(5) Pmin=? [ F \"p1_loses\" ]\n",
      "(6) Pmin=? [ F \"p2_loses\" ]\n",
      "\n",
      "Type:        POMDP\n",
      "Modules:     player1 player2 controller \n",
      "Variables:   p1_d1 p1_d2 p1_bid_face p1_bid_quat (p2_d1) p2_bid_face p2_bid_quat phase made_challenge challenge_correct \n",
      "\n",
      "Switching to explicit engine\n",
      "\n",
      "---------------------------------------------------------------------\n",
      "\n",
      "Model checking: Pmax=? [ F \"p2_loses\" ]\n",
      "Model constants: p2_c=0.5\n",
      "\n",
      "Building model...\n",
      "Model constants: p2_c=0.5\n",
      "\n",
      "Computing reachable states...\n",
      " 5401 states\n",
      "Reachable states exploration and model construction done in 0.13 secs.\n",
      "Sorting reachable states list...\n",
      "\n",
      "Time for model construction: 0.258 seconds.\n",
      "\n",
      "Warning: Deadlocks detected and fixed in 1080 states\n",
      "\n",
      "Type:        POMDP\n",
      "States:        5401 (1 initial)\n",
      "Transitions:   6732\n",
      "Choices:       6517\n",
      "Max/avg:       2/1.21\n",
      "Observables:   3827\n",
      "Unobservables: 7\n",
      "\n",
      "Starting probabilistic reachability (max)...\n",
      "Starting fixed-resolution grid approximation (max)...\n",
      "Grid statistics: resolution=1, points=5401, unknown points=4529\n",
      "Building belief space approximation...\n",
      "Solving belief space approximation...\n",
      "\n",
      "Strategy DTMC:\n",
      "States:      1247 (1 initial)\n",
      "Transitions: 1250\n",
      "Choices:     1035\n",
      "Max/avg:     1/0.83\n",
      "\n",
      "Starting probabilistic reachability (min)...\n",
      "Starting Prob0 (min)...\n",
      "Prob0 (min) took 9 iterations and 0.009 seconds.\n",
      "Starting Prob1 (min)...\n",
      "Prob1 (min) took 43 iterations and 0.025 seconds.\n",
      "target=212, yes=1215, no=20, maybe=12\n",
      "Starting value iteration (min, with Power method)...\n",
      "Value iteration (min, with Power method) took 5 iterations, 260 multiplications and 0.005 seconds.\n",
      "Probabilistic reachability took 0.051 seconds.\n",
      "Outer bound: 0.9814815\n",
      "Inner bound: 0.9814814814814816\n",
      "Fixed-resolution grid approximation (max) took 11 iterations and 1.581 seconds.\n",
      "Probabilistic reachability took 1.582 seconds.\n",
      "\n",
      "Value in the initial state: 0.9814815\n",
      "\n",
      "Time for model checking: 1.588 seconds.\n",
      "\n",
      "Result: 0.9814815 (value in the initial state)\n",
      "\n",
      "Exporting results to file \"LiarsDice/data/ld_2-1_0_0_1_1_2_1/ld_2-1_0_0_1_1_2_1_p1_win_round.csv\"...\n",
      "\n",
      "---------------------------------------------------------------------\n",
      "\n",
      "Note: There was 1 warning during computation.\n",
      "\n"
     ]
    }
   ],
   "source": [
    "props_file = \"LiarsDice/LD_manual.props\"\n",
    "\n",
    "\n",
    "!mkdir \"LiarsDice/data/$model_spec\"\n",
    "!prism-ext {output_model} $props_file -prop 3 -const p2_c=0.5 -gridresolution 1 -exportresults LiarsDice/data/{model_spec}/{model_spec}_p1_win_round.csv:csv"
   ]
  },
  {
   "cell_type": "code",
   "execution_count": null,
   "metadata": {},
   "outputs": [],
   "source": []
  }
 ],
 "metadata": {
  "hide_input": false,
  "kernelspec": {
   "display_name": "Python 3",
   "language": "python",
   "name": "python3"
  },
  "language_info": {
   "codemirror_mode": {
    "name": "ipython",
    "version": 3
   },
   "file_extension": ".py",
   "mimetype": "text/x-python",
   "name": "python",
   "nbconvert_exporter": "python",
   "pygments_lexer": "ipython3",
   "version": "3.7.3"
  },
  "toc": {
   "base_numbering": 1,
   "nav_menu": {},
   "number_sections": true,
   "sideBar": true,
   "skip_h1_title": false,
   "title_cell": "Table of Contents",
   "title_sidebar": "Contents",
   "toc_cell": false,
   "toc_position": {},
   "toc_section_display": true,
   "toc_window_display": false
  }
 },
 "nbformat": 4,
 "nbformat_minor": 2
}
