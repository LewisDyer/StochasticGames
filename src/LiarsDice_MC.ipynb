{
 "cells": [
  {
   "cell_type": "markdown",
   "metadata": {
    "ExecuteTime": {
     "end_time": "2020-12-15T10:35:33.521972Z",
     "start_time": "2020-12-15T10:35:33.505996Z"
    }
   },
   "source": [
    "## Utils for Jupyter notebooks"
   ]
  },
  {
   "cell_type": "code",
   "execution_count": 9,
   "metadata": {
    "ExecuteTime": {
     "end_time": "2021-04-07T12:06:14.226123Z",
     "start_time": "2021-04-07T12:06:14.210838Z"
    }
   },
   "outputs": [
    {
     "data": {
      "text/html": [
       "<script>\n",
       "code_show=true; \n",
       "function code_toggle() {\n",
       " if (code_show){\n",
       " $('div.input').hide();\n",
       " } else {\n",
       " $('div.input').show();\n",
       " }\n",
       " code_show = !code_show\n",
       "} \n",
       "$( document ).ready(code_toggle);\n",
       "</script>\n",
       "<form action=\"javascript:code_toggle()\"><input type=\"submit\" value=\"Show Code\"></form>"
      ],
      "text/plain": [
       "<IPython.core.display.HTML object>"
      ]
     },
     "execution_count": 9,
     "metadata": {},
     "output_type": "execute_result"
    }
   ],
   "source": [
    "# Show/Hide code button\n",
    "\n",
    "from IPython.display import HTML\n",
    "\n",
    "HTML('''<script>\n",
    "code_show=true; \n",
    "function code_toggle() {\n",
    " if (code_show){\n",
    " $('div.input').hide();\n",
    " } else {\n",
    " $('div.input').show();\n",
    " }\n",
    " code_show = !code_show\n",
    "} \n",
    "$( document ).ready(code_toggle);\n",
    "</script>\n",
    "<form action=\"javascript:code_toggle()\"><input type=\"submit\" value=\"Show Code\"></form>''')"
   ]
  },
  {
   "cell_type": "code",
   "execution_count": 11,
   "metadata": {
    "ExecuteTime": {
     "end_time": "2021-04-07T12:06:19.369621Z",
     "start_time": "2021-04-07T12:06:19.365616Z"
    }
   },
   "outputs": [],
   "source": [
    "# magic command to store Python variables in csv file\n",
    "# credit to sirex, https://github.com/ipython/ipython/issues/6701\n",
    "from IPython.core.magic import register_line_cell_magic\n",
    "\n",
    "@register_line_cell_magic\n",
    "def writetemplate(line, cell):\n",
    "    with open(line, 'w') as f:\n",
    "        f.write(cell.format(**globals()))"
   ]
  },
  {
   "cell_type": "markdown",
   "metadata": {},
   "source": [
    "# Generate model"
   ]
  },
  {
   "cell_type": "code",
   "execution_count": 12,
   "metadata": {
    "ExecuteTime": {
     "end_time": "2021-04-07T12:06:19.894643Z",
     "start_time": "2021-04-07T12:06:19.890640Z"
    }
   },
   "outputs": [],
   "source": [
    "# Edit this cell to define parameters for your model\n",
    "p1_dice = 1 # how many dice player 1 starts with\n",
    "p2_dice = 1 # how many dice player 2 starts with\n",
    "p1_bid_strat = 0 # defines a player's strategy (for bidding)\n",
    "p1_cha_strat = 0 # strategy for challenging\n",
    "p2_bid_strat = 1\n",
    "p2_cha_strat = 1\n",
    "starting_player = 1 # determines which player starts/makes the first bid\n",
    "start_bid_strat = 0 # strategy for initial bid\n",
    "\n",
    "model_spec = f\"ld_{p1_dice}-{p2_dice}_{p1_bid_strat}_{p1_cha_strat}_{p2_bid_strat}_{p2_cha_strat}_{starting_player}_{start_bid_strat}\""
   ]
  },
  {
   "cell_type": "code",
   "execution_count": 13,
   "metadata": {
    "ExecuteTime": {
     "end_time": "2021-04-07T12:06:20.874062Z",
     "start_time": "2021-04-07T12:06:20.862190Z"
    }
   },
   "outputs": [],
   "source": [
    "%%writetemplate LiarsDice/params/{model_spec}.csv\n",
    "p1_die, {p1_dice}\n",
    "p1_bid_strat, {p1_bid_strat}\n",
    "p1_cha_strat, {p1_cha_strat}\n",
    "p2_die, {p2_dice}\n",
    "p2_bid_strat, {p2_bid_strat}\n",
    "p2_cha_strat, {p2_cha_strat}\n",
    "start_player, {starting_player}\n",
    "start_bid_strat, {start_bid_strat}\n",
    "p1, 1\n",
    "p2, 2"
   ]
  },
  {
   "cell_type": "code",
   "execution_count": 14,
   "metadata": {
    "ExecuteTime": {
     "end_time": "2021-04-07T12:06:21.327001Z",
     "start_time": "2021-04-07T12:06:21.211261Z"
    }
   },
   "outputs": [
    {
     "name": "stderr",
     "output_type": "stream",
     "text": [
      "A subdirectory or file LiarsDice/models/ld_1-1_0_0_1_1_1_0 already exists.\n"
     ]
    },
    {
     "name": "stdout",
     "output_type": "stream",
     "text": [
      "Model generated successfully at LiarsDice\\models\\ld_1-1_0_0_1_1_1_0\\ld_1-1_0_0_1_1_1_0.prism\n"
     ]
    }
   ],
   "source": [
    "!mkdir \"LiarsDice/models/$model_spec\"\n",
    "\n",
    "output_model = f\"LiarsDice/models/{model_spec}/{model_spec}.prism\"\n",
    "\n",
    "!python utils/pyprism.py LiarsDice/LiarsDice.pyprism $output_model LiarsDice/params/{model_spec}.csv"
   ]
  },
  {
   "cell_type": "markdown",
   "metadata": {},
   "source": [
    "# Verify properties, save to files"
   ]
  },
  {
   "cell_type": "code",
   "execution_count": 21,
   "metadata": {
    "ExecuteTime": {
     "end_time": "2021-04-07T12:16:57.957861Z",
     "start_time": "2021-04-07T12:16:54.389517Z"
    }
   },
   "outputs": [
    {
     "name": "stderr",
     "output_type": "stream",
     "text": [
      "A subdirectory or file LiarsDice/data/ld_1-1_0_0_1_1_1_0 already exists.\n"
     ]
    },
    {
     "name": "stdout",
     "output_type": "stream",
     "text": [
      "PRISM\n",
      "=====\n",
      "\n",
      "Version: 4.4.pomdps\n",
      "Date: Wed Apr 07 13:16:54 BST 2021\n",
      "Hostname: DESKTOP-LDYER\n",
      "Memory limits: cudd=1g, java(heap)=1g\n",
      "Command line: prism LiarsDice/models/ld_1-1_0_0_1_1_1_0/ld_1-1_0_0_1_1_1_0.prism LiarsDice/LD_manual.props -prop 2 -const p2_c=0.75 -gridresolution 1 -exportresults 'LiarsDice/data/ld_1-1_0_0_1_1_1_0/ld_1-1_0_0_1_1_1_0_p1_win_round.csv:csv'\n",
      "\n",
      "Parsing model file \"LiarsDice/models/ld_1-1_0_0_1_1_1_0/ld_1-1_0_0_1_1_1_0.prism\"...\n",
      "\n",
      "Parsing properties file \"LiarsDice/LD_manual.props\"...\n",
      "\n",
      "6 properties:\n",
      "(1) Pmax=? [ F \"game_over\" ]\n",
      "(2) Pmax=? [ F \"p1_loses\" ]\n",
      "(3) Pmax=? [ F \"p2_loses\" ]\n",
      "(4) Pmin=? [ F \"game_over\" ]\n",
      "(5) Pmin=? [ F \"p1_loses\" ]\n",
      "(6) Pmin=? [ F \"p2_loses\" ]\n",
      "\n",
      "Type:        POMDP\n",
      "Modules:     player1 player2 controller \n",
      "Variables:   p1_d1 p1_bid_face p1_bid_quat (p2_d1) p2_bid_face p2_bid_quat phase made_challenge challenge_correct \n",
      "\n",
      "Switching to explicit engine\n",
      "\n",
      "---------------------------------------------------------------------\n",
      "\n",
      "Model checking: Pmax=? [ F \"p1_loses\" ]\n",
      "Model constants: p2_c=0.75\n",
      "\n",
      "Building model...\n",
      "Model constants: p2_c=0.75\n",
      "\n",
      "Computing reachable states...\n",
      " 5113 states\n",
      "Reachable states exploration and model construction done in 0.111 secs.\n",
      "Sorting reachable states list...\n",
      "\n",
      "Time for model construction: 0.193 seconds.\n",
      "\n",
      "Warning: Deadlocks detected and fixed in 1080 states\n",
      "\n",
      "Type:        POMDP\n",
      "States:        5113 (1 initial)\n",
      "Transitions:   11628\n",
      "Choices:       11593\n",
      "Max/avg:       13/2.27\n",
      "Observables:   1009\n",
      "Unobservables: 7\n",
      "\n",
      "Starting probabilistic reachability (max)...\n",
      "Starting fixed-resolution grid approximation (max)...\n",
      "Grid statistics: resolution=1, points=5113, unknown points=4849\n",
      "Building belief space approximation...\n",
      "Solving belief space approximation...\n",
      "\n",
      "Strategy DTMC:\n",
      "States:      55 (1 initial)\n",
      "Transitions: 54\n",
      "Choices:     49\n",
      "Max/avg:     1/0.89\n",
      "\n",
      "Starting probabilistic reachability (min)...\n",
      "Starting Prob0 (min)...\n",
      "Prob0 (min) took 12 iterations and 0.004 seconds.\n",
      "Starting Prob1 (min)...\n",
      "Prob1 (min) took 12 iterations and 0.001 seconds.\n",
      "target=6, yes=55, no=0, maybe=0\n",
      "Probabilistic reachability took 0.018 seconds.\n",
      "Outer bound: 1.0000000000000002\n",
      "Inner bound: 1.0\n",
      "Fixed-resolution grid approximation (max) took 8 iterations and 2.415 seconds.\n",
      "Probabilistic reachability took 2.416 seconds.\n",
      "\n",
      "Value in the initial state: 1.0000000000000002\n",
      "\n",
      "Time for model checking: 2.424 seconds.\n",
      "\n",
      "Result: 1.0000000000000002 (value in the initial state)\n",
      "\n",
      "Exporting results to file \"LiarsDice/data/ld_1-1_0_0_1_1_1_0/ld_1-1_0_0_1_1_1_0_p1_win_round.csv\"...\n",
      "\n",
      "---------------------------------------------------------------------\n",
      "\n",
      "Note: There was 1 warning during computation.\n",
      "\n"
     ]
    }
   ],
   "source": [
    "props_file = \"LiarsDice/LD_manual.props\"\n",
    "\n",
    "!mkdir \"LiarsDice/data/$model_spec\"\n",
    "!prism-ext {output_model} $props_file -prop 2 -const p2_c=0.75 -gridresolution 1 -exportresults LiarsDice/data/{model_spec}/{model_spec}_p1_win_round.csv:csv"
   ]
  },
  {
   "cell_type": "markdown",
   "metadata": {},
   "source": [
    "## Investigating optimal strategy against safe strategy in 1/1/P1 case (example)\n",
    "\n",
    "Note this section assumes the parameters mentioned in the title"
   ]
  },
  {
   "cell_type": "code",
   "execution_count": 32,
   "metadata": {
    "ExecuteTime": {
     "end_time": "2021-04-07T12:46:07.522152Z",
     "start_time": "2021-04-07T12:46:04.091726Z"
    }
   },
   "outputs": [
    {
     "name": "stderr",
     "output_type": "stream",
     "text": [
      "A subdirectory or file LiarsDice/data/ld_1-1_0_0_1_1_1_0 already exists.\n"
     ]
    },
    {
     "name": "stdout",
     "output_type": "stream",
     "text": [
      "PRISM\n",
      "=====\n",
      "\n",
      "Version: 4.4.pomdps\n",
      "Date: Wed Apr 07 13:46:04 BST 2021\n",
      "Hostname: DESKTOP-LDYER\n",
      "Memory limits: cudd=1g, java(heap)=1g\n",
      "Command line: prism LiarsDice/models/ld_1-1_0_0_1_1_1_0/ld_1-1_0_0_1_1_1_0.prism LiarsDice/LD_manual.props -prop 2 -const p2_c=0.75 -gridresolution 1 -exportadvmdp LiarsDice/data/ld_1-1_0_0_1_1_1_0/ld_1-1_0_0_1_1_1_0_safe_beat.tra -exportstates LiarsDice/data/ld_1-1_0_0_1_1_1_0/ld_1-1_0_0_1_1_1_0_safe_beat.sta -exportlabels LiarsDice/data/ld_1-1_0_0_1_1_1_0/ld_1-1_0_0_1_1_1_0_safe_beat.lab -exportresults 'LiarsDice/data/ld_1-1_0_0_1_1_1_0/ld_1-1_0_0_1_1_1_0_p1_win_round.csv:csv' -exportmodel LiarsDice/data/ld_1-1_0_0_1_1_1_0/ld_1-1_0_0_1_1_1_0_safe_beat.dot\n",
      "\n",
      "Parsing model file \"LiarsDice/models/ld_1-1_0_0_1_1_1_0/ld_1-1_0_0_1_1_1_0.prism\"...\n",
      "\n",
      "Parsing properties file \"LiarsDice/LD_manual.props\"...\n",
      "\n",
      "6 properties:\n",
      "(1) Pmax=? [ F \"game_over\" ]\n",
      "(2) Pmax=? [ F \"p1_loses\" ]\n",
      "(3) Pmax=? [ F \"p2_loses\" ]\n",
      "(4) Pmin=? [ F \"game_over\" ]\n",
      "(5) Pmin=? [ F \"p1_loses\" ]\n",
      "(6) Pmin=? [ F \"p2_loses\" ]\n",
      "\n",
      "Type:        POMDP\n",
      "Modules:     player1 player2 controller \n",
      "Variables:   p1_d1 p1_bid_face p1_bid_quat (p2_d1) p2_bid_face p2_bid_quat phase made_challenge challenge_correct \n",
      "\n",
      "Switching to explicit engine\n",
      "\n",
      "Building model...\n",
      "Model constants: p2_c=0.75\n",
      "\n",
      "Computing reachable states...\n",
      " 5113 states\n",
      "Reachable states exploration and model construction done in 0.129 secs.\n",
      "Sorting reachable states list...\n",
      "\n",
      "Time for model construction: 0.25 seconds.\n",
      "\n",
      "Warning: Deadlocks detected and fixed in 1080 states\n",
      "\n",
      "Type:        POMDP\n",
      "States:        5113 (1 initial)\n",
      "Transitions:   11628\n",
      "Choices:       11593\n",
      "Max/avg:       13/2.27\n",
      "Observables:   1009\n",
      "Unobservables: 7\n",
      "\n",
      "Exporting list of reachable states in plain text format to file \"LiarsDice\\data\\ld_1-1_0_0_1_1_1_0\\ld_1-1_0_0_1_1_1_0_safe_beat.sta\"...\n",
      "\n",
      "Exporting transition matrix in Dot format (with states) to file \"LiarsDice\\data\\ld_1-1_0_0_1_1_1_0\\ld_1-1_0_0_1_1_1_0_safe_beat.dot\"...\n",
      "\n",
      "Exporting labels and satisfying states in plain text format to file \"LiarsDice\\data\\ld_1-1_0_0_1_1_1_0\\ld_1-1_0_0_1_1_1_0_safe_beat.lab\"...\n",
      "\n",
      "---------------------------------------------------------------------\n",
      "\n",
      "Model checking: Pmax=? [ F \"p1_loses\" ]\n",
      "Model constants: p2_c=0.75\n",
      "\n",
      "Starting probabilistic reachability (max)...\n",
      "Starting fixed-resolution grid approximation (max)...\n",
      "Grid statistics: resolution=1, points=5113, unknown points=4849\n",
      "Building belief space approximation...\n",
      "Solving belief space approximation...\n",
      "\n",
      "Strategy DTMC:\n",
      "States:      55 (1 initial)\n",
      "Transitions: 54\n",
      "Choices:     49\n",
      "Max/avg:     1/0.89\n",
      "\n",
      "Starting probabilistic reachability (min)...\n",
      "Starting Prob0 (min)...\n",
      "Prob0 (min) took 12 iterations and 0.004 seconds.\n",
      "Starting Prob1 (min)...\n",
      "Prob1 (min) took 12 iterations and 0.001 seconds.\n",
      "target=6, yes=55, no=0, maybe=0\n",
      "Probabilistic reachability took 0.012 seconds.\n",
      "Outer bound: 1.0000000000000002\n",
      "Inner bound: 1.0\n",
      "Fixed-resolution grid approximation (max) took 8 iterations and 1.98 seconds.\n",
      "Probabilistic reachability took 1.98 seconds.\n",
      "\n",
      "Value in the initial state: 1.0000000000000002\n",
      "\n",
      "Time for model checking: 1.986 seconds.\n",
      "\n",
      "Result: 1.0000000000000002 (value in the initial state)\n",
      "\n",
      "Exporting results to file \"LiarsDice/data/ld_1-1_0_0_1_1_1_0/ld_1-1_0_0_1_1_1_0_p1_win_round.csv\"...\n",
      "\n",
      "---------------------------------------------------------------------\n",
      "\n",
      "Note: There was 1 warning during computation.\n",
      "\n"
     ]
    }
   ],
   "source": [
    "props_file = \"LiarsDice/LD_manual.props\"\n",
    "\n",
    "!mkdir \"LiarsDice/data/$model_spec\"\n",
    "!prism-ext {output_model} $props_file -prop 2 -const p2_c=0.75 -gridresolution 1 -exportadvmdp LiarsDice/data/{model_spec}/{model_spec}_safe_beat.tra -exportstates LiarsDice/data/{model_spec}/{model_spec}_safe_beat.sta -exportlabels LiarsDice/data/{model_spec}/{model_spec}_safe_beat.lab -exportresults LiarsDice/data/{model_spec}/{model_spec}_p1_win_round.csv:csv -exportmodel LiarsDice/data/{model_spec}/{model_spec}_safe_beat.dot "
   ]
  },
  {
   "cell_type": "code",
   "execution_count": 31,
   "metadata": {
    "ExecuteTime": {
     "end_time": "2021-04-07T12:37:37.928173Z",
     "start_time": "2021-04-07T12:37:37.371663Z"
    }
   },
   "outputs": [
    {
     "name": "stdout",
     "output_type": "stream",
     "text": [
      "PRISM\n",
      "=====\n",
      "\n",
      "Version: 4.4.pomdps\n",
      "Date: Wed Apr 07 13:37:37 BST 2021\n",
      "Hostname: DESKTOP-LDYER\n",
      "Memory limits: cudd=1g, java(heap)=1g\n",
      "Command line: prism -importmodel LiarsDice/data/ld_1-1_0_0_1_1_1_0/ld_1-1_0_0_1_1_1_0_safe_beat.all -mdp\n",
      "\n",
      "Importing model (MDP) from \"LiarsDice/data/ld_1-1_0_0_1_1_1_0/ld_1-1_0_0_1_1_1_0_safe_beat.tra\", \"LiarsDice/data/ld_1-1_0_0_1_1_1_0/ld_1-1_0_0_1_1_1_0_safe_beat.sta\", \"LiarsDice/data/ld_1-1_0_0_1_1_1_0/ld_1-1_0_0_1_1_1_0_safe_beat.lab\", \"LiarsDice/data/ld_1-1_0_0_1_1_1_0/ld_1-1_0_0_1_1_1_0_safe_beat.srew\"...\n",
      "\n",
      "---------------------------------------------------------------------\n",
      "\n",
      "Building model...\n",
      "\n",
      "Error: Error detected at line 2 of transition matrix file \"LiarsDice\\data\\ld_1-1_0_0_1_1_1_0\\ld_1-1_0_0_1_1_1_0_safe_beat.tra\".\n",
      "\n"
     ]
    }
   ],
   "source": [
    "!prism-ext -importmodel LiarsDice/data/{model_spec}/{model_spec}_safe_beat.all  -mdp"
   ]
  },
  {
   "cell_type": "code",
   "execution_count": 25,
   "metadata": {
    "ExecuteTime": {
     "end_time": "2021-04-07T12:24:19.454249Z",
     "start_time": "2021-04-07T12:24:19.081627Z"
    }
   },
   "outputs": [
    {
     "name": "stdout",
     "output_type": "stream",
     "text": [
      "Usage: prism [options] <model-file> [<properties-file>] [more-options]\n",
      "\n",
      "Options:\n",
      "========\n",
      "\n",
      "-help .......................... Display this help message\n",
      "-version ....................... Display PRISM version info\n",
      "-settings <file>................ Load settings from <file>\n",
      "\n",
      "-pf <props> (or -pctl or -csl) . Model check properties <props>\n",
      "-property <n> (or -prop <n>) ... Only model check property with index/name <n>\n",
      "-const <vals> .................. Define constant values as <vals> (e.g. for experiments)\n",
      "-steadystate (or -ss) .......... Compute steady-state probabilities (D/CTMCs only)\n",
      "-transient <x> (or -tr <x>) .... Compute transient probabilities for time (or time range) <x> (D/CTMCs only)\n",
      "-simpath <options> <file>....... Generate a random path with the simulator\n",
      "-nobuild ....................... Skip model construction (just do parse/export)\n",
      "-test .......................... Enable \"test\" mode\n",
      "-testall ....................... Enable \"test\" mode, but don't exit on error\n",
      "-javamaxmem <x>................. Set the maximum heap size for Java, e.g. 500m, 4g [default: 1g]\n",
      "-javastack <x> ................. Set the Java stack size [default: 4m]\n",
      "-timeout <n> ................... Exit after a time-out of <n> seconds if not already terminated\n",
      "-ng ............................ Run PRISM in Nailgun server mode; subsequent calls are then made via \"ngprism\"\n",
      "\n",
      "IMPORT OPTIONS:\n",
      "-importpepa .................... Model description is in PEPA, not the PRISM language\n",
      "-importmodel <files> ........... Import the model directly from text file(s)\n",
      "-importtrans <file> ............ Import the transition matrix directly from a text file\n",
      "-importstates <file>............ Import the list of states directly from a text file\n",
      "-importlabels <file>............ Import the list of labels directly from a text file\n",
      "-importstaterewards <file>...... Import the state rewards directly from a text file\n",
      "-importinitdist <file>.......... Specify the initial probability distribution for transient analysis\n",
      "-dtmc .......................... Force imported/built model to be a DTMC\n",
      "-ctmc .......................... Force imported/built model to be a CTMC\n",
      "-mdp ........................... Force imported/built model to be an MDP\n",
      "\n",
      "EXPORT OPTIONS:\n",
      "-exportresults <file[:options]>  Export the results of model checking to a file\n",
      "-exportmodel <files[:options]> . Export the built model to file(s)\n",
      "-exporttrans <file> ............ Export the transition matrix to a file\n",
      "-exportstaterewards <file> ..... Export the state rewards vector to a file\n",
      "-exporttransrewards <file> ..... Export the transition rewards matrix to a file\n",
      "-exportrewards <file1> <file2>.. Export state/transition rewards to files 1/2\n",
      "-exportstates <file> ........... Export the list of reachable states to a file\n",
      "-exportlabels <file> ........... Export the list of labels and satisfying states to a file\n",
      "-exportmatlab .................. When exporting matrices/vectors/labels/etc., use Matlab format\n",
      "-exportmrmc .................... When exporting matrices/vectors/labels, use MRMC format\n",
      "-exportrows .................... When exporting matrices, put a whole row on one line\n",
      "-exportordered ................. When exporting matrices, order entries (by row) [default]\n",
      "-exportunordered ............... When exporting matrices, don't order entries\n",
      "-exporttransdot <file> ......... Export the transition matrix graph to a dot file\n",
      "-exporttransdotstates <file> ... Export the transition matrix graph to a dot file, with state info\n",
      "-exportdot <file> .............. Export the transition matrix MTBDD to a dot file\n",
      "-exportsccs <file> ............. Compute and export all SCCs of the model\n",
      "-exportbsccs <file> ............ Compute and export all BSCCs of the model\n",
      "-exportmecs <file> ............. Compute and export all maximal end components (MDPs only)\n",
      "-exportsteadystate <file> ...... Export steady-state probabilities to a file\n",
      "-exporttransient <file> ........ Export transient probabilities to a file\n",
      "-exportprism <file> ............ Export final PRISM model to a file\n",
      "-exportprismconst <file> ....... Export final PRISM model with expanded constants to a file\n",
      "\n",
      "ENGINES/METHODS:\n",
      "-mtbdd (or -m) ................. Use the MTBDD engine\n",
      "-sparse (or -s) ................ Use the Sparse engine\n",
      "-hybrid (or -h) ................ Use the Hybrid engine [default]\n",
      "-explicit (or -ex) ............. Use the explicit engine\n",
      "-exact ......................... Perform exact (arbitrary precision) model checking\n",
      "-ptamethod <name> .............. Specify PTA engine (games, digital, backwards) [default: games]\n",
      "-transientmethod <name> ........ CTMC transient analysis methof (unif, fau) [default: unif]\n",
      "\n",
      "SOLUTION METHODS (LINEAR EQUATIONS):\n",
      "-power (or -pow, -pwr) ......... Use the Power method for numerical computation\n",
      "-jacobi (or -jac) .............. Use Jacobi for numerical computation [default]\n",
      "-gaussseidel (or -gs) .......... Use Gauss-Seidel for numerical computation\n",
      "-bgaussseidel (or -bgs) ........ Use Backwards Gauss-Seidel for numerical computation\n",
      "-pgaussseidel (or -pgs) ........ Use Pseudo Gauss-Seidel for numerical computation\n",
      "-bpgaussseidel (or -bpgs) ...... Use Backwards Pseudo Gauss-Seidel for numerical computation\n",
      "-jor ........................... Use JOR for numerical computation\n",
      "-sor ........................... Use SOR for numerical computation\n",
      "-bsor .......................... Use Backwards SOR for numerical computation\n",
      "-psor .......................... Use Pseudo SOR for numerical computation\n",
      "-bpsor ......................... Use Backwards Pseudo SOR for numerical computation\n",
      "-omega <x> ..................... Set over-relaxation parameter (for JOR/SOR/...) [default: 0.9]\n",
      "\n",
      "SOLUTION METHODS (MDPS):\n",
      "-valiter ....................... Use value iteration for solving MDPs [default]\n",
      "-gaussseidel (or -gs) .......... Use Gauss-Seidel value iteration for solving MDPs\n",
      "-politer ....................... Use policy iteration for solving MDPs\n",
      "-modpoliter .................... Use modified policy iteration for solving MDPs\n",
      "-intervaliter (or -ii) ......... Use interval iteration to solve MDPs/MCs (see -help -ii)\n",
      "-topological ................... Use topological value iteration\n",
      "\n",
      "SOLUTION METHOD SETTINGS\n",
      "-relative (or -rel) ............ Use relative error for detecting convergence [default]\n",
      "-absolute (or -abs) ............ Use absolute error for detecting convergence\n",
      "-epsilon <x> (or -e <x>) ....... Set value of epsilon (for convergence check) [default: 1e-6]\n",
      "-maxiters <n> .................. Set max number of iterations [default: 10000]\n",
      "-gridresolution <n> .............Set resolution for fixed grid approximation (POMDP) [default: 10]\n",
      "\n",
      "MODEL CHECKING OPTIONS:\n",
      "-nopre ......................... Skip precomputation algorithms (where optional)\n",
      "-noprob0 ....................... Skip precomputation algorithm Prob0 (where optional)\n",
      "-noprob1 ....................... Skip precomputation algorithm Prob1 (where optional)\n",
      "-noprerel ...................... Do not pre-compute/use predecessor relation, e.g. for precomputation\n",
      "-fair .......................... Use fairness (for model checking of MDPs)\n",
      "-nofair ........................ Don't use fairness (for model checking of MDPs) [default]\n",
      "-fixdl ......................... Automatically put self-loops in deadlock states [default]\n",
      "-nofixdl ....................... Do not automatically put self-loops in deadlock states\n",
      "-noprobchecks .................. Disable checks on model probabilities/rates\n",
      "-sumroundoff <x> ............... Set probability sum threshold [default: 1-e5]\n",
      "-zerorewardcheck ............... Check for absence of zero-reward loops\n",
      "-nossdetect .................... Disable steady-state detection for CTMC transient computations\n",
      "-sccmethod <name> .............. Specify (symbolic) SCC computation method (xiebeerel, lockstep, sccfind)\n",
      "-symm <string> ................. Symmetry reduction options string\n",
      "-aroptions <string> ............ Abstraction-refinement engine options string\n",
      "-pathviaautomata ............... Handle all path formulas via automata constructions\n",
      "-nodasimplify .................. Do not attempt to simplify deterministic automata, acceptance conditions\n",
      "-exportadv <file> .............. Export an adversary from MDP model checking (as a DTMC)\n",
      "-exportadvmdp <file> ........... Export an adversary from MDP model checking (as an MDP)\n",
      "-ltl2datool <exec> ............. Run executable <exec> to convert LTL formulas to deterministic automata\n",
      "-ltl2dasyntax <x> .............. Specify output format for -ltl2datool switch (lbt, spin, spot, rabinizer)\n",
      "-exportiterations .............. Export vectors for iteration algorithms to file\n",
      "-pmaxquotient .................. For Pmax computations in MDPs, compute in the MEC quotient\n",
      "\n",
      "MULTI-OBJECTIVE MODEL CHECKING:\n",
      "-linprog (or -lp) .............. Use linear programming for multi-objective model checking\n",
      "-multimaxpoints <n> ............ Maximal number of corner points for (valiter-based) multi-objective\n",
      "-paretoepsilon <x> ............. Threshold for Pareto curve approximation\n",
      "-exportpareto <file> ........... When computing Pareto curves, export points to a file\n",
      "\n",
      "OUTPUT OPTIONS:\n",
      "-verbose (or -v) ............... Verbose mode: print out state lists and probability vectors\n",
      "-extraddinfo ................... Display extra info about some (MT)BDDs\n",
      "-extrareachinfo ................ Display extra info about progress of reachability\n",
      "\n",
      "SPARSE/HYBRID/MTBDD OPTIONS:\n",
      "-nocompact ..................... Switch off \"compact\" sparse storage schemes\n",
      "-sbl <n> ....................... Set number of levels (for hybrid engine) [default: -1]\n",
      "-sbmax <n> ..................... Set memory limit (KB) (for hybrid engine) [default: 1024]\n",
      "-gsl <n> (or sorl <n>) ......... Set number of levels for hybrid GS/SOR [default: -1]\n",
      "-gsmax <n> (or sormax <n>) ..... Set memory limit (KB) for hybrid GS/SOR [default: 1024]\n",
      "-cuddmaxmem <n> ................ Set max memory for CUDD package, e.g. 125k, 50m, 4g [default: 1g]\n",
      "-cuddepsilon <x> ............... Set epsilon value for CUDD package [default: 1e-15]\n",
      "-ddsanity ...................... Enable internal sanity checks (causes slow-down)\n",
      "-ddextrastatevars <n> .......... Set the number of preallocated state vars [default: 20]\n",
      "-ddextraactionvars <n> ......... Set the number of preallocated action vars [default: 20]\n",
      "\n",
      "PARAMETRIC MODEL CHECKING OPTIONS:\n",
      "-param <vals> .................. Do parametric model checking with parameters (and ranges) <vals>\n",
      "-paramprecision <x> ............ Set max undecided region for parameter synthesis [default: 5/100]\n",
      "-paramsplit <name> ............. Set method to split parameter regions (longest,all) [default: longest]\n",
      "-parambisim <name> ............. Set bisimulation minimisation for parameter synthesis (weak,strong,none) [default: weak]\n",
      "-paramfunction <name> .......... Set function representation for parameter synthesis (jascached,jas) [default: jascached]\n",
      "-paramelimorder <name> ......... Set elimination order for parameter synthesis (arb,fw,fwrev,bw,bwrev,rand) [default: bw]\n",
      "-paramrandompoints <n> ......... Set number of random points to evaluate per region [default: 5]\n",
      "-paramsubsumeregions <b> ....... Subsume adjacent regions during analysis [default: true]\n",
      "-paramdagmaxerror <b> .......... Maximal error probability allowed for DAG function representation [default: 1E-100]\n",
      "\n",
      "FAST ADAPTIVE UNIFORMISATION (FAU) OPTIONS:\n",
      "-fauepsilon <x> ................ Set probability threshold of birth process in FAU [default: 1e-6]\n",
      "-faudelta <x> .................. Set probability threshold for irrelevant states in FAU [default: 1e-12]\n",
      "-fauarraythreshold <x> ......... Set threshold when to switch to sparse matrix in FAU [default: 100]\n",
      "-fauintervals <x> .............. Set number of intervals to divide time intervals into for FAU [default: 1]\n",
      "-fauinitival <x> ............... Set length of additional initial time interval for FAU [default: 1.0]\n",
      "\n",
      "SIMULATION OPTIONS:\n",
      "-sim ........................... Use the PRISM simulator to approximate results of model checking\n",
      "-simmethod <name> .............. Specify the method for approximate model checking (ci, aci, apmc, sprt)\n",
      "-simsamples <n> ................ Set the number of samples for the simulator (CI/ACI/APMC methods)\n",
      "-simconf <x> ................... Set the confidence parameter for the simulator (CI/ACI/APMC methods)\n",
      "-simwidth <x> .................. Set the interval width for the simulator (CI/ACI methods)\n",
      "-simapprox <x> ................. Set the approximation parameter for the simulator (APMC method)\n",
      "-simmanual ..................... Do not use the automated way of deciding whether the variance is null or not\n",
      "-simvar <n> .................... Set the minimum number of samples to know the variance is null or not\n",
      "-simmaxrwd <x> ................. Set the maximum reward -- useful to display the CI/ACI methods progress\n",
      "-simpathlen <n> ................ Set the maximum path length for the simulator\n",
      "\n",
      "You can also use \"prism -help xxx\" for help on some switches -xxx with non-obvious syntax.\n"
     ]
    }
   ],
   "source": [
    "!prism-ext -help"
   ]
  },
  {
   "cell_type": "code",
   "execution_count": null,
   "metadata": {},
   "outputs": [],
   "source": []
  }
 ],
 "metadata": {
  "hide_input": false,
  "kernelspec": {
   "display_name": "Python 3",
   "language": "python",
   "name": "python3"
  },
  "language_info": {
   "codemirror_mode": {
    "name": "ipython",
    "version": 3
   },
   "file_extension": ".py",
   "mimetype": "text/x-python",
   "name": "python",
   "nbconvert_exporter": "python",
   "pygments_lexer": "ipython3",
   "version": "3.7.3"
  },
  "toc": {
   "base_numbering": 1,
   "nav_menu": {},
   "number_sections": true,
   "sideBar": true,
   "skip_h1_title": false,
   "title_cell": "Table of Contents",
   "title_sidebar": "Contents",
   "toc_cell": false,
   "toc_position": {},
   "toc_section_display": true,
   "toc_window_display": false
  }
 },
 "nbformat": 4,
 "nbformat_minor": 2
}
