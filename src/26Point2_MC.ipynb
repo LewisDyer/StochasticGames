{
 "cells": [
  {
   "cell_type": "markdown",
   "metadata": {},
   "source": [
    "# 26 Point 2"
   ]
  },
  {
   "cell_type": "markdown",
   "metadata": {},
   "source": [
    "## Step 0: Utils for Jupyter Notebooks"
   ]
  },
  {
   "cell_type": "markdown",
   "metadata": {},
   "source": [
    "### 1.1.1 Add Show/Hide code button"
   ]
  },
  {
   "cell_type": "code",
   "execution_count": 1,
   "metadata": {
    "ExecuteTime": {
     "end_time": "2021-03-01T14:21:11.264388Z",
     "start_time": "2021-03-01T14:21:11.240385Z"
    }
   },
   "outputs": [
    {
     "data": {
      "text/html": [
       "<script>\n",
       "code_show=true; \n",
       "function code_toggle() {\n",
       " if (code_show){\n",
       " $('div.input').hide();\n",
       " } else {\n",
       " $('div.input').show();\n",
       " }\n",
       " code_show = !code_show\n",
       "} \n",
       "$( document ).ready(code_toggle);\n",
       "</script>\n",
       "<form action=\"javascript:code_toggle()\"><input type=\"submit\" value=\"Show Code\"></form>"
      ],
      "text/plain": [
       "<IPython.core.display.HTML object>"
      ]
     },
     "execution_count": 1,
     "metadata": {},
     "output_type": "execute_result"
    }
   ],
   "source": [
    "from IPython.display import HTML\n",
    "\n",
    "HTML('''<script>\n",
    "code_show=true; \n",
    "function code_toggle() {\n",
    " if (code_show){\n",
    " $('div.input').hide();\n",
    " } else {\n",
    " $('div.input').show();\n",
    " }\n",
    " code_show = !code_show\n",
    "} \n",
    "$( document ).ready(code_toggle);\n",
    "</script>\n",
    "<form action=\"javascript:code_toggle()\"><input type=\"submit\" value=\"Show Code\"></form>''')"
   ]
  },
  {
   "cell_type": "markdown",
   "metadata": {},
   "source": [
    "### Add magic command to store python variables in csv file"
   ]
  },
  {
   "cell_type": "code",
   "execution_count": 2,
   "metadata": {
    "ExecuteTime": {
     "end_time": "2021-03-01T14:21:14.516676Z",
     "start_time": "2021-03-01T14:21:14.499842Z"
    }
   },
   "outputs": [],
   "source": [
    "# credit to sirex, https://github.com/ipython/ipython/issues/6701\n",
    "from IPython.core.magic import register_line_cell_magic\n",
    "\n",
    "@register_line_cell_magic\n",
    "def writetemplate(line, cell):\n",
    "    with open(line, 'w') as f:\n",
    "        f.write(cell.format(**globals()))"
   ]
  },
  {
   "cell_type": "markdown",
   "metadata": {},
   "source": [
    "## Step 1: Generate Models + Props"
   ]
  },
  {
   "cell_type": "code",
   "execution_count": 38,
   "metadata": {
    "ExecuteTime": {
     "end_time": "2021-03-01T16:25:02.899557Z",
     "start_time": "2021-03-01T16:25:02.892550Z"
    }
   },
   "outputs": [
    {
     "name": "stdout",
     "output_type": "stream",
     "text": [
      "CELL 8\n"
     ]
    }
   ],
   "source": [
    "# Edit this cell to define parameters for your model...\n",
    "\n",
    "strat_1 = 4 # the strategy that player 1 uses\n",
    "strat_2 = 1 # strategy for player 2\n",
    "\n",
    "print(\"CELL 8\")"
   ]
  },
  {
   "cell_type": "code",
   "execution_count": 39,
   "metadata": {
    "ExecuteTime": {
     "end_time": "2021-03-01T16:25:04.647884Z",
     "start_time": "2021-03-01T16:25:04.630451Z"
    }
   },
   "outputs": [],
   "source": [
    "%%writetemplate 26Point2/params/26Point2_1_1.csv\n",
    "players, 2\n",
    "no_sides, 4\n",
    "no_dice, 4\n",
    "p1, 1\n",
    "p2, 2\n",
    "strategy1, {strat_1}\n",
    "strategy2, {strat_2}"
   ]
  },
  {
   "cell_type": "code",
   "execution_count": 44,
   "metadata": {
    "ExecuteTime": {
     "end_time": "2021-03-01T16:37:50.504781Z",
     "start_time": "2021-03-01T16:37:50.485163Z"
    }
   },
   "outputs": [],
   "source": [
    "def export_csv(strat_1, strat_2):\n",
    "    with open(f\"26Point2/params/26Point2_{strat_1}_{strat_2}.csv\", 'w') as f:\n",
    "        f.write(\"players, 2\")\n",
    "        f.write(\"no_sides, 4\")\n",
    "        f.write(\"no_dice, 4\")\n",
    "        f.write(\"p1, 1\")\n",
    "        f.write(\"p2, 2\")\n",
    "        f.write(f\"strategy1, {strat_1}\")\n",
    "        f.write(f\"strategy2, {strat_2}\")"
   ]
  },
  {
   "cell_type": "code",
   "execution_count": 45,
   "metadata": {
    "ExecuteTime": {
     "end_time": "2021-03-01T16:37:50.982571Z",
     "start_time": "2021-03-01T16:37:50.971194Z"
    }
   },
   "outputs": [],
   "source": [
    "def build_model(strat_1, strat_2):\n",
    "    export_csv(strat_1, strat_2)\n",
    "\n",
    "    model_spec = f\"26Point2_{strat_1}_{strat_2}\"\n",
    "\n",
    "    !mkdir \"26Point2/models\"\n",
    "    output_model = f\"26Point2/models/{model_spec}.prism\"\n",
    "\n",
    "    !python utils/pyprism.py 26Point2/26Point2.pyprism $output_model 26Point2/params/26Point2_auto_params.csv"
   ]
  },
  {
   "cell_type": "code",
   "execution_count": 46,
   "metadata": {
    "ExecuteTime": {
     "end_time": "2021-03-01T16:38:04.319932Z",
     "start_time": "2021-03-01T16:38:03.760553Z"
    }
   },
   "outputs": [
    {
     "name": "stderr",
     "output_type": "stream",
     "text": [
      "A subdirectory or file 26Point2/models already exists.\n"
     ]
    },
    {
     "name": "stdout",
     "output_type": "stream",
     "text": [
      "Model generated successfully at 26Point2\\models\\26Point2_1_1.prism\n"
     ]
    },
    {
     "name": "stderr",
     "output_type": "stream",
     "text": [
      "A subdirectory or file 26Point2/models already exists.\n"
     ]
    },
    {
     "name": "stdout",
     "output_type": "stream",
     "text": [
      "Model generated successfully at 26Point2\\models\\26Point2_2_1.prism\n"
     ]
    },
    {
     "name": "stderr",
     "output_type": "stream",
     "text": [
      "A subdirectory or file 26Point2/models already exists.\n"
     ]
    },
    {
     "name": "stdout",
     "output_type": "stream",
     "text": [
      "Model generated successfully at 26Point2\\models\\26Point2_3_1.prism\n"
     ]
    },
    {
     "name": "stderr",
     "output_type": "stream",
     "text": [
      "A subdirectory or file 26Point2/models already exists.\n"
     ]
    },
    {
     "name": "stdout",
     "output_type": "stream",
     "text": [
      "Model generated successfully at 26Point2\\models\\26Point2_4_1.prism\n"
     ]
    },
    {
     "name": "stderr",
     "output_type": "stream",
     "text": [
      "A subdirectory or file 26Point2/models already exists.\n"
     ]
    },
    {
     "name": "stdout",
     "output_type": "stream",
     "text": [
      "Model generated successfully at 26Point2\\models\\26Point2_5_1.prism\n"
     ]
    }
   ],
   "source": [
    "from IPython.display import Javascript\n",
    "\n",
    "\n",
    "strats = [[1, 1], [2,1], [3,1], [4,1], [5,1]]\n",
    "\n",
    "for strat in strats:\n",
    "    strat_1, strat_2 = strat\n",
    "    build_model(strat_1, strat_2)"
   ]
  },
  {
   "cell_type": "markdown",
   "metadata": {},
   "source": [
    "# Properties to consider\n",
    "\n",
    "* Win rate with various strategies (pick 2, pick 3, pick 4, pick 3/4)\n",
    "\n",
    "* Adversary to pick 2/pick 4, pick3/4) (figure out how long strategy generation takes...)\n",
    "\n",
    "* Potentially figure out bust rate? Though it may be nicer to do this theoretically for non-hybrid strategies..."
   ]
  },
  {
   "cell_type": "code",
   "execution_count": null,
   "metadata": {},
   "outputs": [],
   "source": [
    "strategies = []\n",
    "# strats have (model_spec, no_spaces, prop_number, log_filename)\n",
    "\n",
    "strategies.append([\"1_1\", 50, 1, \"random_winrate_50.log\"])\n",
    "strategies.append([\"4_1\", 50, ])"
   ]
  },
  {
   "cell_type": "markdown",
   "metadata": {},
   "source": [
    "## Step 2a: Make auto.sh file\n",
    "\n",
    "The big challenge with this case study is that the models are far too large to examine normally. Instead, we create a shell file that can run on a computing cluster."
   ]
  },
  {
   "cell_type": "code",
   "execution_count": 22,
   "metadata": {
    "ExecuteTime": {
     "end_time": "2021-03-01T14:51:58.788822Z",
     "start_time": "2021-03-01T14:51:58.771816Z"
    }
   },
   "outputs": [],
   "source": [
    "%%writetemplate 26Point2/logs/auto_cluster.sh\n",
    "#/bin/csh\n",
    "\n",
    "~/prism-games-csg-dev/prism/bin/prism {model_spec}.prism 26Point2_manual.props -javamaxmem 700g -const no_spaces=50 -prop 1 > spaces50_prop1.log"
   ]
  },
  {
   "cell_type": "markdown",
   "metadata": {},
   "source": [
    "## Step 2b: Make logs with statistical model checking.\n",
    "\n",
    "Statistical model checking isn't great, but it's far quicker than probabilistic model checking so it's appropriate for \"quick checking\" purposes."
   ]
  },
  {
   "cell_type": "code",
   "execution_count": 23,
   "metadata": {
    "ExecuteTime": {
     "end_time": "2021-03-01T14:52:26.150615Z",
     "start_time": "2021-03-01T14:52:00.484750Z"
    }
   },
   "outputs": [
    {
     "name": "stdout",
     "output_type": "stream",
     "text": [
      "PRISM-games\n",
      "===========\n",
      "\n",
      "Version: 3.0 (based on PRISM 4.6)\n",
      "Date: Mon Mar 01 14:52:00 GMT 2021\n",
      "Hostname: DESKTOP-LDYER\n",
      "Memory limits: cudd=1g, java(heap)=910.5m\n",
      "Command line: prism-games 26Point2/models/26Point2_4_1.prism 26Point2/props/26Point2_manual.props -const no_spaces=100 -prop 5 -sim -simmethod ci -simsamples 10000\n",
      "\n",
      "Parsing model file \"26Point2/models/26Point2_4_1.prism\"...\n",
      "\n",
      "Type:        CSG\n",
      "Modules:     player1 player2 board \n",
      "Variables:   p1_pos p1_chosen_dice p1_1s p1_2s p1_3s p1_4s p2_pos p2_chosen_dice p2_1s p2_2s p2_3s p2_4s state winner \n",
      "\n",
      "Switching to explicit engine, which supports CSGs...\n",
      "\n",
      "Parsing properties file \"26Point2/props/26Point2_manual.props\"...\n",
      "\n",
      "7 properties:\n",
      "(1) Pmax=? [ F \"p1_wins\" ]\n",
      "(2) Pmax=? [ F \"p2_wins\" ]\n",
      "(3) Pmax=? [ F \"players_tie\" ]\n",
      "(4) Pmax=? [ F \"game_over\" ]\n",
      "(5) R{\"no_rounds\"}max=? [ F \"game_over\" ]\n",
      "(6) R{\"p1_busts\"}max=? [ F \"game_over\" ]\n",
      "(7) R{\"p1_busts\"}max=? [ F \"game_over\" ]/R{\"no_rounds\"}max=? [ F \"game_over\" ]\n",
      "\n",
      "---------------------------------------------------------------------\n",
      "\n",
      "Simulating: R{\"no_rounds\"}max=? [ F \"game_over\" ]\n",
      "Model constants: no_spaces=100\n",
      "\n",
      "Warning: For simulation, nondeterminism in CSG is resolved uniformly (resulting in DTMC).\n",
      "\n",
      "Simulation method: CI (Confidence Interval)\n",
      "Simulation method parameters: width=unknown, confidence=0.01, number of samples=10000\n",
      "Simulation parameters: max path length=10000\n",
      "\n",
      "Sampling progress: [ 10% 20% 30% 40% 50% 60% 70% 80% 90% 100% ]\n",
      "\n",
      "Sampling complete: 10000 iterations in 25.033 seconds (average 0.0025)\n",
      "Path length statistics: average 62, min 36, max 108\n",
      "\n",
      "Simulation method parameters: width=0.06552398456848657, confidence=0.01, number of samples=10000\n",
      "\n",
      "Simulation result details: confidence interval is 15.489 +/- 0.06552398456848657, based on 99.0% confidence level\n",
      "\n",
      "Result: 15.489 (with nondeterminism in CSG being resolved uniformly)\n",
      "\n",
      "---------------------------------------------------------------------\n",
      "\n",
      "Note: There was 1 warning during computation.\n",
      "\n"
     ]
    }
   ],
   "source": [
    "\n",
    "\n",
    "!prism 26Point2/models/{model_spec}.prism 26Point2/props/26Point2_manual.props -const no_spaces=100 -prop 5 -sim -simmethod ci -simsamples 10000"
   ]
  },
  {
   "cell_type": "code",
   "execution_count": 24,
   "metadata": {
    "ExecuteTime": {
     "end_time": "2021-03-01T14:52:52.538424Z",
     "start_time": "2021-03-01T14:52:26.152617Z"
    }
   },
   "outputs": [
    {
     "name": "stdout",
     "output_type": "stream",
     "text": [
      "PRISM-games\n",
      "===========\n",
      "\n",
      "Version: 3.0 (based on PRISM 4.6)\n",
      "Date: Mon Mar 01 14:52:26 GMT 2021\n",
      "Hostname: DESKTOP-LDYER\n",
      "Memory limits: cudd=1g, java(heap)=910.5m\n",
      "Command line: prism-games 26Point2/models/26Point2_4_1.prism 26Point2/props/26Point2_manual.props -const no_spaces=100 -prop 6 -sim -simmethod ci -simsamples 10000\n",
      "\n",
      "Parsing model file \"26Point2/models/26Point2_4_1.prism\"...\n",
      "\n",
      "Type:        CSG\n",
      "Modules:     player1 player2 board \n",
      "Variables:   p1_pos p1_chosen_dice p1_1s p1_2s p1_3s p1_4s p2_pos p2_chosen_dice p2_1s p2_2s p2_3s p2_4s state winner \n",
      "\n",
      "Switching to explicit engine, which supports CSGs...\n",
      "\n",
      "Parsing properties file \"26Point2/props/26Point2_manual.props\"...\n",
      "\n",
      "7 properties:\n",
      "(1) Pmax=? [ F \"p1_wins\" ]\n",
      "(2) Pmax=? [ F \"p2_wins\" ]\n",
      "(3) Pmax=? [ F \"players_tie\" ]\n",
      "(4) Pmax=? [ F \"game_over\" ]\n",
      "(5) R{\"no_rounds\"}max=? [ F \"game_over\" ]\n",
      "(6) R{\"p1_busts\"}max=? [ F \"game_over\" ]\n",
      "(7) R{\"p1_busts\"}max=? [ F \"game_over\" ]/R{\"no_rounds\"}max=? [ F \"game_over\" ]\n",
      "\n",
      "---------------------------------------------------------------------\n",
      "\n",
      "Simulating: R{\"p1_busts\"}max=? [ F \"game_over\" ]\n",
      "Model constants: no_spaces=100\n",
      "\n",
      "Warning: For simulation, nondeterminism in CSG is resolved uniformly (resulting in DTMC).\n",
      "\n",
      "Simulation method: CI (Confidence Interval)\n",
      "Simulation method parameters: width=unknown, confidence=0.01, number of samples=10000\n",
      "Simulation parameters: max path length=10000\n",
      "\n",
      "Sampling progress: [ 10% 20% 30% 40% 50% 60% 70% 80% 90% 100% ]\n",
      "\n",
      "Sampling complete: 10000 iterations in 25.724 seconds (average 0.0026)\n",
      "Path length statistics: average 62, min 36, max 100\n",
      "\n",
      "Simulation method parameters: width=0.06786882205535007, confidence=0.01, number of samples=10000\n",
      "\n",
      "Simulation result details: confidence interval is 5.3683 +/- 0.06786882205535007, based on 99.0% confidence level\n",
      "\n",
      "Result: 5.3683 (with nondeterminism in CSG being resolved uniformly)\n",
      "\n",
      "---------------------------------------------------------------------\n",
      "\n",
      "Note: There was 1 warning during computation.\n",
      "\n"
     ]
    }
   ],
   "source": [
    "!prism 26Point2/models/{model_spec}.prism 26Point2/props/26Point2_manual.props -const no_spaces=100 -prop 6 -sim -simmethod ci -simsamples 10000"
   ]
  },
  {
   "cell_type": "markdown",
   "metadata": {},
   "source": [
    "## Step 3: Store data\n",
    "\n",
    "Once we have the log files from the cluster, we then filter those files and generate more readable data. (Note that we perform this filtering at this stage, not on the cluster - that way, we might not need to run everything again if we need more data than we anticipated."
   ]
  },
  {
   "cell_type": "code",
   "execution_count": null,
   "metadata": {},
   "outputs": [],
   "source": []
  },
  {
   "cell_type": "code",
   "execution_count": null,
   "metadata": {},
   "outputs": [],
   "source": []
  }
 ],
 "metadata": {
  "hide_input": false,
  "kernelspec": {
   "display_name": "Python 3",
   "language": "python",
   "name": "python3"
  },
  "language_info": {
   "codemirror_mode": {
    "name": "ipython",
    "version": 3
   },
   "file_extension": ".py",
   "mimetype": "text/x-python",
   "name": "python",
   "nbconvert_exporter": "python",
   "pygments_lexer": "ipython3",
   "version": "3.7.3"
  },
  "toc": {
   "base_numbering": 1,
   "nav_menu": {},
   "number_sections": true,
   "sideBar": true,
   "skip_h1_title": false,
   "title_cell": "Table of Contents",
   "title_sidebar": "Contents",
   "toc_cell": false,
   "toc_position": {},
   "toc_section_display": true,
   "toc_window_display": false
  }
 },
 "nbformat": 4,
 "nbformat_minor": 2
}
