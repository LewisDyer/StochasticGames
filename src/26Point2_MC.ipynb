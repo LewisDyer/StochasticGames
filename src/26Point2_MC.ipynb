{
 "cells": [
  {
   "cell_type": "markdown",
   "metadata": {},
   "source": [
    "# 26 Point 2"
   ]
  },
  {
   "cell_type": "markdown",
   "metadata": {},
   "source": [
    "## Step 0: Utils for Jupyter Notebooks"
   ]
  },
  {
   "cell_type": "markdown",
   "metadata": {},
   "source": [
    "### 1.1.1 Add Show/Hide code button"
   ]
  },
  {
   "cell_type": "code",
   "execution_count": 4,
   "metadata": {
    "ExecuteTime": {
     "end_time": "2021-03-08T09:22:03.283425Z",
     "start_time": "2021-03-08T09:22:03.274416Z"
    }
   },
   "outputs": [
    {
     "data": {
      "text/html": [
       "<script>\n",
       "code_show=true; \n",
       "function code_toggle() {\n",
       " if (code_show){\n",
       " $('div.input').hide();\n",
       " } else {\n",
       " $('div.input').show();\n",
       " }\n",
       " code_show = !code_show\n",
       "} \n",
       "$( document ).ready(code_toggle);\n",
       "</script>\n",
       "<form action=\"javascript:code_toggle()\"><input type=\"submit\" value=\"Show Code\"></form>"
      ],
      "text/plain": [
       "<IPython.core.display.HTML object>"
      ]
     },
     "execution_count": 4,
     "metadata": {},
     "output_type": "execute_result"
    }
   ],
   "source": [
    "from IPython.display import HTML\n",
    "\n",
    "HTML('''<script>\n",
    "code_show=true; \n",
    "function code_toggle() {\n",
    " if (code_show){\n",
    " $('div.input').hide();\n",
    " } else {\n",
    " $('div.input').show();\n",
    " }\n",
    " code_show = !code_show\n",
    "} \n",
    "$( document ).ready(code_toggle);\n",
    "</script>\n",
    "<form action=\"javascript:code_toggle()\"><input type=\"submit\" value=\"Show Code\"></form>''')"
   ]
  },
  {
   "cell_type": "markdown",
   "metadata": {},
   "source": [
    "### Add magic command to store python variables in csv file"
   ]
  },
  {
   "cell_type": "code",
   "execution_count": 51,
   "metadata": {
    "ExecuteTime": {
     "end_time": "2021-03-08T10:25:09.132813Z",
     "start_time": "2021-03-08T10:25:09.122804Z"
    }
   },
   "outputs": [],
   "source": [
    "# credit to sirex, https://github.com/ipython/ipython/issues/6701\n",
    "from IPython.core.magic import register_line_cell_magic\n",
    "\n",
    "@register_line_cell_magic\n",
    "def writetemplate(line, cell):\n",
    "    with open(line, 'w') as f:\n",
    "        f.write(cell.format(**globals()))"
   ]
  },
  {
   "cell_type": "markdown",
   "metadata": {},
   "source": [
    "## Step 1: Generate Models + Props"
   ]
  },
  {
   "cell_type": "code",
   "execution_count": 63,
   "metadata": {
    "ExecuteTime": {
     "end_time": "2021-03-08T10:33:37.002399Z",
     "start_time": "2021-03-08T10:33:36.983384Z"
    }
   },
   "outputs": [],
   "source": [
    "def export_csv(strat_1, strat_2):\n",
    "    with open(f\"26Point2/params/26Point2_{strat_1}_{strat_2}.csv\", 'w') as f:\n",
    "        f.write(\"players, 2\\n\")\n",
    "        f.write(\"no_sides, 4\\n\")\n",
    "        f.write(\"no_dice, 4\\n\")\n",
    "        f.write(\"p1, 1\\n\")\n",
    "        f.write(\"p2, 2\\n\")\n",
    "        f.write(f\"strategy1, {strat_1}\\n\")\n",
    "        f.write(f\"strategy2, {strat_2}\\n\")\n",
    "    return f\"26Point2/params/26Point2_{strat_1}_{strat_2}.csv\""
   ]
  },
  {
   "cell_type": "code",
   "execution_count": 64,
   "metadata": {
    "ExecuteTime": {
     "end_time": "2021-03-08T10:33:37.285809Z",
     "start_time": "2021-03-08T10:33:37.280805Z"
    }
   },
   "outputs": [],
   "source": [
    "def build_model(strat_1, strat_2):\n",
    "    param_file = export_csv(strat_1, strat_2)\n",
    "\n",
    "    model_spec = f\"26Point2_{strat_1}_{strat_2}\"\n",
    "\n",
    "    !mkdir \"26Point2/models\"\n",
    "    output_model = f\"26Point2/models/{model_spec}.prism\"\n",
    "\n",
    "    !python utils/pyprism.py 26Point2/26Point2.pyprism $output_model {param_file}"
   ]
  },
  {
   "cell_type": "code",
   "execution_count": 80,
   "metadata": {
    "ExecuteTime": {
     "end_time": "2021-03-08T10:45:59.092152Z",
     "start_time": "2021-03-08T10:45:58.228365Z"
    }
   },
   "outputs": [
    {
     "name": "stderr",
     "output_type": "stream",
     "text": [
      "A subdirectory or file 26Point2/models already exists.\n"
     ]
    },
    {
     "name": "stdout",
     "output_type": "stream",
     "text": [
      "Model generated successfully at 26Point2\\models\\26Point2_1_1.prism\n"
     ]
    },
    {
     "name": "stderr",
     "output_type": "stream",
     "text": [
      "A subdirectory or file 26Point2/models already exists.\n"
     ]
    },
    {
     "name": "stdout",
     "output_type": "stream",
     "text": [
      "Model generated successfully at 26Point2\\models\\26Point2_2_1.prism\n"
     ]
    },
    {
     "name": "stderr",
     "output_type": "stream",
     "text": [
      "A subdirectory or file 26Point2/models already exists.\n"
     ]
    },
    {
     "name": "stdout",
     "output_type": "stream",
     "text": [
      "Model generated successfully at 26Point2\\models\\26Point2_3_1.prism\n"
     ]
    },
    {
     "name": "stderr",
     "output_type": "stream",
     "text": [
      "A subdirectory or file 26Point2/models already exists.\n"
     ]
    },
    {
     "name": "stdout",
     "output_type": "stream",
     "text": [
      "Model generated successfully at 26Point2\\models\\26Point2_4_1.prism\n"
     ]
    },
    {
     "name": "stderr",
     "output_type": "stream",
     "text": [
      "A subdirectory or file 26Point2/models already exists.\n"
     ]
    },
    {
     "name": "stdout",
     "output_type": "stream",
     "text": [
      "Model generated successfully at 26Point2\\models\\26Point2_4_2.prism\n"
     ]
    },
    {
     "name": "stderr",
     "output_type": "stream",
     "text": [
      "A subdirectory or file 26Point2/models already exists.\n"
     ]
    },
    {
     "name": "stdout",
     "output_type": "stream",
     "text": [
      "Model generated successfully at 26Point2\\models\\26Point2_5_1.prism\n"
     ]
    },
    {
     "name": "stderr",
     "output_type": "stream",
     "text": [
      "A subdirectory or file 26Point2/models already exists.\n"
     ]
    },
    {
     "name": "stdout",
     "output_type": "stream",
     "text": [
      "Model generated successfully at 26Point2\\models\\26Point2_5_2.prism\n"
     ]
    },
    {
     "name": "stderr",
     "output_type": "stream",
     "text": [
      "A subdirectory or file 26Point2/models already exists.\n"
     ]
    },
    {
     "name": "stdout",
     "output_type": "stream",
     "text": [
      "Model generated successfully at 26Point2\\models\\26Point2_5_3.prism\n"
     ]
    },
    {
     "name": "stderr",
     "output_type": "stream",
     "text": [
      "A subdirectory or file 26Point2/models already exists.\n"
     ]
    },
    {
     "name": "stdout",
     "output_type": "stream",
     "text": [
      "Model generated successfully at 26Point2\\models\\26Point2_5_4.prism\n"
     ]
    }
   ],
   "source": [
    "from IPython.display import Javascript\n",
    "\n",
    "\n",
    "strats = [[1, 1], [2,1], [3,1], [4,1], [4,2], [5,1], [5,2], [5,3], [5,4]]\n",
    "\n",
    "for strat in strats:\n",
    "    strat_1, strat_2 = strat\n",
    "    build_model(strat_1, strat_2)"
   ]
  },
  {
   "cell_type": "markdown",
   "metadata": {},
   "source": [
    "# Properties to consider\n",
    "\n",
    "* Win rate with various strategies (pick 2, pick 3, pick 4, pick 3/4)\n",
    "\n",
    "* Adversary to pick 2/pick 4, pick3/4) (figure out how long strategy generation takes...)\n",
    "\n",
    "* Potentially figure out bust rate? Though it may be nicer to do this theoretically for non-hybrid strategies..."
   ]
  },
  {
   "cell_type": "code",
   "execution_count": 81,
   "metadata": {
    "ExecuteTime": {
     "end_time": "2021-03-08T10:46:00.421732Z",
     "start_time": "2021-03-08T10:46:00.413725Z"
    }
   },
   "outputs": [],
   "source": [
    "strategies = []\n",
    "# strats have (model_spec, no_spaces, prop_number, log_filename)\n",
    "\n",
    "strategies.append([\"1_1\", 50, 1, \"random_winrate_50.log\"]) # random strat, should be 50% winrate (to convergence)\n",
    "strategies.append([\"4_2\", 50, 1, \"winrate_4_against_2.log\"]) # risky vs safe strats - does the higher average compensate for higher bustrate?\n",
    "strategies.append([\"5_2\", 50, 1, \"hybrid_against_2.log\"]) # safest strategy vs hybrid strategy\n",
    "strategies.append([\"5_3\", 50, 1, \"hybrid_against_3.log\"]) # hybrid vs three\n",
    "strategies.append([\"5_4\", 50, 1, \"hybrid_against_4.log\"]) # hybrid vs four\n"
   ]
  },
  {
   "cell_type": "markdown",
   "metadata": {},
   "source": [
    "## Step 2a: Make auto.sh file\n",
    "\n",
    "The big challenge with this case study is that the models are far too large to examine normally. Instead, we create a shell file that can run on a computing cluster."
   ]
  },
  {
   "cell_type": "code",
   "execution_count": 82,
   "metadata": {
    "ExecuteTime": {
     "end_time": "2021-03-08T10:46:01.011397Z",
     "start_time": "2021-03-08T10:46:01.002389Z"
    }
   },
   "outputs": [],
   "source": [
    "def make_shell_file(filename, strats):\n",
    "    with open(filename, 'w') as shell:\n",
    "        for strat in strats:\n",
    "            shell.write(f\"{get_command(strat)}\\n\\n\")\n",
    "\n",
    "def get_command(strategy):\n",
    "    model_spec, no_spaces, prop, log_file = strategy\n",
    "    model = f\"26Point2_{model_spec}\"\n",
    "    \n",
    "    # will need to improve later for adversary, but fine for now\n",
    "    command = f\"~/prism-games-csg-dev/prism/bin/prism {model}.prism 26Point2_manual.props -javamaxmem 700g -const no_spaces={no_spaces} -prop {prop} > cluster/{log_file}\"\n",
    "    \n",
    "    return(command)"
   ]
  },
  {
   "cell_type": "code",
   "execution_count": 83,
   "metadata": {
    "ExecuteTime": {
     "end_time": "2021-03-08T10:46:01.197737Z",
     "start_time": "2021-03-08T10:46:01.180722Z"
    }
   },
   "outputs": [],
   "source": [
    "make_shell_file(\"26Point2/logs/auto_generated.sh\", strategies)"
   ]
  },
  {
   "cell_type": "markdown",
   "metadata": {},
   "source": [
    "## Step 2b: Make logs with statistical model checking.\n",
    "\n",
    "Statistical model checking isn't great, but it's far quicker than probabilistic model checking so it's appropriate for \"quick checking\" purposes."
   ]
  },
  {
   "cell_type": "code",
   "execution_count": 84,
   "metadata": {
    "ExecuteTime": {
     "end_time": "2021-03-08T10:46:02.349427Z",
     "start_time": "2021-03-08T10:46:02.338417Z"
    }
   },
   "outputs": [],
   "source": [
    "def get_smc_logs(strats):\n",
    "    for strat in strats:\n",
    "        !{get_smc(strat)}\n",
    "\n",
    "def get_smc(strategy):\n",
    "    model_spec, no_spaces, prop, log_file = strategy\n",
    "    model = f\"26Point2_{model_spec}\"\n",
    "    \n",
    "    # will need to improve later for adversary, but fine for now\n",
    "    command = f\"prism 26Point2/models/{model}.prism 26Point2/props/26Point2_manual.props -const no_spaces={no_spaces} -prop {prop} -sim -simmethod ci -simsamples 10000 > 26Point2/logs/smc/{log_file}\"\n",
    "    \n",
    "    return(command)"
   ]
  },
  {
   "cell_type": "code",
   "execution_count": 85,
   "metadata": {
    "ExecuteTime": {
     "end_time": "2021-03-08T10:46:51.897432Z",
     "start_time": "2021-03-08T10:46:03.416890Z"
    }
   },
   "outputs": [],
   "source": [
    "get_smc_logs(strategies)"
   ]
  },
  {
   "cell_type": "code",
   "execution_count": 74,
   "metadata": {
    "ExecuteTime": {
     "end_time": "2021-03-08T10:34:55.534824Z",
     "start_time": "2021-03-08T10:34:46.827882Z"
    }
   },
   "outputs": [],
   "source": [
    "!prism 26Point2/models/26Point2_1_1.prism 26Point2/props/26Point2_manual.props  -const no_spaces=50 -prop 1 -sim -simmethod apmc -simsamples 10000 > 26Point2/logs/smc/autogen.log"
   ]
  },
  {
   "cell_type": "code",
   "execution_count": 24,
   "metadata": {
    "ExecuteTime": {
     "end_time": "2021-03-01T14:52:52.538424Z",
     "start_time": "2021-03-01T14:52:26.152617Z"
    }
   },
   "outputs": [
    {
     "name": "stdout",
     "output_type": "stream",
     "text": [
      "PRISM-games\n",
      "===========\n",
      "\n",
      "Version: 3.0 (based on PRISM 4.6)\n",
      "Date: Mon Mar 01 14:52:26 GMT 2021\n",
      "Hostname: DESKTOP-LDYER\n",
      "Memory limits: cudd=1g, java(heap)=910.5m\n",
      "Command line: prism-games 26Point2/models/26Point2_4_1.prism 26Point2/props/26Point2_manual.props -const no_spaces=100 -prop 6 -sim -simmethod ci -simsamples 10000\n",
      "\n",
      "Parsing model file \"26Point2/models/26Point2_4_1.prism\"...\n",
      "\n",
      "Type:        CSG\n",
      "Modules:     player1 player2 board \n",
      "Variables:   p1_pos p1_chosen_dice p1_1s p1_2s p1_3s p1_4s p2_pos p2_chosen_dice p2_1s p2_2s p2_3s p2_4s state winner \n",
      "\n",
      "Switching to explicit engine, which supports CSGs...\n",
      "\n",
      "Parsing properties file \"26Point2/props/26Point2_manual.props\"...\n",
      "\n",
      "7 properties:\n",
      "(1) Pmax=? [ F \"p1_wins\" ]\n",
      "(2) Pmax=? [ F \"p2_wins\" ]\n",
      "(3) Pmax=? [ F \"players_tie\" ]\n",
      "(4) Pmax=? [ F \"game_over\" ]\n",
      "(5) R{\"no_rounds\"}max=? [ F \"game_over\" ]\n",
      "(6) R{\"p1_busts\"}max=? [ F \"game_over\" ]\n",
      "(7) R{\"p1_busts\"}max=? [ F \"game_over\" ]/R{\"no_rounds\"}max=? [ F \"game_over\" ]\n",
      "\n",
      "---------------------------------------------------------------------\n",
      "\n",
      "Simulating: R{\"p1_busts\"}max=? [ F \"game_over\" ]\n",
      "Model constants: no_spaces=100\n",
      "\n",
      "Warning: For simulation, nondeterminism in CSG is resolved uniformly (resulting in DTMC).\n",
      "\n",
      "Simulation method: CI (Confidence Interval)\n",
      "Simulation method parameters: width=unknown, confidence=0.01, number of samples=10000\n",
      "Simulation parameters: max path length=10000\n",
      "\n",
      "Sampling progress: [ 10% 20% 30% 40% 50% 60% 70% 80% 90% 100% ]\n",
      "\n",
      "Sampling complete: 10000 iterations in 25.724 seconds (average 0.0026)\n",
      "Path length statistics: average 62, min 36, max 100\n",
      "\n",
      "Simulation method parameters: width=0.06786882205535007, confidence=0.01, number of samples=10000\n",
      "\n",
      "Simulation result details: confidence interval is 5.3683 +/- 0.06786882205535007, based on 99.0% confidence level\n",
      "\n",
      "Result: 5.3683 (with nondeterminism in CSG being resolved uniformly)\n",
      "\n",
      "---------------------------------------------------------------------\n",
      "\n",
      "Note: There was 1 warning during computation.\n",
      "\n"
     ]
    }
   ],
   "source": [
    "!prism 26Point2/models/{model_spec}.prism 26Point2/props/26Point2_manual.props -const no_spaces=100 -prop 6 -sim -simmethod ci -simsamples 10000"
   ]
  },
  {
   "cell_type": "markdown",
   "metadata": {},
   "source": [
    "## Step 3: Store data\n",
    "\n",
    "Once we have the log files from the cluster, we then filter those files and generate more readable data. (Note that we perform this filtering at this stage, not on the cluster - that way, we might not need to run everything again if we need more data than we anticipated."
   ]
  },
  {
   "cell_type": "code",
   "execution_count": null,
   "metadata": {},
   "outputs": [],
   "source": []
  },
  {
   "cell_type": "code",
   "execution_count": null,
   "metadata": {},
   "outputs": [],
   "source": []
  }
 ],
 "metadata": {
  "hide_input": false,
  "kernelspec": {
   "display_name": "Python 3",
   "language": "python",
   "name": "python3"
  },
  "language_info": {
   "codemirror_mode": {
    "name": "ipython",
    "version": 3
   },
   "file_extension": ".py",
   "mimetype": "text/x-python",
   "name": "python",
   "nbconvert_exporter": "python",
   "pygments_lexer": "ipython3",
   "version": "3.7.3"
  },
  "toc": {
   "base_numbering": 1,
   "nav_menu": {},
   "number_sections": true,
   "sideBar": true,
   "skip_h1_title": false,
   "title_cell": "Table of Contents",
   "title_sidebar": "Contents",
   "toc_cell": false,
   "toc_position": {},
   "toc_section_display": true,
   "toc_window_display": false
  }
 },
 "nbformat": 4,
 "nbformat_minor": 2
}
