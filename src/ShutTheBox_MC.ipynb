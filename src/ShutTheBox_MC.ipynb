{
 "cells": [
  {
   "cell_type": "markdown",
   "metadata": {},
   "source": [
    "# Shut the Box"
   ]
  },
  {
   "cell_type": "markdown",
   "metadata": {},
   "source": [
    "## Step 0: Utils for Jupyter Notebooks"
   ]
  },
  {
   "cell_type": "markdown",
   "metadata": {},
   "source": [
    "### Add button to Show/Hide code (to focus on outputs)"
   ]
  },
  {
   "cell_type": "code",
   "execution_count": 1,
   "metadata": {
    "ExecuteTime": {
     "end_time": "2020-11-30T15:18:00.757925Z",
     "start_time": "2020-11-30T15:18:00.742440Z"
    }
   },
   "outputs": [
    {
     "data": {
      "text/html": [
       "<script>\n",
       "code_show=true; \n",
       "function code_toggle() {\n",
       " if (code_show){\n",
       " $('div.input').hide();\n",
       " } else {\n",
       " $('div.input').show();\n",
       " }\n",
       " code_show = !code_show\n",
       "} \n",
       "$( document ).ready(code_toggle);\n",
       "</script>\n",
       "<form action=\"javascript:code_toggle()\"><input type=\"submit\" value=\"Show Code\"></form>"
      ],
      "text/plain": [
       "<IPython.core.display.HTML object>"
      ]
     },
     "execution_count": 1,
     "metadata": {},
     "output_type": "execute_result"
    }
   ],
   "source": [
    "from IPython.display import HTML\n",
    "\n",
    "HTML('''<script>\n",
    "code_show=true; \n",
    "function code_toggle() {\n",
    " if (code_show){\n",
    " $('div.input').hide();\n",
    " } else {\n",
    " $('div.input').show();\n",
    " }\n",
    " code_show = !code_show\n",
    "} \n",
    "$( document ).ready(code_toggle);\n",
    "</script>\n",
    "<form action=\"javascript:code_toggle()\"><input type=\"submit\" value=\"Show Code\"></form>''')"
   ]
  },
  {
   "cell_type": "markdown",
   "metadata": {},
   "source": [
    "### Add magic command to store python variables in csv file"
   ]
  },
  {
   "cell_type": "code",
   "execution_count": 2,
   "metadata": {
    "ExecuteTime": {
     "end_time": "2020-11-30T15:18:03.301236Z",
     "start_time": "2020-11-30T15:18:03.289232Z"
    }
   },
   "outputs": [],
   "source": [
    "# credit to sirex, https://github.com/ipython/ipython/issues/6701\n",
    "from IPython.core.magic import register_line_cell_magic\n",
    "\n",
    "@register_line_cell_magic\n",
    "def writetemplate(line, cell):\n",
    "    with open(line, 'w') as f:\n",
    "        f.write(cell.format(**globals()))"
   ]
  },
  {
   "cell_type": "markdown",
   "metadata": {},
   "source": [
    "## Step 1: Generate models"
   ]
  },
  {
   "cell_type": "code",
   "execution_count": 3,
   "metadata": {
    "ExecuteTime": {
     "end_time": "2020-11-30T15:18:10.888190Z",
     "start_time": "2020-11-30T15:18:10.870214Z"
    }
   },
   "outputs": [],
   "source": [
    "# Edit this cell to define parameters for your model...\n",
    "\n",
    "boards = 6 # Number of boards to use\n",
    "sides = 6 # Number of sides per die\n",
    "die = 1 # Number of die to roll each round\n",
    "\n",
    "max_score = boards * (boards+1) // 2"
   ]
  },
  {
   "cell_type": "code",
   "execution_count": 4,
   "metadata": {
    "ExecuteTime": {
     "end_time": "2020-11-30T15:18:15.454208Z",
     "start_time": "2020-11-30T15:18:15.438563Z"
    }
   },
   "outputs": [],
   "source": [
    "%%writetemplate ShutTheBox/params/stb_params_high.csv\n",
    "b, {boards}\n",
    "d, {sides}\n",
    "ndie, {die}\n",
    "strategy, 1"
   ]
  },
  {
   "cell_type": "code",
   "execution_count": 5,
   "metadata": {
    "ExecuteTime": {
     "end_time": "2020-11-30T15:18:15.470223Z",
     "start_time": "2020-11-30T15:18:15.456209Z"
    }
   },
   "outputs": [],
   "source": [
    "%%writetemplate ShutTheBox/params/stb_params_low.csv\n",
    "b, {boards}\n",
    "d, {sides}\n",
    "ndie, {die}\n",
    "strategy, 2"
   ]
  },
  {
   "cell_type": "code",
   "execution_count": 6,
   "metadata": {
    "ExecuteTime": {
     "end_time": "2020-11-30T15:18:15.485918Z",
     "start_time": "2020-11-30T15:18:15.472229Z"
    }
   },
   "outputs": [],
   "source": [
    "%%writetemplate ShutTheBox/params/stb_nondet_params.csv\n",
    "b, {boards}\n",
    "d, {sides}\n",
    "ndie, {die}\n",
    "strategy, 0"
   ]
  },
  {
   "cell_type": "code",
   "execution_count": 7,
   "metadata": {
    "ExecuteTime": {
     "end_time": "2020-11-30T15:18:15.517771Z",
     "start_time": "2020-11-30T15:18:15.487779Z"
    }
   },
   "outputs": [
    {
     "name": "stderr",
     "output_type": "stream",
     "text": [
      "A subdirectory or file test already exists.\n"
     ]
    }
   ],
   "source": [
    "!mkdir test"
   ]
  },
  {
   "cell_type": "code",
   "execution_count": 8,
   "metadata": {
    "ExecuteTime": {
     "end_time": "2020-11-30T15:18:15.655503Z",
     "start_time": "2020-11-30T15:18:15.518773Z"
    }
   },
   "outputs": [
    {
     "name": "stdout",
     "output_type": "stream",
     "text": [
      "Model generated successfully at ShutTheBox\\models\\stb6_1d6\\stb6_1d6_high.prism\n"
     ]
    }
   ],
   "source": [
    "model_spec = f\"stb{boards}_{die}d{sides}\"\n",
    "\n",
    "!mkdir \"ShutTheBox/models/$model_spec\"\n",
    "output_model_high = f\"ShutTheBox/models/{model_spec}/{model_spec}_high.prism\"\n",
    "\n",
    "!python utils/pyprism.py ShutTheBox/stb.pyprism $output_model_high ShutTheBox/params/stb_params_high.csv"
   ]
  },
  {
   "cell_type": "code",
   "execution_count": 9,
   "metadata": {
    "ExecuteTime": {
     "end_time": "2020-11-30T15:18:15.764567Z",
     "start_time": "2020-11-30T15:18:15.656915Z"
    }
   },
   "outputs": [
    {
     "name": "stdout",
     "output_type": "stream",
     "text": [
      "Model generated successfully at ShutTheBox\\models\\stb6_1d6\\stb6_1d6_low.prism\n"
     ]
    }
   ],
   "source": [
    "output_model_low = f\"ShutTheBox/models/{model_spec}/{model_spec}_low.prism\"\n",
    "\n",
    "!python utils/pyprism.py ShutTheBox/stb.pyprism $output_model_low ShutTheBox/params/stb_params_low.csv"
   ]
  },
  {
   "cell_type": "code",
   "execution_count": 10,
   "metadata": {
    "ExecuteTime": {
     "end_time": "2020-11-30T15:18:15.873943Z",
     "start_time": "2020-11-30T15:18:15.765994Z"
    }
   },
   "outputs": [
    {
     "name": "stdout",
     "output_type": "stream",
     "text": [
      "Model generated successfully at ShutTheBox\\models\\stb6_1d6\\stb6_1d6_nondet.prism\n"
     ]
    }
   ],
   "source": [
    "output_model_nondet = f\"ShutTheBox/models/{model_spec}/{model_spec}_nondet.prism\"\n",
    "\n",
    "!python utils/pyprism.py ShutTheBox/stb.pyprism $output_model_nondet ShutTheBox/params/stb_nondet_params.csv"
   ]
  },
  {
   "cell_type": "code",
   "execution_count": 11,
   "metadata": {
    "ExecuteTime": {
     "end_time": "2020-11-30T15:18:15.983834Z",
     "start_time": "2020-11-30T15:18:15.875831Z"
    }
   },
   "outputs": [
    {
     "name": "stdout",
     "output_type": "stream",
     "text": [
      "Model generated successfully at ShutTheBox\\props\\stb6_1d6.props\n"
     ]
    }
   ],
   "source": [
    "output_props = f\"ShutTheBox/props/{model_spec}.props\"\n",
    "\n",
    "!python utils/pyprism.py ShutTheBox/stbprops.pyprism $output_props ShutTheBox/params/stb_params_high.csv"
   ]
  },
  {
   "cell_type": "markdown",
   "metadata": {},
   "source": [
    "## Step 2: Check properties, run experiments, export data"
   ]
  },
  {
   "cell_type": "markdown",
   "metadata": {},
   "source": [
    "### Does the game eventually always terminate?\n",
    "\n",
    "We expect to see a value of approximately 1 here (it won't be exact because CSGs only support methods based on numerical convergence, so it may be slightly under or even over 1!"
   ]
  },
  {
   "cell_type": "code",
   "execution_count": 12,
   "metadata": {
    "ExecuteTime": {
     "end_time": "2020-11-30T15:18:17.674226Z",
     "start_time": "2020-11-30T15:18:15.985835Z"
    }
   },
   "outputs": [
    {
     "name": "stdout",
     "output_type": "stream",
     "text": [
      "Model checking: <<p1>>Pmax=? [ F game_over ]\n",
      "Reachable states exploration and model construction done in 0.093 secs.\n",
      "Time for model construction: 0.111 seconds.\n",
      "Precomputation took 0.035 seconds.\n",
      "Time for model checking: 0.121 seconds.\n",
      "Result: 0.9999999999999998 (value in the initial state)\n"
     ]
    }
   ],
   "source": [
    "!prism $output_model_high $output_props -prop 1 | grep -E \"(Model checking)|(Result)|(sec)|(Error)\""
   ]
  },
  {
   "cell_type": "markdown",
   "metadata": {},
   "source": [
    "### Probability of obtaining each score "
   ]
  },
  {
   "cell_type": "code",
   "execution_count": 13,
   "metadata": {
    "ExecuteTime": {
     "end_time": "2020-11-30T15:18:19.342307Z",
     "start_time": "2020-11-30T15:18:17.675196Z"
    }
   },
   "outputs": [
    {
     "name": "stdout",
     "output_type": "stream",
     "text": [
      "Model checking: <<p1>>Pmin=? [ F game_over&score=k ]\n",
      "Property constants: k=1\n",
      "Result: 0.027777777777777776 (value in the initial state)\n",
      "Model checking: <<p1>>Pmin=? [ F game_over&score=k ]\n",
      "Property constants: k=2\n",
      "Result: 0.027777777777777776 (value in the initial state)\n",
      "Model checking: <<p1>>Pmin=? [ F game_over&score=k ]\n",
      "Property constants: k=3\n",
      "Result: 0.018518518518518517 (value in the initial state)\n",
      "Model checking: <<p1>>Pmin=? [ F game_over&score=k ]\n",
      "Property constants: k=4\n",
      "Result: 0.018518518518518517 (value in the initial state)\n",
      "Model checking: <<p1>>Pmin=? [ F game_over&score=k ]\n",
      "Property constants: k=5\n",
      "Result: 0.037037037037037035 (value in the initial state)\n",
      "Model checking: <<p1>>Pmin=? [ F game_over&score=k ]\n",
      "Property constants: k=6\n",
      "Result: 0.046296296296296294 (value in the initial state)\n",
      "Model checking: <<p1>>Pmin=? [ F game_over&score=k ]\n",
      "Property constants: k=7\n",
      "Result: 0.041666666666666664 (value in the initial state)\n",
      "Model checking: <<p1>>Pmin=? [ F game_over&score=k ]\n",
      "Property constants: k=8\n",
      "Result: 0.05092592592592592 (value in the initial state)\n",
      "Model checking: <<p1>>Pmin=? [ F game_over&score=k ]\n",
      "Property constants: k=9\n",
      "Result: 0.041666666666666664 (value in the initial state)\n",
      "Model checking: <<p1>>Pmin=? [ F game_over&score=k ]\n",
      "Property constants: k=10\n",
      "Result: 0.06790123456790123 (value in the initial state)\n",
      "Model checking: <<p1>>Pmin=? [ F game_over&score=k ]\n",
      "Property constants: k=11\n",
      "Result: 0.06018518518518518 (value in the initial state)\n",
      "Model checking: <<p1>>Pmin=? [ F game_over&score=k ]\n",
      "Property constants: k=12\n",
      "Result: 0.0632716049382716 (value in the initial state)\n",
      "Model checking: <<p1>>Pmin=? [ F game_over&score=k ]\n",
      "Property constants: k=13\n",
      "Result: 0.06018518518518518 (value in the initial state)\n",
      "Model checking: <<p1>>Pmin=? [ F game_over&score=k ]\n",
      "Property constants: k=14\n",
      "Result: 0.05864197530864197 (value in the initial state)\n",
      "Model checking: <<p1>>Pmin=? [ F game_over&score=k ]\n",
      "Property constants: k=15\n",
      "Result: 0.07175925925925924 (value in the initial state)\n",
      "Model checking: <<p1>>Pmin=? [ F game_over&score=k ]\n",
      "Property constants: k=16\n",
      "Result: 0.06584362139917693 (value in the initial state)\n",
      "Model checking: <<p1>>Pmin=? [ F game_over&score=k ]\n",
      "Property constants: k=17\n",
      "Result: 0.04706790123456789 (value in the initial state)\n",
      "Model checking: <<p1>>Pmin=? [ F game_over&score=k ]\n",
      "Property constants: k=18\n",
      "Result: 0.04526748971193414 (value in the initial state)\n",
      "Model checking: <<p1>>Pmin=? [ F game_over&score=k ]\n",
      "Property constants: k=19\n",
      "Result: 0.030864197530864185 (value in the initial state)\n",
      "Model checking: <<p1>>Pmin=? [ F game_over&score=k ]\n",
      "Property constants: k=20\n",
      "Result: 0.02314814814814814 (value in the initial state)\n",
      "Model checking: <<p1>>Pmin=? [ F game_over&score=k ]\n",
      "Property constants: k=21\n",
      "Result: 0.0745884773662551 (value in the initial state)\n"
     ]
    }
   ],
   "source": [
    "data_location = f\"ShutTheBox/data/{model_spec}\"\n",
    "\n",
    "!mkdir \"$data_location\"\n",
    "\n",
    "prob_score_high_file = f\"{data_location}/{model_spec}_prob_score_high.csv\"\n",
    "\n",
    "!prism $output_model_high $output_props -prop 2 -const k=1:{max_score} -exportresults {prob_score_high_file}:csv | grep -E \"(Model checking)|(Result)|(Property constants)|(Error)\""
   ]
  },
  {
   "cell_type": "code",
   "execution_count": 14,
   "metadata": {
    "ExecuteTime": {
     "end_time": "2020-11-30T15:18:20.911272Z",
     "start_time": "2020-11-30T15:18:19.344276Z"
    }
   },
   "outputs": [
    {
     "name": "stdout",
     "output_type": "stream",
     "text": [
      "Model checking: <<p1>>Pmin=? [ F game_over&score=k ]\n",
      "Property constants: k=1\n",
      "Reachable states exploration and model construction done in 0.069 secs.\n",
      "Time for model construction: 0.082 seconds.\n",
      "Precomputation took 0.017 seconds.\n",
      "Time for model checking: 0.03 seconds.\n",
      "Result: 0.027777777777777776 (value in the initial state)\n",
      "Model checking: <<p1>>Pmin=? [ F game_over&score=k ]\n",
      "Property constants: k=2\n",
      "Precomputation took 0.008 seconds.\n",
      "Time for model checking: 0.012 seconds.\n",
      "Result: 0.027777777777777776 (value in the initial state)\n",
      "Model checking: <<p1>>Pmin=? [ F game_over&score=k ]\n",
      "Property constants: k=3\n",
      "Precomputation took 0.008 seconds.\n",
      "Time for model checking: 0.016 seconds.\n",
      "Result: 0.07407407407407407 (value in the initial state)\n",
      "Model checking: <<p1>>Pmin=? [ F game_over&score=k ]\n",
      "Property constants: k=4\n",
      "Precomputation took 0.008 seconds.\n",
      "Time for model checking: 0.013 seconds.\n",
      "Result: 0.06481481481481481 (value in the initial state)\n",
      "Model checking: <<p1>>Pmin=? [ F game_over&score=k ]\n",
      "Property constants: k=5\n",
      "Precomputation took 0.008 seconds.\n",
      "Time for model checking: 0.014 seconds.\n",
      "Result: 0.07407407407407407 (value in the initial state)\n",
      "Model checking: <<p1>>Pmin=? [ F game_over&score=k ]\n",
      "Property constants: k=6\n",
      "Precomputation took 0.01 seconds.\n",
      "Time for model checking: 0.018 seconds.\n",
      "Result: 0.16203703703703703 (value in the initial state)\n",
      "Model checking: <<p1>>Pmin=? [ F game_over&score=k ]\n",
      "Property constants: k=7\n",
      "Precomputation took 0.009 seconds.\n",
      "Time for model checking: 0.015 seconds.\n",
      "Result: 0.039351851851851846 (value in the initial state)\n",
      "Model checking: <<p1>>Pmin=? [ F game_over&score=k ]\n",
      "Property constants: k=8\n",
      "Precomputation took 0.006 seconds.\n",
      "Time for model checking: 0.01 seconds.\n",
      "Result: 0.050925925925925916 (value in the initial state)\n",
      "Model checking: <<p1>>Pmin=? [ F game_over&score=k ]\n",
      "Property constants: k=9\n",
      "Precomputation took 0.006 seconds.\n",
      "Time for model checking: 0.011 seconds.\n",
      "Result: 0.05092592592592592 (value in the initial state)\n",
      "Model checking: <<p1>>Pmin=? [ F game_over&score=k ]\n",
      "Property constants: k=10\n",
      "Precomputation took 0.006 seconds.\n",
      "Time for model checking: 0.012 seconds.\n",
      "Result: 0.08847736625514403 (value in the initial state)\n",
      "Model checking: <<p1>>Pmin=? [ F game_over&score=k ]\n",
      "Property constants: k=11\n",
      "Precomputation took 0.005 seconds.\n",
      "Time for model checking: 0.011 seconds.\n",
      "Result: 0.07073045267489712 (value in the initial state)\n",
      "Model checking: <<p1>>Pmin=? [ F game_over&score=k ]\n",
      "Property constants: k=12\n",
      "Precomputation took 0.006 seconds.\n",
      "Time for model checking: 0.012 seconds.\n",
      "Result: 0.058127572016460904 (value in the initial state)\n",
      "Model checking: <<p1>>Pmin=? [ F game_over&score=k ]\n",
      "Property constants: k=13\n",
      "Precomputation took 0.005 seconds.\n",
      "Time for model checking: 0.01 seconds.\n",
      "Result: 0.021604938271604937 (value in the initial state)\n",
      "Model checking: <<p1>>Pmin=? [ F game_over&score=k ]\n",
      "Property constants: k=14\n",
      "Precomputation took 0.006 seconds.\n",
      "Time for model checking: 0.011 seconds.\n",
      "Result: 0.019547325102880656 (value in the initial state)\n",
      "Model checking: <<p1>>Pmin=? [ F game_over&score=k ]\n",
      "Property constants: k=15\n",
      "Precomputation took 0.01 seconds.\n",
      "Time for model checking: 0.015 seconds.\n",
      "Result: 0.050368655692729754 (value in the initial state)\n",
      "Model checking: <<p1>>Pmin=? [ F game_over&score=k ]\n",
      "Property constants: k=16\n",
      "Precomputation took 0.006 seconds.\n",
      "Time for model checking: 0.012 seconds.\n",
      "Result: 0.03187157064471879 (value in the initial state)\n",
      "Model checking: <<p1>>Pmin=? [ F game_over&score=k ]\n",
      "Property constants: k=17\n",
      "Precomputation took 0.008 seconds.\n",
      "Time for model checking: 0.013 seconds.\n",
      "Result: 0.024969993141289427 (value in the initial state)\n",
      "Model checking: <<p1>>Pmin=? [ F game_over&score=k ]\n",
      "Property constants: k=18\n",
      "Precomputation took 0.008 seconds.\n",
      "Time for model checking: 0.012 seconds.\n",
      "Result: 0.00932355967078189 (value in the initial state)\n",
      "Model checking: <<p1>>Pmin=? [ F game_over&score=k ]\n",
      "Property constants: k=19\n",
      "Precomputation took 0.007 seconds.\n",
      "Time for model checking: 0.012 seconds.\n",
      "Result: 0.0025720164609053485 (value in the initial state)\n",
      "Model checking: <<p1>>Pmin=? [ F game_over&score=k ]\n",
      "Property constants: k=20\n",
      "Precomputation took 0.011 seconds.\n",
      "Time for model checking: 0.014 seconds.\n",
      "Result: 7.501714677640601E-4 (value in the initial state)\n",
      "Model checking: <<p1>>Pmin=? [ F game_over&score=k ]\n",
      "Property constants: k=21\n",
      "Precomputation took 0.007 seconds.\n",
      "Time for model checking: 0.016 seconds.\n",
      "Result: 0.024434156378600816 (value in the initial state)\n"
     ]
    }
   ],
   "source": [
    "prob_score_low_file = f\"{data_location}/{model_spec}_prob_score_low.csv\"\n",
    "\n",
    "!prism $output_model_low $output_props -prop 2 -const k=1:{max_score} -exportresults {prob_score_low_file}:csv | grep -E \"(Model checking)|(Result)|(Property constants)|(sec)|(Error)\""
   ]
  },
  {
   "cell_type": "code",
   "execution_count": 15,
   "metadata": {
    "ExecuteTime": {
     "end_time": "2020-11-30T15:18:22.545777Z",
     "start_time": "2020-11-30T15:18:20.912273Z"
    }
   },
   "outputs": [
    {
     "name": "stdout",
     "output_type": "stream",
     "text": [
      "Model checking: <<p1>>Pmin=? [ F game_over&score=k ]\n",
      "Property constants: k=1\n",
      "Result: 0.027777777777777776 (value in the initial state)\n",
      "Model checking: <<p1>>Pmin=? [ F game_over&score=k ]\n",
      "Property constants: k=2\n",
      "Result: 0.027777777777777776 (value in the initial state)\n",
      "Model checking: <<p1>>Pmin=? [ F game_over&score=k ]\n",
      "Property constants: k=3\n",
      "Result: 0.018518518518518517 (value in the initial state)\n",
      "Model checking: <<p1>>Pmin=? [ F game_over&score=k ]\n",
      "Property constants: k=4\n",
      "Result: 0.009259259259259259 (value in the initial state)\n",
      "Model checking: <<p1>>Pmin=? [ F game_over&score=k ]\n",
      "Property constants: k=5\n",
      "Result: 0.018518518518518517 (value in the initial state)\n",
      "Model checking: <<p1>>Pmin=? [ F game_over&score=k ]\n",
      "Property constants: k=6\n",
      "Result: 0.037037037037037035 (value in the initial state)\n",
      "Model checking: <<p1>>Pmin=? [ F game_over&score=k ]\n",
      "Property constants: k=7\n",
      "Result: 0.020833333333333332 (value in the initial state)\n",
      "Model checking: <<p1>>Pmin=? [ F game_over&score=k ]\n",
      "Property constants: k=8\n",
      "Result: 0.032407407407407406 (value in the initial state)\n",
      "Model checking: <<p1>>Pmin=? [ F game_over&score=k ]\n",
      "Property constants: k=9\n",
      "Result: 0.018518518518518517 (value in the initial state)\n",
      "Model checking: <<p1>>Pmin=? [ F game_over&score=k ]\n",
      "Property constants: k=10\n",
      "Result: 0.05195473251028806 (value in the initial state)\n",
      "Model checking: <<p1>>Pmin=? [ F game_over&score=k ]\n",
      "Property constants: k=11\n",
      "Result: 0.03883744855967078 (value in the initial state)\n",
      "Model checking: <<p1>>Pmin=? [ F game_over&score=k ]\n",
      "Property constants: k=12\n",
      "Result: 0.03858024691358024 (value in the initial state)\n",
      "Model checking: <<p1>>Pmin=? [ F game_over&score=k ]\n",
      "Property constants: k=13\n",
      "Result: 0.021347736625514403 (value in the initial state)\n",
      "Model checking: <<p1>>Pmin=? [ F game_over&score=k ]\n",
      "Property constants: k=14\n",
      "Result: 0.016975308641975308 (value in the initial state)\n",
      "Model checking: <<p1>>Pmin=? [ F game_over&score=k ]\n",
      "Property constants: k=15\n",
      "Result: 0.030178326474622763 (value in the initial state)\n",
      "Model checking: <<p1>>Pmin=? [ F game_over&score=k ]\n",
      "Property constants: k=16\n",
      "Result: 0.02396262002743484 (value in the initial state)\n",
      "Model checking: <<p1>>Pmin=? [ F game_over&score=k ]\n",
      "Property constants: k=17\n",
      "Result: 0.010266632373113852 (value in the initial state)\n",
      "Model checking: <<p1>>Pmin=? [ F game_over&score=k ]\n",
      "Property constants: k=18\n",
      "Result: 0.0055298353909465 (value in the initial state)\n",
      "Model checking: <<p1>>Pmin=? [ F game_over&score=k ]\n",
      "Property constants: k=19\n",
      "Result: 0.0022505144032921804 (value in the initial state)\n",
      "Model checking: <<p1>>Pmin=? [ F game_over&score=k ]\n",
      "Property constants: k=20\n",
      "Result: 1.0716735253772286E-4 (value in the initial state)\n",
      "Model checking: <<p1>>Pmin=? [ F game_over&score=k ]\n",
      "Property constants: k=21\n",
      "Result: 0.023662551440329208 (value in the initial state)\n"
     ]
    }
   ],
   "source": [
    "prob_score_nondet_min_file = f\"{data_location}/{model_spec}_prob_score_nondet_min.csv\"\n",
    "\n",
    "!prism $output_model_nondet $output_props -prop 2 -const k=1:{max_score} -exportresults {prob_score_nondet_min_file}:csv | grep -E \"(Model checking)|(Result)|(Property constants)|(Error)\""
   ]
  },
  {
   "cell_type": "code",
   "execution_count": 16,
   "metadata": {
    "ExecuteTime": {
     "end_time": "2020-11-30T15:18:24.116877Z",
     "start_time": "2020-11-30T15:18:22.547778Z"
    },
    "scrolled": false
   },
   "outputs": [
    {
     "name": "stdout",
     "output_type": "stream",
     "text": [
      "Model checking: <<p1>>Pmax=? [ F game_over&score=k ]\n",
      "Property constants: k=1\n",
      "Result: 0.027777777777777776 (value in the initial state)\n",
      "Model checking: <<p1>>Pmax=? [ F game_over&score=k ]\n",
      "Property constants: k=2\n",
      "Result: 0.027777777777777776 (value in the initial state)\n",
      "Model checking: <<p1>>Pmax=? [ F game_over&score=k ]\n",
      "Property constants: k=3\n",
      "Result: 0.07407407407407407 (value in the initial state)\n",
      "Model checking: <<p1>>Pmax=? [ F game_over&score=k ]\n",
      "Property constants: k=4\n",
      "Result: 0.07407407407407407 (value in the initial state)\n",
      "Model checking: <<p1>>Pmax=? [ F game_over&score=k ]\n",
      "Property constants: k=5\n",
      "Result: 0.09259259259259259 (value in the initial state)\n",
      "Model checking: <<p1>>Pmax=? [ F game_over&score=k ]\n",
      "Property constants: k=6\n",
      "Result: 0.16666666666666669 (value in the initial state)\n",
      "Model checking: <<p1>>Pmax=? [ F game_over&score=k ]\n",
      "Property constants: k=7\n",
      "Result: 0.09722222222222224 (value in the initial state)\n",
      "Model checking: <<p1>>Pmax=? [ F game_over&score=k ]\n",
      "Property constants: k=8\n",
      "Result: 0.09722222222222221 (value in the initial state)\n",
      "Model checking: <<p1>>Pmax=? [ F game_over&score=k ]\n",
      "Property constants: k=9\n",
      "Result: 0.09722222222222221 (value in the initial state)\n",
      "Model checking: <<p1>>Pmax=? [ F game_over&score=k ]\n",
      "Property constants: k=10\n",
      "Result: 0.13580246913580246 (value in the initial state)\n",
      "Model checking: <<p1>>Pmax=? [ F game_over&score=k ]\n",
      "Property constants: k=11\n",
      "Result: 0.1111111111111111 (value in the initial state)\n",
      "Model checking: <<p1>>Pmax=? [ F game_over&score=k ]\n",
      "Property constants: k=12\n",
      "Result: 0.11419753086419752 (value in the initial state)\n",
      "Model checking: <<p1>>Pmax=? [ F game_over&score=k ]\n",
      "Property constants: k=13\n",
      "Result: 0.08641975308641975 (value in the initial state)\n",
      "Model checking: <<p1>>Pmax=? [ F game_over&score=k ]\n",
      "Property constants: k=14\n",
      "Result: 0.08333333333333333 (value in the initial state)\n",
      "Model checking: <<p1>>Pmax=? [ F game_over&score=k ]\n",
      "Property constants: k=15\n",
      "Result: 0.10673868312757197 (value in the initial state)\n",
      "Model checking: <<p1>>Pmax=? [ F game_over&score=k ]\n",
      "Property constants: k=16\n",
      "Result: 0.0848765432098765 (value in the initial state)\n",
      "Model checking: <<p1>>Pmax=? [ F game_over&score=k ]\n",
      "Property constants: k=17\n",
      "Result: 0.06301440329218104 (value in the initial state)\n",
      "Model checking: <<p1>>Pmax=? [ F game_over&score=k ]\n",
      "Property constants: k=18\n",
      "Result: 0.05401234567901232 (value in the initial state)\n",
      "Model checking: <<p1>>Pmax=? [ F game_over&score=k ]\n",
      "Property constants: k=19\n",
      "Result: 0.036008230452674886 (value in the initial state)\n",
      "Model checking: <<p1>>Pmax=? [ F game_over&score=k ]\n",
      "Property constants: k=20\n",
      "Result: 0.028292181069958837 (value in the initial state)\n",
      "Model checking: <<p1>>Pmax=? [ F game_over&score=k ]\n",
      "Property constants: k=21\n",
      "Result: 0.07458847736625511 (value in the initial state)\n"
     ]
    }
   ],
   "source": [
    "prob_score_nondet_max_file = f\"{data_location}/{model_spec}_prob_score_nondet_max.csv\"\n",
    "\n",
    "!prism $output_model_nondet $output_props -prop 3 -const k=1:{max_score} -exportresults {prob_score_nondet_max_file}:csv | grep -E \"(Model checking)|(Result)|(Property constants)|(Error)\""
   ]
  },
  {
   "cell_type": "markdown",
   "metadata": {},
   "source": [
    "### Expected number of die rolls"
   ]
  },
  {
   "cell_type": "code",
   "execution_count": 17,
   "metadata": {
    "ExecuteTime": {
     "end_time": "2020-11-30T15:18:27.228246Z",
     "start_time": "2020-11-30T15:18:24.117878Z"
    }
   },
   "outputs": [
    {
     "name": "stdout",
     "output_type": "stream",
     "text": [
      "High board strategy:\n",
      "Model checking: <<p1>>R{\"no_rolls\"}max=? [ F game_over ]\n",
      "Result: 4.313786008230452 (value in the initial state)\n",
      "Low board strategy:\n",
      "Model checking: <<p1>>R{\"no_rolls\"}max=? [ F game_over ]\n",
      "Result: 3.214077503429355 (value in the initial state)\n"
     ]
    }
   ],
   "source": [
    "print(\"High board strategy:\")\n",
    "!prism $output_model_high $output_props -prop 9 | grep -E \"(Model checking)|(Result)|(Error)\"\n",
    "print(\"Low board strategy:\")\n",
    "!prism $output_model_low $output_props -prop 9 | grep -E \"(Model checking)|(Result)|(Error)\""
   ]
  },
  {
   "cell_type": "markdown",
   "metadata": {},
   "source": [
    "### Probability of obtaining a score given a particular board is covered"
   ]
  },
  {
   "cell_type": "code",
   "execution_count": 18,
   "metadata": {
    "ExecuteTime": {
     "end_time": "2020-11-30T15:18:37.030621Z",
     "start_time": "2020-11-30T15:18:27.229247Z"
    },
    "tags": [
     "outputPrepend"
    ]
   },
   "outputs": [
    {
     "name": "stdout",
     "output_type": "stream",
     "text": [
      "Model checking: <<p1>>Pmin=? [ F game_over&b1=1&score=k ]/<<p1>>Pmin=? [ F game_over&score=k ]\n",
      "Property constants: k=1\n",
      "Result: 1.0 (value in the initial state)\n",
      "Model checking: <<p1>>Pmin=? [ F game_over&b1=1&score=k ]/<<p1>>Pmin=? [ F game_over&score=k ]\n",
      "Property constants: k=2\n",
      "Result: 0.0 (value in the initial state)\n",
      "Model checking: <<p1>>Pmin=? [ F game_over&b1=1&score=k ]/<<p1>>Pmin=? [ F game_over&score=k ]\n",
      "Property constants: k=3\n",
      "Result: 1.0 (value in the initial state)\n",
      "Model checking: <<p1>>Pmin=? [ F game_over&b1=1&score=k ]/<<p1>>Pmin=? [ F game_over&score=k ]\n",
      "Property constants: k=4\n",
      "Result: 1.0 (value in the initial state)\n",
      "Model checking: <<p1>>Pmin=? [ F game_over&b1=1&score=k ]/<<p1>>Pmin=? [ F game_over&score=k ]\n",
      "Property constants: k=5\n",
      "Result: 0.5 (value in the initial state)\n",
      "Model checking: <<p1>>Pmin=? [ F game_over&b1=1&score=k ]/<<p1>>Pmin=? [ F game_over&score=k ]\n",
      "Property constants: k=6\n",
      "Result: 0.8 (value in the initial state)\n",
      "Model checking: <<p1>>Pmin=? [ F game_over&b1=1&score=k ]/<<p1>>Pmin=? [ F game_over&score=k ]\n",
      "Property constants: k=7\n",
      "Result: 0.5555555555555556 (value in the initial state)\n",
      "Model checking: <<p1>>Pmin=? [ F game_over&b1=1&score=k ]/<<p1>>Pmin=? [ F game_over&score=k ]\n",
      "Property constants: k=8\n",
      "Result: 0.8181818181818182 (value in the initial state)\n",
      "Model checking: <<p1>>Pmin=? [ F game_over&b1=1&score=k ]/<<p1>>Pmin=? [ F game_over&score=k ]\n",
      "Property constants: k=9\n",
      "Result: 0.6666666666666666 (value in the initial state)\n",
      "Model checking: <<p1>>Pmin=? [ F game_over&b1=1&score=k ]/<<p1>>Pmin=? [ F game_over&score=k ]\n",
      "Property constants: k=10\n",
      "Result: 0.7272727272727273 (value in the initial state)\n",
      "Model checking: <<p1>>Pmin=? [ F game_over&b1=1&score=k ]/<<p1>>Pmin=? [ F game_over&score=k ]\n",
      "Property constants: k=11\n",
      "Result: 0.6923076923076923 (value in the initial state)\n",
      "Model checking: <<p1>>Pmin=? [ F game_over&b1=1&score=k ]/<<p1>>Pmin=? [ F game_over&score=k ]\n",
      "Property constants: k=12\n",
      "Result: 0.7073170731707318 (value in the initial state)\n",
      "Model checking: <<p1>>Pmin=? [ F game_over&b1=1&score=k ]/<<p1>>Pmin=? [ F game_over&score=k ]\n",
      "Property constants: k=13\n",
      "Result: 0.7692307692307693 (value in the initial state)\n",
      "Model checking: <<p1>>Pmin=? [ F game_over&b1=1&score=k ]/<<p1>>Pmin=? [ F game_over&score=k ]\n",
      "Property constants: k=14\n",
      "Result: 0.6842105263157895 (value in the initial state)\n",
      "Model checking: <<p1>>Pmin=? [ F game_over&b1=1&score=k ]/<<p1>>Pmin=? [ F game_over&score=k ]\n",
      "Property constants: k=15\n",
      "Result: 0.7741935483870966 (value in the initial state)\n",
      "Model checking: <<p1>>Pmin=? [ F game_over&b1=1&score=k ]/<<p1>>Pmin=? [ F game_over&score=k ]\n",
      "Property constants: k=16\n",
      "Result: 0.7539062499999999 (value in the initial state)\n",
      "Model checking: <<p1>>Pmin=? [ F game_over&b1=1&score=k ]/<<p1>>Pmin=? [ F game_over&score=k ]\n",
      "Property constants: k=17\n",
      "Result: 0.6557377049180327 (value in the initial state)\n",
      "Model checking: <<p1>>Pmin=? [ F game_over&b1=1&score=k ]/<<p1>>Pmin=? [ F game_over&score=k ]\n",
      "Property constants: k=18\n",
      "Result: 0.7954545454545455 (value in the initial state)\n",
      "Model checking: <<p1>>Pmin=? [ F game_over&b1=1&score=k ]/<<p1>>Pmin=? [ F game_over&score=k ]\n",
      "Property constants: k=19\n",
      "Result: 1.0 (value in the initial state)\n",
      "Model checking: <<p1>>Pmin=? [ F game_over&b1=1&score=k ]/<<p1>>Pmin=? [ F game_over&score=k ]\n",
      "Property constants: k=20\n",
      "Result: 0.0 (value in the initial state)\n",
      "Model checking: <<p1>>Pmin=? [ F game_over&b1=1&score=k ]/<<p1>>Pmin=? [ F game_over&score=k ]\n",
      "Property constants: k=21\n",
      "Result: 1.0 (value in the initial state)\n",
      "Exporting results to file \"ShutTheBox/data/stb6_1d6/stb6_1d6_score_given_1.csv\"...\n",
      "Model checking: <<p1>>Pmin=? [ F game_over&b2=1&score=k ]/<<p1>>Pmin=? [ F game_over&score=k ]\n",
      "Property constants: k=1\n",
      "Result: 0.0 (value in the initial state)\n",
      "Model checking: <<p1>>Pmin=? [ F game_over&b2=1&score=k ]/<<p1>>Pmin=? [ F game_over&score=k ]\n",
      "Property constants: k=2\n",
      "Result: 1.0 (value in the initial state)\n",
      "Model checking: <<p1>>Pmin=? [ F game_over&b2=1&score=k ]/<<p1>>Pmin=? [ F game_over&score=k ]\n",
      "Property constants: k=3\n",
      "Result: 1.0 (value in the initial state)\n",
      "Model checking: <<p1>>Pmin=? [ F game_over&b2=1&score=k ]/<<p1>>Pmin=? [ F game_over&score=k ]\n",
      "Property constants: k=4\n",
      "Result: 0.0 (value in the initial state)\n",
      "Model checking: <<p1>>Pmin=? [ F game_over&b2=1&score=k ]/<<p1>>Pmin=? [ F game_over&score=k ]\n",
      "Property constants: k=5\n",
      "Result: 0.5 (value in the initial state)\n",
      "Model checking: <<p1>>Pmin=? [ F game_over&b2=1&score=k ]/<<p1>>Pmin=? [ F game_over&score=k ]\n",
      "Property constants: k=6\n",
      "Result: 0.8 (value in the initial state)\n",
      "Model checking: <<p1>>Pmin=? [ F game_over&b2=1&score=k ]/<<p1>>Pmin=? [ F game_over&score=k ]\n",
      "Property constants: k=7\n",
      "Result: 0.5555555555555556 (value in the initial state)\n",
      "Model checking: <<p1>>Pmin=? [ F game_over&b2=1&score=k ]/<<p1>>Pmin=? [ F game_over&score=k ]\n",
      "Property constants: k=8\n",
      "Result: 0.45454545454545453 (value in the initial state)\n",
      "Model checking: <<p1>>Pmin=? [ F game_over&b2=1&score=k ]/<<p1>>Pmin=? [ F game_over&score=k ]\n",
      "Property constants: k=9\n",
      "Result: 0.6666666666666666 (value in the initial state)\n",
      "Model checking: <<p1>>Pmin=? [ F game_over&b2=1&score=k ]/<<p1>>Pmin=? [ F game_over&score=k ]\n",
      "Property constants: k=10\n",
      "Result: 0.5909090909090909 (value in the initial state)\n",
      "Model checking: <<p1>>Pmin=? [ F game_over&b2=1&score=k ]/<<p1>>Pmin=? [ F game_over&score=k ]\n",
      "Property constants: k=11\n",
      "Result: 0.7692307692307693 (value in the initial state)\n",
      "Model checking: <<p1>>Pmin=? [ F game_over&b2=1&score=k ]/<<p1>>Pmin=? [ F game_over&score=k ]\n",
      "Property constants: k=12\n",
      "Result: 0.7073170731707318 (value in the initial state)\n",
      "Model checking: <<p1>>Pmin=? [ F game_over&b2=1&score=k ]/<<p1>>Pmin=? [ F game_over&score=k ]\n",
      "Property constants: k=13\n",
      "Result: 0.46153846153846156 (value in the initial state)\n",
      "Model checking: <<p1>>Pmin=? [ F game_over&b2=1&score=k ]/<<p1>>Pmin=? [ F game_over&score=k ]\n",
      "Property constants: k=14\n",
      "Result: 0.631578947368421 (value in the initial state)\n",
      "Model checking: <<p1>>Pmin=? [ F game_over&b2=1&score=k ]/<<p1>>Pmin=? [ F game_over&score=k ]\n",
      "Property constants: k=15\n",
      "Result: 0.7741935483870966 (value in the initial state)\n",
      "Model checking: <<p1>>Pmin=? [ F game_over&b2=1&score=k ]/<<p1>>Pmin=? [ F game_over&score=k ]\n",
      "Property constants: k=16\n",
      "Result: 0.6484375 (value in the initial state)\n",
      "Model checking: <<p1>>Pmin=? [ F game_over&b2=1&score=k ]/<<p1>>Pmin=? [ F game_over&score=k ]\n",
      "Property constants: k=17\n",
      "Result: 1.0 (value in the initial state)\n",
      "Model checking: <<p1>>Pmin=? [ F game_over&b2=1&score=k ]/<<p1>>Pmin=? [ F game_over&score=k ]\n",
      "Property constants: k=18\n",
      "Result: 0.7954545454545455 (value in the initial state)\n",
      "Model checking: <<p1>>Pmin=? [ F game_over&b2=1&score=k ]/<<p1>>Pmin=? [ F game_over&score=k ]\n",
      "Property constants: k=19\n",
      "Result: 0.0 (value in the initial state)\n",
      "Model checking: <<p1>>Pmin=? [ F game_over&b2=1&score=k ]/<<p1>>Pmin=? [ F game_over&score=k ]\n",
      "Property constants: k=20\n",
      "Result: 1.0 (value in the initial state)\n",
      "Model checking: <<p1>>Pmin=? [ F game_over&b2=1&score=k ]/<<p1>>Pmin=? [ F game_over&score=k ]\n",
      "Property constants: k=21\n",
      "Result: 1.0 (value in the initial state)\n",
      "Exporting results to file \"ShutTheBox/data/stb6_1d6/stb6_1d6_score_given_2.csv\"...\n",
      "Model checking: <<p1>>Pmin=? [ F game_over&b3=1&score=k ]/<<p1>>Pmin=? [ F game_over&score=k ]\n",
      "Property constants: k=1\n",
      "Result: 0.0 (value in the initial state)\n",
      "Model checking: <<p1>>Pmin=? [ F game_over&b3=1&score=k ]/<<p1>>Pmin=? [ F game_over&score=k ]\n",
      "Property constants: k=2\n",
      "Result: 0.0 (value in the initial state)\n",
      "Model checking: <<p1>>Pmin=? [ F game_over&b3=1&score=k ]/<<p1>>Pmin=? [ F game_over&score=k ]\n",
      "Property constants: k=3\n",
      "Result: 0.0 (value in the initial state)\n",
      "Model checking: <<p1>>Pmin=? [ F game_over&b3=1&score=k ]/<<p1>>Pmin=? [ F game_over&score=k ]\n",
      "Property constants: k=4\n",
      "Result: 1.0 (value in the initial state)\n",
      "Model checking: <<p1>>Pmin=? [ F game_over&b3=1&score=k ]/<<p1>>Pmin=? [ F game_over&score=k ]\n",
      "Property constants: k=5\n",
      "Result: 0.5 (value in the initial state)\n",
      "Model checking: <<p1>>Pmin=? [ F game_over&b3=1&score=k ]/<<p1>>Pmin=? [ F game_over&score=k ]\n",
      "Property constants: k=6\n",
      "Result: 0.6 (value in the initial state)\n",
      "Model checking: <<p1>>Pmin=? [ F game_over&b3=1&score=k ]/<<p1>>Pmin=? [ F game_over&score=k ]\n",
      "Property constants: k=7\n",
      "Result: 0.2222222222222222 (value in the initial state)\n",
      "Model checking: <<p1>>Pmin=? [ F game_over&b3=1&score=k ]/<<p1>>Pmin=? [ F game_over&score=k ]\n",
      "Property constants: k=8\n",
      "Result: 0.5454545454545454 (value in the initial state)\n",
      "Model checking: <<p1>>Pmin=? [ F game_over&b3=1&score=k ]/<<p1>>Pmin=? [ F game_over&score=k ]\n",
      "Property constants: k=9\n",
      "Result: 0.6666666666666666 (value in the initial state)\n",
      "Model checking: <<p1>>Pmin=? [ F game_over&b3=1&score=k ]/<<p1>>Pmin=? [ F game_over&score=k ]\n",
      "Property constants: k=10\n",
      "Result: 0.7272727272727273 (value in the initial state)\n",
      "Model checking: <<p1>>Pmin=? [ F game_over&b3=1&score=k ]/<<p1>>Pmin=? [ F game_over&score=k ]\n",
      "Property constants: k=11\n",
      "Result: 0.6153846153846154 (value in the initial state)\n",
      "Model checking: <<p1>>Pmin=? [ F game_over&b3=1&score=k ]/<<p1>>Pmin=? [ F game_over&score=k ]\n",
      "Property constants: k=12\n",
      "Result: 0.48780487804878053 (value in the initial state)\n",
      "Model checking: <<p1>>Pmin=? [ F game_over&b3=1&score=k ]/<<p1>>Pmin=? [ F game_over&score=k ]\n",
      "Property constants: k=13\n",
      "Result: 0.5384615384615384 (value in the initial state)\n",
      "Model checking: <<p1>>Pmin=? [ F game_over&b3=1&score=k ]/<<p1>>Pmin=? [ F game_over&score=k ]\n",
      "Property constants: k=14\n",
      "Result: 0.6842105263157895 (value in the initial state)\n",
      "Model checking: <<p1>>Pmin=? [ F game_over&b3=1&score=k ]/<<p1>>Pmin=? [ F game_over&score=k ]\n",
      "Property constants: k=15\n",
      "Result: 1.0 (value in the initial state)\n",
      "Model checking: <<p1>>Pmin=? [ F game_over&b3=1&score=k ]/<<p1>>Pmin=? [ F game_over&score=k ]\n",
      "Property constants: k=16\n",
      "Result: 0.6484375 (value in the initial state)\n",
      "Model checking: <<p1>>Pmin=? [ F game_over&b3=1&score=k ]/<<p1>>Pmin=? [ F game_over&score=k ]\n",
      "Property constants: k=17\n",
      "Result: 0.6557377049180327 (value in the initial state)\n",
      "Model checking: <<p1>>Pmin=? [ F game_over&b3=1&score=k ]/<<p1>>Pmin=? [ F game_over&score=k ]\n",
      "Property constants: k=18\n",
      "Result: 0.2045454545454546 (value in the initial state)\n",
      "Model checking: <<p1>>Pmin=? [ F game_over&b3=1&score=k ]/<<p1>>Pmin=? [ F game_over&score=k ]\n",
      "Property constants: k=19\n",
      "Result: 1.0 (value in the initial state)\n",
      "Model checking: <<p1>>Pmin=? [ F game_over&b3=1&score=k ]/<<p1>>Pmin=? [ F game_over&score=k ]\n",
      "Property constants: k=20\n",
      "Result: 1.0 (value in the initial state)\n",
      "Model checking: <<p1>>Pmin=? [ F game_over&b3=1&score=k ]/<<p1>>Pmin=? [ F game_over&score=k ]\n",
      "Property constants: k=21\n",
      "Result: 1.0 (value in the initial state)\n",
      "Exporting results to file \"ShutTheBox/data/stb6_1d6/stb6_1d6_score_given_3.csv\"...\n"
     ]
    },
    {
     "name": "stdout",
     "output_type": "stream",
     "text": [
      "Model checking: <<p1>>Pmin=? [ F game_over&b4=1&score=k ]/<<p1>>Pmin=? [ F game_over&score=k ]\n",
      "Property constants: k=1\n",
      "Result: 0.0 (value in the initial state)\n",
      "Model checking: <<p1>>Pmin=? [ F game_over&b4=1&score=k ]/<<p1>>Pmin=? [ F game_over&score=k ]\n",
      "Property constants: k=2\n",
      "Result: 0.0 (value in the initial state)\n",
      "Model checking: <<p1>>Pmin=? [ F game_over&b4=1&score=k ]/<<p1>>Pmin=? [ F game_over&score=k ]\n",
      "Property constants: k=3\n",
      "Result: 0.0 (value in the initial state)\n",
      "Model checking: <<p1>>Pmin=? [ F game_over&b4=1&score=k ]/<<p1>>Pmin=? [ F game_over&score=k ]\n",
      "Property constants: k=4\n",
      "Result: 0.0 (value in the initial state)\n",
      "Model checking: <<p1>>Pmin=? [ F game_over&b4=1&score=k ]/<<p1>>Pmin=? [ F game_over&score=k ]\n",
      "Property constants: k=5\n",
      "Result: 0.5 (value in the initial state)\n",
      "Model checking: <<p1>>Pmin=? [ F game_over&b4=1&score=k ]/<<p1>>Pmin=? [ F game_over&score=k ]\n",
      "Property constants: k=6\n",
      "Result: 0.2 (value in the initial state)\n",
      "Model checking: <<p1>>Pmin=? [ F game_over&b4=1&score=k ]/<<p1>>Pmin=? [ F game_over&score=k ]\n",
      "Property constants: k=7\n",
      "Result: 0.5555555555555556 (value in the initial state)\n",
      "Model checking: <<p1>>Pmin=? [ F game_over&b4=1&score=k ]/<<p1>>Pmin=? [ F game_over&score=k ]\n",
      "Property constants: k=8\n",
      "Result: 0.5454545454545454 (value in the initial state)\n",
      "Model checking: <<p1>>Pmin=? [ F game_over&b4=1&score=k ]/<<p1>>Pmin=? [ F game_over&score=k ]\n",
      "Property constants: k=9\n",
      "Result: 0.3333333333333333 (value in the initial state)\n",
      "Model checking: <<p1>>Pmin=? [ F game_over&b4=1&score=k ]/<<p1>>Pmin=? [ F game_over&score=k ]\n",
      "Property constants: k=10\n",
      "Result: 0.5909090909090909 (value in the initial state)\n",
      "Model checking: <<p1>>Pmin=? [ F game_over&b4=1&score=k ]/<<p1>>Pmin=? [ F game_over&score=k ]\n",
      "Property constants: k=11\n",
      "Result: 0.38461538461538464 (value in the initial state)\n",
      "Model checking: <<p1>>Pmin=? [ F game_over&b4=1&score=k ]/<<p1>>Pmin=? [ F game_over&score=k ]\n",
      "Property constants: k=12\n",
      "Result: 0.5121951219512195 (value in the initial state)\n",
      "Model checking: <<p1>>Pmin=? [ F game_over&b4=1&score=k ]/<<p1>>Pmin=? [ F game_over&score=k ]\n",
      "Property constants: k=13\n",
      "Result: 0.8461538461538461 (value in the initial state)\n",
      "Model checking: <<p1>>Pmin=? [ F game_over&b4=1&score=k ]/<<p1>>Pmin=? [ F game_over&score=k ]\n",
      "Property constants: k=14\n",
      "Result: 0.6842105263157895 (value in the initial state)\n",
      "Model checking: <<p1>>Pmin=? [ F game_over&b4=1&score=k ]/<<p1>>Pmin=? [ F game_over&score=k ]\n",
      "Property constants: k=15\n",
      "Result: 0.7741935483870966 (value in the initial state)\n",
      "Model checking: <<p1>>Pmin=? [ F game_over&b4=1&score=k ]/<<p1>>Pmin=? [ F game_over&score=k ]\n",
      "Property constants: k=16\n",
      "Result: 0.7539062499999999 (value in the initial state)\n",
      "Model checking: <<p1>>Pmin=? [ F game_over&b4=1&score=k ]/<<p1>>Pmin=? [ F game_over&score=k ]\n",
      "Property constants: k=17\n",
      "Result: 0.2950819672131148 (value in the initial state)\n",
      "Model checking: <<p1>>Pmin=? [ F game_over&b4=1&score=k ]/<<p1>>Pmin=? [ F game_over&score=k ]\n",
      "Property constants: k=18\n",
      "Result: 1.0 (value in the initial state)\n",
      "Model checking: <<p1>>Pmin=? [ F game_over&b4=1&score=k ]/<<p1>>Pmin=? [ F game_over&score=k ]\n",
      "Property constants: k=19\n",
      "Result: 1.0 (value in the initial state)\n",
      "Model checking: <<p1>>Pmin=? [ F game_over&b4=1&score=k ]/<<p1>>Pmin=? [ F game_over&score=k ]\n",
      "Property constants: k=20\n",
      "Result: 1.0 (value in the initial state)\n",
      "Model checking: <<p1>>Pmin=? [ F game_over&b4=1&score=k ]/<<p1>>Pmin=? [ F game_over&score=k ]\n",
      "Property constants: k=21\n",
      "Result: 1.0 (value in the initial state)\n",
      "Exporting results to file \"ShutTheBox/data/stb6_1d6/stb6_1d6_score_given_4.csv\"...\n",
      "Model checking: <<p1>>Pmin=? [ F game_over&b5=1&score=k ]/<<p1>>Pmin=? [ F game_over&score=k ]\n",
      "Property constants: k=1\n",
      "Result: 0.0 (value in the initial state)\n",
      "Model checking: <<p1>>Pmin=? [ F game_over&b5=1&score=k ]/<<p1>>Pmin=? [ F game_over&score=k ]\n",
      "Property constants: k=2\n",
      "Result: 0.0 (value in the initial state)\n",
      "Model checking: <<p1>>Pmin=? [ F game_over&b5=1&score=k ]/<<p1>>Pmin=? [ F game_over&score=k ]\n",
      "Property constants: k=3\n",
      "Result: 0.0 (value in the initial state)\n",
      "Model checking: <<p1>>Pmin=? [ F game_over&b5=1&score=k ]/<<p1>>Pmin=? [ F game_over&score=k ]\n",
      "Property constants: k=4\n",
      "Result: 0.0 (value in the initial state)\n",
      "Model checking: <<p1>>Pmin=? [ F game_over&b5=1&score=k ]/<<p1>>Pmin=? [ F game_over&score=k ]\n",
      "Property constants: k=5\n",
      "Result: 0.0 (value in the initial state)\n",
      "Model checking: <<p1>>Pmin=? [ F game_over&b5=1&score=k ]/<<p1>>Pmin=? [ F game_over&score=k ]\n",
      "Property constants: k=6\n",
      "Result: 0.2 (value in the initial state)\n",
      "Model checking: <<p1>>Pmin=? [ F game_over&b5=1&score=k ]/<<p1>>Pmin=? [ F game_over&score=k ]\n",
      "Property constants: k=7\n",
      "Result: 0.2222222222222222 (value in the initial state)\n",
      "Model checking: <<p1>>Pmin=? [ F game_over&b5=1&score=k ]/<<p1>>Pmin=? [ F game_over&score=k ]\n",
      "Property constants: k=8\n",
      "Result: 0.2727272727272727 (value in the initial state)\n",
      "Model checking: <<p1>>Pmin=? [ F game_over&b5=1&score=k ]/<<p1>>Pmin=? [ F game_over&score=k ]\n",
      "Property constants: k=9\n",
      "Result: 0.3333333333333333 (value in the initial state)\n",
      "Model checking: <<p1>>Pmin=? [ F game_over&b5=1&score=k ]/<<p1>>Pmin=? [ F game_over&score=k ]\n",
      "Property constants: k=10\n",
      "Result: 0.4090909090909091 (value in the initial state)\n",
      "Model checking: <<p1>>Pmin=? [ F game_over&b5=1&score=k ]/<<p1>>Pmin=? [ F game_over&score=k ]\n",
      "Property constants: k=11\n",
      "Result: 0.6153846153846154 (value in the initial state)\n",
      "Model checking: <<p1>>Pmin=? [ F game_over&b5=1&score=k ]/<<p1>>Pmin=? [ F game_over&score=k ]\n",
      "Property constants: k=12\n",
      "Result: 0.5121951219512195 (value in the initial state)\n",
      "Model checking: <<p1>>Pmin=? [ F game_over&b5=1&score=k ]/<<p1>>Pmin=? [ F game_over&score=k ]\n",
      "Property constants: k=13\n",
      "Result: 0.6153846153846154 (value in the initial state)\n",
      "Model checking: <<p1>>Pmin=? [ F game_over&b5=1&score=k ]/<<p1>>Pmin=? [ F game_over&score=k ]\n",
      "Property constants: k=14\n",
      "Result: 0.631578947368421 (value in the initial state)\n",
      "Model checking: <<p1>>Pmin=? [ F game_over&b5=1&score=k ]/<<p1>>Pmin=? [ F game_over&score=k ]\n",
      "Property constants: k=15\n",
      "Result: 0.7741935483870966 (value in the initial state)\n",
      "Model checking: <<p1>>Pmin=? [ F game_over&b5=1&score=k ]/<<p1>>Pmin=? [ F game_over&score=k ]\n",
      "Property constants: k=16\n",
      "Result: 0.4570312500000001 (value in the initial state)\n",
      "Model checking: <<p1>>Pmin=? [ F game_over&b5=1&score=k ]/<<p1>>Pmin=? [ F game_over&score=k ]\n",
      "Property constants: k=17\n",
      "Result: 1.0 (value in the initial state)\n",
      "Model checking: <<p1>>Pmin=? [ F game_over&b5=1&score=k ]/<<p1>>Pmin=? [ F game_over&score=k ]\n",
      "Property constants: k=18\n",
      "Result: 1.0 (value in the initial state)\n",
      "Model checking: <<p1>>Pmin=? [ F game_over&b5=1&score=k ]/<<p1>>Pmin=? [ F game_over&score=k ]\n",
      "Property constants: k=19\n",
      "Result: 1.0 (value in the initial state)\n",
      "Model checking: <<p1>>Pmin=? [ F game_over&b5=1&score=k ]/<<p1>>Pmin=? [ F game_over&score=k ]\n",
      "Property constants: k=20\n",
      "Result: 1.0 (value in the initial state)\n",
      "Model checking: <<p1>>Pmin=? [ F game_over&b5=1&score=k ]/<<p1>>Pmin=? [ F game_over&score=k ]\n",
      "Property constants: k=21\n",
      "Result: 1.0 (value in the initial state)\n",
      "Exporting results to file \"ShutTheBox/data/stb6_1d6/stb6_1d6_score_given_5.csv\"...\n",
      "Model checking: <<p1>>Pmin=? [ F game_over&b6=1&score=k ]/<<p1>>Pmin=? [ F game_over&score=k ]\n",
      "Property constants: k=1\n",
      "Result: 0.0 (value in the initial state)\n",
      "Model checking: <<p1>>Pmin=? [ F game_over&b6=1&score=k ]/<<p1>>Pmin=? [ F game_over&score=k ]\n",
      "Property constants: k=2\n",
      "Result: 0.0 (value in the initial state)\n",
      "Model checking: <<p1>>Pmin=? [ F game_over&b6=1&score=k ]/<<p1>>Pmin=? [ F game_over&score=k ]\n",
      "Property constants: k=3\n",
      "Result: 0.0 (value in the initial state)\n",
      "Model checking: <<p1>>Pmin=? [ F game_over&b6=1&score=k ]/<<p1>>Pmin=? [ F game_over&score=k ]\n",
      "Property constants: k=4\n",
      "Result: 0.0 (value in the initial state)\n",
      "Model checking: <<p1>>Pmin=? [ F game_over&b6=1&score=k ]/<<p1>>Pmin=? [ F game_over&score=k ]\n",
      "Property constants: k=5\n",
      "Result: 0.0 (value in the initial state)\n",
      "Model checking: <<p1>>Pmin=? [ F game_over&b6=1&score=k ]/<<p1>>Pmin=? [ F game_over&score=k ]\n",
      "Property constants: k=6\n",
      "Result: 0.0 (value in the initial state)\n",
      "Model checking: <<p1>>Pmin=? [ F game_over&b6=1&score=k ]/<<p1>>Pmin=? [ F game_over&score=k ]\n",
      "Property constants: k=7\n",
      "Result: 0.2222222222222222 (value in the initial state)\n",
      "Model checking: <<p1>>Pmin=? [ F game_over&b6=1&score=k ]/<<p1>>Pmin=? [ F game_over&score=k ]\n",
      "Property constants: k=8\n",
      "Result: 0.18181818181818182 (value in the initial state)\n",
      "Model checking: <<p1>>Pmin=? [ F game_over&b6=1&score=k ]/<<p1>>Pmin=? [ F game_over&score=k ]\n",
      "Property constants: k=9\n",
      "Result: 0.3333333333333333 (value in the initial state)\n",
      "Model checking: <<p1>>Pmin=? [ F game_over&b6=1&score=k ]/<<p1>>Pmin=? [ F game_over&score=k ]\n",
      "Property constants: k=10\n",
      "Result: 0.13636363636363635 (value in the initial state)\n",
      "Model checking: <<p1>>Pmin=? [ F game_over&b6=1&score=k ]/<<p1>>Pmin=? [ F game_over&score=k ]\n",
      "Property constants: k=11\n",
      "Result: 0.38461538461538464 (value in the initial state)\n",
      "Model checking: <<p1>>Pmin=? [ F game_over&b6=1&score=k ]/<<p1>>Pmin=? [ F game_over&score=k ]\n",
      "Property constants: k=12\n",
      "Result: 0.5609756097560975 (value in the initial state)\n",
      "Model checking: <<p1>>Pmin=? [ F game_over&b6=1&score=k ]/<<p1>>Pmin=? [ F game_over&score=k ]\n",
      "Property constants: k=13\n",
      "Result: 0.5384615384615384 (value in the initial state)\n",
      "Model checking: <<p1>>Pmin=? [ F game_over&b6=1&score=k ]/<<p1>>Pmin=? [ F game_over&score=k ]\n",
      "Property constants: k=14\n",
      "Result: 0.6842105263157895 (value in the initial state)\n",
      "Model checking: <<p1>>Pmin=? [ F game_over&b6=1&score=k ]/<<p1>>Pmin=? [ F game_over&score=k ]\n",
      "Property constants: k=15\n",
      "Result: 0.35483870967741943 (value in the initial state)\n",
      "Model checking: <<p1>>Pmin=? [ F game_over&b6=1&score=k ]/<<p1>>Pmin=? [ F game_over&score=k ]\n",
      "Property constants: k=16\n",
      "Result: 1.0 (value in the initial state)\n",
      "Model checking: <<p1>>Pmin=? [ F game_over&b6=1&score=k ]/<<p1>>Pmin=? [ F game_over&score=k ]\n",
      "Property constants: k=17\n",
      "Result: 1.0 (value in the initial state)\n",
      "Model checking: <<p1>>Pmin=? [ F game_over&b6=1&score=k ]/<<p1>>Pmin=? [ F game_over&score=k ]\n",
      "Property constants: k=18\n",
      "Result: 1.0 (value in the initial state)\n",
      "Model checking: <<p1>>Pmin=? [ F game_over&b6=1&score=k ]/<<p1>>Pmin=? [ F game_over&score=k ]\n",
      "Property constants: k=19\n",
      "Result: 1.0 (value in the initial state)\n",
      "Model checking: <<p1>>Pmin=? [ F game_over&b6=1&score=k ]/<<p1>>Pmin=? [ F game_over&score=k ]\n",
      "Property constants: k=20\n",
      "Result: 1.0 (value in the initial state)\n",
      "Model checking: <<p1>>Pmin=? [ F game_over&b6=1&score=k ]/<<p1>>Pmin=? [ F game_over&score=k ]\n",
      "Property constants: k=21\n",
      "Result: 1.0 (value in the initial state)\n",
      "Exporting results to file \"ShutTheBox/data/stb6_1d6/stb6_1d6_score_given_6.csv\"...\n"
     ]
    }
   ],
   "source": [
    "for covered_board in range(1, boards+1):\n",
    "    !prism $output_model_high $output_props -prop {10+covered_board} -const k=1:{max_score} -exportresults ShutTheBox/data/{model_spec}/{model_spec}_score_given_{covered_board}.csv:csv | grep -E \"(Model checking)|(Result)|(Property constant)|(Exporting results)|(Error)\""
   ]
  },
  {
   "cell_type": "markdown",
   "metadata": {},
   "source": [
    "### Cumulative probability of a score"
   ]
  },
  {
   "cell_type": "code",
   "execution_count": 19,
   "metadata": {
    "ExecuteTime": {
     "end_time": "2020-11-30T15:18:38.660364Z",
     "start_time": "2020-11-30T15:18:37.031622Z"
    }
   },
   "outputs": [
    {
     "name": "stdout",
     "output_type": "stream",
     "text": [
      "Model checking: <<p1>>Pmax=? [ F game_over&score<=k ]\n",
      "Property constants: k=1\n",
      "Result: 0.027777777777777776 (value in the initial state)\n",
      "Model checking: <<p1>>Pmax=? [ F game_over&score<=k ]\n",
      "Property constants: k=2\n",
      "Result: 0.05555555555555555 (value in the initial state)\n",
      "Model checking: <<p1>>Pmax=? [ F game_over&score<=k ]\n",
      "Property constants: k=3\n",
      "Result: 0.07407407407407407 (value in the initial state)\n",
      "Model checking: <<p1>>Pmax=? [ F game_over&score<=k ]\n",
      "Property constants: k=4\n",
      "Result: 0.09259259259259259 (value in the initial state)\n",
      "Model checking: <<p1>>Pmax=? [ F game_over&score<=k ]\n",
      "Property constants: k=5\n",
      "Result: 0.12962962962962965 (value in the initial state)\n",
      "Model checking: <<p1>>Pmax=? [ F game_over&score<=k ]\n",
      "Property constants: k=6\n",
      "Result: 0.1759259259259259 (value in the initial state)\n",
      "Model checking: <<p1>>Pmax=? [ F game_over&score<=k ]\n",
      "Property constants: k=7\n",
      "Result: 0.21759259259259253 (value in the initial state)\n",
      "Model checking: <<p1>>Pmax=? [ F game_over&score<=k ]\n",
      "Property constants: k=8\n",
      "Result: 0.26851851851851843 (value in the initial state)\n",
      "Model checking: <<p1>>Pmax=? [ F game_over&score<=k ]\n",
      "Property constants: k=9\n",
      "Result: 0.3101851851851852 (value in the initial state)\n",
      "Model checking: <<p1>>Pmax=? [ F game_over&score<=k ]\n",
      "Property constants: k=10\n",
      "Result: 0.3780864197530864 (value in the initial state)\n",
      "Model checking: <<p1>>Pmax=? [ F game_over&score<=k ]\n",
      "Property constants: k=11\n",
      "Result: 0.44135802469135793 (value in the initial state)\n",
      "Model checking: <<p1>>Pmax=? [ F game_over&score<=k ]\n",
      "Property constants: k=12\n",
      "Result: 0.5046296296296295 (value in the initial state)\n",
      "Model checking: <<p1>>Pmax=? [ F game_over&score<=k ]\n",
      "Property constants: k=13\n",
      "Result: 0.5709876543209875 (value in the initial state)\n",
      "Model checking: <<p1>>Pmax=? [ F game_over&score<=k ]\n",
      "Property constants: k=14\n",
      "Result: 0.6296296296296294 (value in the initial state)\n",
      "Model checking: <<p1>>Pmax=? [ F game_over&score<=k ]\n",
      "Property constants: k=15\n",
      "Result: 0.7013888888888887 (value in the initial state)\n",
      "Model checking: <<p1>>Pmax=? [ F game_over&score<=k ]\n",
      "Property constants: k=16\n",
      "Result: 0.7713477366255143 (value in the initial state)\n",
      "Model checking: <<p1>>Pmax=? [ F game_over&score<=k ]\n",
      "Property constants: k=17\n",
      "Result: 0.8209876543209874 (value in the initial state)\n",
      "Model checking: <<p1>>Pmax=? [ F game_over&score<=k ]\n",
      "Property constants: k=18\n",
      "Result: 0.8662551440329216 (value in the initial state)\n",
      "Model checking: <<p1>>Pmax=? [ F game_over&score<=k ]\n",
      "Property constants: k=19\n",
      "Result: 0.9022633744855965 (value in the initial state)\n",
      "Model checking: <<p1>>Pmax=? [ F game_over&score<=k ]\n",
      "Property constants: k=20\n",
      "Result: 0.9254115226337445 (value in the initial state)\n",
      "Model checking: <<p1>>Pmax=? [ F game_over&score<=k ]\n",
      "Property constants: k=21\n",
      "Result: 0.9999999999999998 (value in the initial state)\n",
      "Exporting results to file \"ShutTheBox/data/stb6_1d6/stb6_1d6_cum_prob_high.csv\"...\n"
     ]
    }
   ],
   "source": [
    "!prism $output_model_high $output_props -prop 6 -const k=1:{max_score} -exportresults ShutTheBox/data/{model_spec}/{model_spec}_cum_prob_high.csv:csv | grep -E \"(Model checking)|(Result)|(Property constant)|(Exporting results)|(Error)\""
   ]
  },
  {
   "cell_type": "code",
   "execution_count": 20,
   "metadata": {
    "ExecuteTime": {
     "end_time": "2020-11-30T15:18:40.206931Z",
     "start_time": "2020-11-30T15:18:38.661366Z"
    }
   },
   "outputs": [
    {
     "name": "stdout",
     "output_type": "stream",
     "text": [
      "Model checking: <<p1>>Pmax=? [ F game_over&score<=k ]\n",
      "Property constants: k=1\n",
      "Result: 0.027777777777777776 (value in the initial state)\n",
      "Model checking: <<p1>>Pmax=? [ F game_over&score<=k ]\n",
      "Property constants: k=2\n",
      "Result: 0.05555555555555555 (value in the initial state)\n",
      "Model checking: <<p1>>Pmax=? [ F game_over&score<=k ]\n",
      "Property constants: k=3\n",
      "Result: 0.12962962962962962 (value in the initial state)\n",
      "Model checking: <<p1>>Pmax=? [ F game_over&score<=k ]\n",
      "Property constants: k=4\n",
      "Result: 0.19444444444444442 (value in the initial state)\n",
      "Model checking: <<p1>>Pmax=? [ F game_over&score<=k ]\n",
      "Property constants: k=5\n",
      "Result: 0.2685185185185185 (value in the initial state)\n",
      "Model checking: <<p1>>Pmax=? [ F game_over&score<=k ]\n",
      "Property constants: k=6\n",
      "Result: 0.43055555555555547 (value in the initial state)\n",
      "Model checking: <<p1>>Pmax=? [ F game_over&score<=k ]\n",
      "Property constants: k=7\n",
      "Result: 0.4791666666666665 (value in the initial state)\n",
      "Model checking: <<p1>>Pmax=? [ F game_over&score<=k ]\n",
      "Property constants: k=8\n",
      "Result: 0.5300925925925924 (value in the initial state)\n",
      "Model checking: <<p1>>Pmax=? [ F game_over&score<=k ]\n",
      "Property constants: k=9\n",
      "Result: 0.5810185185185185 (value in the initial state)\n",
      "Model checking: <<p1>>Pmax=? [ F game_over&score<=k ]\n",
      "Property constants: k=10\n",
      "Result: 0.6818415637860082 (value in the initial state)\n",
      "Model checking: <<p1>>Pmax=? [ F game_over&score<=k ]\n",
      "Property constants: k=11\n",
      "Result: 0.7525720164609053 (value in the initial state)\n",
      "Model checking: <<p1>>Pmax=? [ F game_over&score<=k ]\n",
      "Property constants: k=12\n",
      "Result: 0.8106995884773661 (value in the initial state)\n",
      "Model checking: <<p1>>Pmax=? [ F game_over&score<=k ]\n",
      "Property constants: k=13\n",
      "Result: 0.8338477366255141 (value in the initial state)\n",
      "Model checking: <<p1>>Pmax=? [ F game_over&score<=k ]\n",
      "Property constants: k=14\n",
      "Result: 0.8533950617283947 (value in the initial state)\n",
      "Model checking: <<p1>>Pmax=? [ F game_over&score<=k ]\n",
      "Property constants: k=15\n",
      "Result: 0.9037637174211246 (value in the initial state)\n",
      "Model checking: <<p1>>Pmax=? [ F game_over&score<=k ]\n",
      "Property constants: k=16\n",
      "Result: 0.9379501028806582 (value in the initial state)\n",
      "Model checking: <<p1>>Pmax=? [ F game_over&score<=k ]\n",
      "Property constants: k=17\n",
      "Result: 0.9629200960219477 (value in the initial state)\n",
      "Model checking: <<p1>>Pmax=? [ F game_over&score<=k ]\n",
      "Property constants: k=18\n",
      "Result: 0.9722436556927296 (value in the initial state)\n",
      "Model checking: <<p1>>Pmax=? [ F game_over&score<=k ]\n",
      "Property constants: k=19\n",
      "Result: 0.974815672153635 (value in the initial state)\n",
      "Model checking: <<p1>>Pmax=? [ F game_over&score<=k ]\n",
      "Property constants: k=20\n",
      "Result: 0.975565843621399 (value in the initial state)\n",
      "Model checking: <<p1>>Pmax=? [ F game_over&score<=k ]\n",
      "Property constants: k=21\n",
      "Result: 0.9999999999999998 (value in the initial state)\n",
      "Exporting results to file \"ShutTheBox/data/stb6_1d6/stb6_1d6_cum_prob_low.csv\"...\n"
     ]
    }
   ],
   "source": [
    "!prism $output_model_low $output_props -prop 6 -const k=1:{max_score} -exportresults ShutTheBox/data/{model_spec}/{model_spec}_cum_prob_low.csv:csv | grep -E \"(Model checking)|(Result)|(Property constant)|(Exporting results)|(Error)\""
   ]
  },
  {
   "cell_type": "code",
   "execution_count": 21,
   "metadata": {
    "ExecuteTime": {
     "end_time": "2020-11-30T15:18:41.840095Z",
     "start_time": "2020-11-30T15:18:40.207901Z"
    }
   },
   "outputs": [
    {
     "name": "stdout",
     "output_type": "stream",
     "text": [
      "Model checking: <<p1>>Pmin=? [ F game_over&score<=k ]\n",
      "Property constants: k=1\n",
      "Result: 0.027777777777777776 (value in the initial state)\n",
      "Model checking: <<p1>>Pmin=? [ F game_over&score<=k ]\n",
      "Property constants: k=2\n",
      "Result: 0.05555555555555555 (value in the initial state)\n",
      "Model checking: <<p1>>Pmin=? [ F game_over&score<=k ]\n",
      "Property constants: k=3\n",
      "Result: 0.07407407407407407 (value in the initial state)\n",
      "Model checking: <<p1>>Pmin=? [ F game_over&score<=k ]\n",
      "Property constants: k=4\n",
      "Result: 0.09259259259259259 (value in the initial state)\n",
      "Model checking: <<p1>>Pmin=? [ F game_over&score<=k ]\n",
      "Property constants: k=5\n",
      "Result: 0.12962962962962965 (value in the initial state)\n",
      "Model checking: <<p1>>Pmin=? [ F game_over&score<=k ]\n",
      "Property constants: k=6\n",
      "Result: 0.1759259259259259 (value in the initial state)\n",
      "Model checking: <<p1>>Pmin=? [ F game_over&score<=k ]\n",
      "Property constants: k=7\n",
      "Result: 0.2175925925925926 (value in the initial state)\n",
      "Model checking: <<p1>>Pmin=? [ F game_over&score<=k ]\n",
      "Property constants: k=8\n",
      "Result: 0.26851851851851843 (value in the initial state)\n",
      "Model checking: <<p1>>Pmin=? [ F game_over&score<=k ]\n",
      "Property constants: k=9\n",
      "Result: 0.3101851851851852 (value in the initial state)\n",
      "Model checking: <<p1>>Pmin=? [ F game_over&score<=k ]\n",
      "Property constants: k=10\n",
      "Result: 0.3780864197530864 (value in the initial state)\n",
      "Model checking: <<p1>>Pmin=? [ F game_over&score<=k ]\n",
      "Property constants: k=11\n",
      "Result: 0.43827160493827144 (value in the initial state)\n",
      "Model checking: <<p1>>Pmin=? [ F game_over&score<=k ]\n",
      "Property constants: k=12\n",
      "Result: 0.5046296296296295 (value in the initial state)\n",
      "Model checking: <<p1>>Pmin=? [ F game_over&score<=k ]\n",
      "Property constants: k=13\n",
      "Result: 0.5648148148148147 (value in the initial state)\n",
      "Model checking: <<p1>>Pmin=? [ F game_over&score<=k ]\n",
      "Property constants: k=14\n",
      "Result: 0.6296296296296294 (value in the initial state)\n",
      "Model checking: <<p1>>Pmin=? [ F game_over&score<=k ]\n",
      "Property constants: k=15\n",
      "Result: 0.7013888888888887 (value in the initial state)\n",
      "Model checking: <<p1>>Pmin=? [ F game_over&score<=k ]\n",
      "Property constants: k=16\n",
      "Result: 0.7672325102880657 (value in the initial state)\n",
      "Model checking: <<p1>>Pmin=? [ F game_over&score<=k ]\n",
      "Property constants: k=17\n",
      "Result: 0.8184156378600823 (value in the initial state)\n",
      "Model checking: <<p1>>Pmin=? [ F game_over&score<=k ]\n",
      "Property constants: k=18\n",
      "Result: 0.8662551440329215 (value in the initial state)\n",
      "Model checking: <<p1>>Pmin=? [ F game_over&score<=k ]\n",
      "Property constants: k=19\n",
      "Result: 0.8971193415637858 (value in the initial state)\n",
      "Model checking: <<p1>>Pmin=? [ F game_over&score<=k ]\n",
      "Property constants: k=20\n",
      "Result: 0.9254115226337445 (value in the initial state)\n",
      "Model checking: <<p1>>Pmin=? [ F game_over&score<=k ]\n",
      "Property constants: k=21\n",
      "Result: 0.9999999999999998 (value in the initial state)\n",
      "Exporting results to file \"ShutTheBox/data/stb6_1d6/stb6_1d6_cum_prob_min.csv\"...\n"
     ]
    }
   ],
   "source": [
    "!prism $output_model_nondet $output_props -prop 5 -const k=1:{max_score} -exportresults ShutTheBox/data/{model_spec}/{model_spec}_cum_prob_min.csv:csv | grep -E \"(Model checking)|(Result)|(Property constant)|(Exporting results)|(Error)\""
   ]
  },
  {
   "cell_type": "code",
   "execution_count": 22,
   "metadata": {
    "ExecuteTime": {
     "end_time": "2020-11-30T15:18:43.410296Z",
     "start_time": "2020-11-30T15:18:41.841097Z"
    },
    "scrolled": false
   },
   "outputs": [
    {
     "name": "stdout",
     "output_type": "stream",
     "text": [
      "Model checking: <<p1>>Pmax=? [ F game_over&score<=k ]\n",
      "Property constants: k=1\n",
      "Result: 0.027777777777777776 (value in the initial state)\n",
      "Model checking: <<p1>>Pmax=? [ F game_over&score<=k ]\n",
      "Property constants: k=2\n",
      "Result: 0.05555555555555555 (value in the initial state)\n",
      "Model checking: <<p1>>Pmax=? [ F game_over&score<=k ]\n",
      "Property constants: k=3\n",
      "Result: 0.12962962962962962 (value in the initial state)\n",
      "Model checking: <<p1>>Pmax=? [ F game_over&score<=k ]\n",
      "Property constants: k=4\n",
      "Result: 0.19444444444444445 (value in the initial state)\n",
      "Model checking: <<p1>>Pmax=? [ F game_over&score<=k ]\n",
      "Property constants: k=5\n",
      "Result: 0.2685185185185185 (value in the initial state)\n",
      "Model checking: <<p1>>Pmax=? [ F game_over&score<=k ]\n",
      "Property constants: k=6\n",
      "Result: 0.4305555555555554 (value in the initial state)\n",
      "Model checking: <<p1>>Pmax=? [ F game_over&score<=k ]\n",
      "Property constants: k=7\n",
      "Result: 0.4791666666666666 (value in the initial state)\n",
      "Model checking: <<p1>>Pmax=? [ F game_over&score<=k ]\n",
      "Property constants: k=8\n",
      "Result: 0.5439814814814814 (value in the initial state)\n",
      "Model checking: <<p1>>Pmax=? [ F game_over&score<=k ]\n",
      "Property constants: k=9\n",
      "Result: 0.5810185185185185 (value in the initial state)\n",
      "Model checking: <<p1>>Pmax=? [ F game_over&score<=k ]\n",
      "Property constants: k=10\n",
      "Result: 0.6818415637860082 (value in the initial state)\n",
      "Model checking: <<p1>>Pmax=? [ F game_over&score<=k ]\n",
      "Property constants: k=11\n",
      "Result: 0.7525720164609052 (value in the initial state)\n",
      "Model checking: <<p1>>Pmax=? [ F game_over&score<=k ]\n",
      "Property constants: k=12\n",
      "Result: 0.810699588477366 (value in the initial state)\n",
      "Model checking: <<p1>>Pmax=? [ F game_over&score<=k ]\n",
      "Property constants: k=13\n",
      "Result: 0.8353909465020575 (value in the initial state)\n",
      "Model checking: <<p1>>Pmax=? [ F game_over&score<=k ]\n",
      "Property constants: k=14\n",
      "Result: 0.8580246913580245 (value in the initial state)\n",
      "Model checking: <<p1>>Pmax=? [ F game_over&score<=k ]\n",
      "Property constants: k=15\n",
      "Result: 0.9037637174211247 (value in the initial state)\n",
      "Model checking: <<p1>>Pmax=? [ F game_over&score<=k ]\n",
      "Property constants: k=16\n",
      "Result: 0.9406507201646088 (value in the initial state)\n",
      "Model checking: <<p1>>Pmax=? [ F game_over&score<=k ]\n",
      "Property constants: k=17\n",
      "Result: 0.9629200960219477 (value in the initial state)\n",
      "Model checking: <<p1>>Pmax=? [ F game_over&score<=k ]\n",
      "Property constants: k=18\n",
      "Result: 0.9722436556927294 (value in the initial state)\n",
      "Model checking: <<p1>>Pmax=? [ F game_over&score<=k ]\n",
      "Property constants: k=19\n",
      "Result: 0.9762302812071328 (value in the initial state)\n",
      "Model checking: <<p1>>Pmax=? [ F game_over&score<=k ]\n",
      "Property constants: k=20\n",
      "Result: 0.9763374485596705 (value in the initial state)\n",
      "Model checking: <<p1>>Pmax=? [ F game_over&score<=k ]\n",
      "Property constants: k=21\n",
      "Result: 0.9999999999999998 (value in the initial state)\n",
      "Exporting results to file \"ShutTheBox/data/stb6_1d6/stb6_1d6_cum_prob_max.csv\"...\n"
     ]
    }
   ],
   "source": [
    "cum_prob_max_file = \"ShutTheBox/data/cum_prob_max.csv\"\n",
    "\n",
    "!prism $output_model_nondet $output_props -prop 6 -const k=1:{max_score} -exportresults ShutTheBox/data/{model_spec}/{model_spec}_cum_prob_max.csv:csv | grep -E \"(Model checking)|(Result)|(Property constant)|(Exporting results)|(Error)\""
   ]
  },
  {
   "cell_type": "code",
   "execution_count": null,
   "metadata": {},
   "outputs": [],
   "source": []
  }
 ],
 "metadata": {
  "hide_input": false,
  "kernelspec": {
   "display_name": "Python 3",
   "language": "python",
   "name": "python3"
  },
  "language_info": {
   "codemirror_mode": {
    "name": "ipython",
    "version": 3
   },
   "file_extension": ".py",
   "mimetype": "text/x-python",
   "name": "python",
   "nbconvert_exporter": "python",
   "pygments_lexer": "ipython3",
   "version": "3.7.3"
  },
  "toc": {
   "base_numbering": 1,
   "nav_menu": {},
   "number_sections": true,
   "sideBar": true,
   "skip_h1_title": false,
   "title_cell": "Table of Contents",
   "title_sidebar": "Contents",
   "toc_cell": false,
   "toc_position": {},
   "toc_section_display": true,
   "toc_window_display": false
  }
 },
 "nbformat": 4,
 "nbformat_minor": 2
}
