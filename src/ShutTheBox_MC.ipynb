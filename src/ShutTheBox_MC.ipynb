{
 "cells": [
  {
   "cell_type": "markdown",
   "metadata": {},
   "source": [
    "# Shut the Box"
   ]
  },
  {
   "cell_type": "markdown",
   "metadata": {},
   "source": [
    "## Step 0: Utils for Jupyter Notebooks"
   ]
  },
  {
   "cell_type": "markdown",
   "metadata": {},
   "source": [
    "### Add button to Show/Hide code (to focus on outputs)"
   ]
  },
  {
   "cell_type": "code",
   "execution_count": 17,
   "metadata": {
    "ExecuteTime": {
     "end_time": "2021-03-24T09:55:55.183139Z",
     "start_time": "2021-03-24T09:55:55.169508Z"
    }
   },
   "outputs": [
    {
     "data": {
      "text/html": [
       "<script>\n",
       "code_show=true; \n",
       "function code_toggle() {\n",
       " if (code_show){\n",
       " $('div.input').hide();\n",
       " } else {\n",
       " $('div.input').show();\n",
       " }\n",
       " code_show = !code_show\n",
       "} \n",
       "$( document ).ready(code_toggle);\n",
       "</script>\n",
       "<form action=\"javascript:code_toggle()\"><input type=\"submit\" value=\"Show Code\"></form>"
      ],
      "text/plain": [
       "<IPython.core.display.HTML object>"
      ]
     },
     "execution_count": 17,
     "metadata": {},
     "output_type": "execute_result"
    }
   ],
   "source": [
    "from IPython.display import HTML\n",
    "\n",
    "HTML('''<script>\n",
    "code_show=true; \n",
    "function code_toggle() {\n",
    " if (code_show){\n",
    " $('div.input').hide();\n",
    " } else {\n",
    " $('div.input').show();\n",
    " }\n",
    " code_show = !code_show\n",
    "} \n",
    "$( document ).ready(code_toggle);\n",
    "</script>\n",
    "<form action=\"javascript:code_toggle()\"><input type=\"submit\" value=\"Show Code\"></form>''')"
   ]
  },
  {
   "cell_type": "markdown",
   "metadata": {},
   "source": [
    "### Add magic command to store python variables in csv file"
   ]
  },
  {
   "cell_type": "code",
   "execution_count": 45,
   "metadata": {
    "ExecuteTime": {
     "end_time": "2021-03-24T10:15:04.684922Z",
     "start_time": "2021-03-24T10:15:04.676392Z"
    }
   },
   "outputs": [],
   "source": [
    "# credit to sirex, https://github.com/ipython/ipython/issues/6701\n",
    "from IPython.core.magic import register_line_cell_magic\n",
    "\n",
    "@register_line_cell_magic\n",
    "def writetemplate(line, cell):\n",
    "    with open(line, 'w') as f:\n",
    "        f.write(cell.format(**globals()))"
   ]
  },
  {
   "cell_type": "markdown",
   "metadata": {},
   "source": [
    "## Step 1: Generate models"
   ]
  },
  {
   "cell_type": "code",
   "execution_count": 46,
   "metadata": {
    "ExecuteTime": {
     "end_time": "2021-03-24T10:15:04.700936Z",
     "start_time": "2021-03-24T10:15:04.686923Z"
    }
   },
   "outputs": [],
   "source": [
    "# Edit this cell to define parameters for your model...\n",
    "\n",
    "boards = 6 # Number of boards to use\n",
    "sides = 6 # Number of sides per die\n",
    "die = 1 # Number of die to roll each round\n",
    "\n",
    "max_score = boards * (boards+1) // 2"
   ]
  },
  {
   "cell_type": "code",
   "execution_count": 47,
   "metadata": {
    "ExecuteTime": {
     "end_time": "2021-03-24T10:15:04.716522Z",
     "start_time": "2021-03-24T10:15:04.702538Z"
    }
   },
   "outputs": [],
   "source": [
    "%%writetemplate ShutTheBox/params/stb_params_high.csv\n",
    "b, {boards}\n",
    "d, {sides}\n",
    "ndie, {die}\n",
    "strategy, 1"
   ]
  },
  {
   "cell_type": "code",
   "execution_count": 48,
   "metadata": {
    "ExecuteTime": {
     "end_time": "2021-03-24T10:15:04.732083Z",
     "start_time": "2021-03-24T10:15:04.718526Z"
    }
   },
   "outputs": [],
   "source": [
    "%%writetemplate ShutTheBox/params/stb_params_low.csv\n",
    "b, {boards}\n",
    "d, {sides}\n",
    "ndie, {die}\n",
    "strategy, 2"
   ]
  },
  {
   "cell_type": "code",
   "execution_count": 49,
   "metadata": {
    "ExecuteTime": {
     "end_time": "2021-03-24T10:15:04.747397Z",
     "start_time": "2021-03-24T10:15:04.734171Z"
    }
   },
   "outputs": [],
   "source": [
    "%%writetemplate ShutTheBox/params/stb_nondet_params.csv\n",
    "b, {boards}\n",
    "d, {sides}\n",
    "ndie, {die}\n",
    "strategy, 0"
   ]
  },
  {
   "cell_type": "code",
   "execution_count": 50,
   "metadata": {
    "ExecuteTime": {
     "end_time": "2021-03-24T10:15:04.778399Z",
     "start_time": "2021-03-24T10:15:04.748398Z"
    }
   },
   "outputs": [
    {
     "name": "stderr",
     "output_type": "stream",
     "text": [
      "A subdirectory or file test already exists.\n"
     ]
    }
   ],
   "source": [
    "!mkdir test"
   ]
  },
  {
   "cell_type": "code",
   "execution_count": 51,
   "metadata": {
    "ExecuteTime": {
     "end_time": "2021-03-24T10:15:04.917527Z",
     "start_time": "2021-03-24T10:15:04.779401Z"
    }
   },
   "outputs": [
    {
     "name": "stderr",
     "output_type": "stream",
     "text": [
      "A subdirectory or file ShutTheBox/models/stb6_1d6 already exists.\n"
     ]
    },
    {
     "name": "stdout",
     "output_type": "stream",
     "text": [
      "Model generated successfully at ShutTheBox\\models\\stb6_1d6\\stb6_1d6_high.prism\n"
     ]
    }
   ],
   "source": [
    "model_spec = f\"stb{boards}_{die}d{sides}\"\n",
    "\n",
    "!mkdir \"ShutTheBox/models/$model_spec\"\n",
    "output_model_high = f\"ShutTheBox/models/{model_spec}/{model_spec}_high.prism\"\n",
    "\n",
    "!python utils/pyprism.py ShutTheBox/stb.pyprism $output_model_high ShutTheBox/params/stb_params_high.csv"
   ]
  },
  {
   "cell_type": "code",
   "execution_count": 52,
   "metadata": {
    "ExecuteTime": {
     "end_time": "2021-03-24T10:15:05.057582Z",
     "start_time": "2021-03-24T10:15:04.920530Z"
    }
   },
   "outputs": [
    {
     "name": "stdout",
     "output_type": "stream",
     "text": [
      "Model generated successfully at ShutTheBox\\models\\stb6_1d6\\stb6_1d6_low.prism\n"
     ]
    }
   ],
   "source": [
    "output_model_low = f\"ShutTheBox/models/{model_spec}/{model_spec}_low.prism\"\n",
    "\n",
    "!python utils/pyprism.py ShutTheBox/stb.pyprism $output_model_low ShutTheBox/params/stb_params_low.csv"
   ]
  },
  {
   "cell_type": "code",
   "execution_count": 53,
   "metadata": {
    "ExecuteTime": {
     "end_time": "2021-03-24T10:15:05.166450Z",
     "start_time": "2021-03-24T10:15:05.059584Z"
    }
   },
   "outputs": [
    {
     "name": "stdout",
     "output_type": "stream",
     "text": [
      "Model generated successfully at ShutTheBox\\models\\stb6_1d6\\stb6_1d6_nondet.prism\n"
     ]
    }
   ],
   "source": [
    "output_model_nondet = f\"ShutTheBox/models/{model_spec}/{model_spec}_nondet.prism\"\n",
    "\n",
    "!python utils/pyprism.py ShutTheBox/stb.pyprism $output_model_nondet ShutTheBox/params/stb_nondet_params.csv"
   ]
  },
  {
   "cell_type": "code",
   "execution_count": 54,
   "metadata": {
    "ExecuteTime": {
     "end_time": "2021-03-24T10:15:05.275049Z",
     "start_time": "2021-03-24T10:15:05.168451Z"
    }
   },
   "outputs": [
    {
     "name": "stdout",
     "output_type": "stream",
     "text": [
      "Model generated successfully at ShutTheBox\\props\\stb6_1d6.props\n"
     ]
    }
   ],
   "source": [
    "output_props = f\"ShutTheBox/props/{model_spec}.props\"\n",
    "\n",
    "!python utils/pyprism.py ShutTheBox/stbprops.pyprism $output_props ShutTheBox/params/stb_params_high.csv"
   ]
  },
  {
   "cell_type": "markdown",
   "metadata": {},
   "source": [
    "## Step 2: Check properties, run experiments, export data"
   ]
  },
  {
   "cell_type": "markdown",
   "metadata": {},
   "source": [
    "### Does the game eventually always terminate?\n",
    "\n",
    "We expect to see a value of approximately 1 here (it won't be exact because CSGs only support methods based on numerical convergence, so it may be slightly under or even over 1!"
   ]
  },
  {
   "cell_type": "code",
   "execution_count": 55,
   "metadata": {
    "ExecuteTime": {
     "end_time": "2021-03-24T10:15:05.771530Z",
     "start_time": "2021-03-24T10:15:05.277051Z"
    }
   },
   "outputs": [
    {
     "name": "stdout",
     "output_type": "stream",
     "text": [
      "Model checking: Pmax=? [ F game_over ]\n",
      "Reachability (BFS): 12 iterations in 0.00 seconds (average 0.000000, setup 0.00)\n",
      "Time for model construction: 0.049 seconds.\n",
      "Prob0A: 7 iterations in 0.00 seconds (average 0.000143, setup 0.00)\n",
      "Prob1E: 8 iterations in 0.00 seconds (average 0.000125, setup 0.00)\n",
      "Time for model checking: 0.003 seconds.\n",
      "Result: 1.0 (value in the initial state)\n"
     ]
    }
   ],
   "source": [
    "!prism $output_model_high $output_props -prop 1 | grep -E \"(Model checking)|(Result)|(sec)|(Error)\""
   ]
  },
  {
   "cell_type": "markdown",
   "metadata": {},
   "source": [
    "### Probability of obtaining each score "
   ]
  },
  {
   "cell_type": "code",
   "execution_count": 56,
   "metadata": {
    "ExecuteTime": {
     "end_time": "2021-03-24T10:15:06.432731Z",
     "start_time": "2021-03-24T10:15:05.773649Z"
    }
   },
   "outputs": [
    {
     "name": "stderr",
     "output_type": "stream",
     "text": [
      "A subdirectory or file ShutTheBox/data/stb6_1d6 already exists.\n"
     ]
    },
    {
     "name": "stdout",
     "output_type": "stream",
     "text": [
      "Model checking: Pmin=? [ F game_over&score=k ]\n",
      "Property constants: k=1\n",
      "Result: 0.027777777777777776 (value in the initial state)\n",
      "Model checking: Pmin=? [ F game_over&score=k ]\n",
      "Property constants: k=2\n",
      "Result: 0.027777777777777776 (value in the initial state)\n",
      "Model checking: Pmin=? [ F game_over&score=k ]\n",
      "Property constants: k=3\n",
      "Result: 0.018518518518518517 (value in the initial state)\n",
      "Model checking: Pmin=? [ F game_over&score=k ]\n",
      "Property constants: k=4\n",
      "Result: 0.018518518518518517 (value in the initial state)\n",
      "Model checking: Pmin=? [ F game_over&score=k ]\n",
      "Property constants: k=5\n",
      "Result: 0.037037037037037035 (value in the initial state)\n",
      "Model checking: Pmin=? [ F game_over&score=k ]\n",
      "Property constants: k=6\n",
      "Result: 0.046296296296296294 (value in the initial state)\n",
      "Model checking: Pmin=? [ F game_over&score=k ]\n",
      "Property constants: k=7\n",
      "Result: 0.041666666666666664 (value in the initial state)\n",
      "Model checking: Pmin=? [ F game_over&score=k ]\n",
      "Property constants: k=8\n",
      "Result: 0.05092592592592592 (value in the initial state)\n",
      "Model checking: Pmin=? [ F game_over&score=k ]\n",
      "Property constants: k=9\n",
      "Result: 0.041666666666666664 (value in the initial state)\n",
      "Model checking: Pmin=? [ F game_over&score=k ]\n",
      "Property constants: k=10\n",
      "Result: 0.06790123456790123 (value in the initial state)\n",
      "Model checking: Pmin=? [ F game_over&score=k ]\n",
      "Property constants: k=11\n",
      "Result: 0.06018518518518518 (value in the initial state)\n",
      "Model checking: Pmin=? [ F game_over&score=k ]\n",
      "Property constants: k=12\n",
      "Result: 0.06327160493827161 (value in the initial state)\n",
      "Model checking: Pmin=? [ F game_over&score=k ]\n",
      "Property constants: k=13\n",
      "Result: 0.06018518518518518 (value in the initial state)\n",
      "Model checking: Pmin=? [ F game_over&score=k ]\n",
      "Property constants: k=14\n",
      "Result: 0.05864197530864197 (value in the initial state)\n",
      "Model checking: Pmin=? [ F game_over&score=k ]\n",
      "Property constants: k=15\n",
      "Result: 0.07175925925925924 (value in the initial state)\n",
      "Model checking: Pmin=? [ F game_over&score=k ]\n",
      "Property constants: k=16\n",
      "Result: 0.06584362139917693 (value in the initial state)\n",
      "Model checking: Pmin=? [ F game_over&score=k ]\n",
      "Property constants: k=17\n",
      "Result: 0.04706790123456789 (value in the initial state)\n",
      "Model checking: Pmin=? [ F game_over&score=k ]\n",
      "Property constants: k=18\n",
      "Result: 0.04526748971193414 (value in the initial state)\n",
      "Model checking: Pmin=? [ F game_over&score=k ]\n",
      "Property constants: k=19\n",
      "Result: 0.030864197530864185 (value in the initial state)\n",
      "Model checking: Pmin=? [ F game_over&score=k ]\n",
      "Property constants: k=20\n",
      "Result: 0.02314814814814814 (value in the initial state)\n",
      "Model checking: Pmin=? [ F game_over&score=k ]\n",
      "Property constants: k=21\n",
      "Result: 0.07458847736625514 (value in the initial state)\n"
     ]
    }
   ],
   "source": [
    "data_location = f\"ShutTheBox/data/{model_spec}\"\n",
    "\n",
    "!mkdir \"$data_location\"\n",
    "\n",
    "prob_score_high_file = f\"{data_location}/{model_spec}_prob_score_high.csv\"\n",
    "\n",
    "!prism $output_model_high $output_props -prop 2 -const k=1:{max_score} -exportresults {prob_score_high_file}:csv | grep -E \"(Model checking)|(Result)|(Property constants)|(Error)\""
   ]
  },
  {
   "cell_type": "code",
   "execution_count": 57,
   "metadata": {
    "ExecuteTime": {
     "end_time": "2021-03-24T10:15:07.018987Z",
     "start_time": "2021-03-24T10:15:06.434667Z"
    }
   },
   "outputs": [
    {
     "name": "stdout",
     "output_type": "stream",
     "text": [
      "Model checking: Pmin=? [ F game_over&score=k ]\n",
      "Property constants: k=1\n",
      "Reachability (BFS): 12 iterations in 0.00 seconds (average 0.000083, setup 0.00)\n",
      "Time for model construction: 0.049 seconds.\n",
      "Prob0E: 6 iterations in 0.00 seconds (average 0.000000, setup 0.00)\n",
      "Prob1A: 3 iterations in 0.00 seconds (average 0.000333, setup 0.00)\n",
      "Iterative method: 4 iterations in 0.00 seconds (average 0.000000, setup 0.00)\n",
      "Time for model checking: 0.005 seconds.\n",
      "Result: 0.027777777777777776 (value in the initial state)\n",
      "Model checking: Pmin=? [ F game_over&score=k ]\n",
      "Property constants: k=2\n",
      "Prob0E: 6 iterations in 0.00 seconds (average 0.000000, setup 0.00)\n",
      "Prob1A: 3 iterations in 0.00 seconds (average 0.000000, setup 0.00)\n",
      "Iterative method: 4 iterations in 0.00 seconds (average 0.000000, setup 0.00)\n",
      "Time for model checking: 0.002 seconds.\n",
      "Result: 0.027777777777777776 (value in the initial state)\n",
      "Model checking: Pmin=? [ F game_over&score=k ]\n",
      "Property constants: k=3\n",
      "Prob0E: 7 iterations in 0.00 seconds (average 0.000143, setup 0.00)\n",
      "Prob1A: 3 iterations in 0.00 seconds (average 0.000000, setup 0.00)\n",
      "Iterative method: 6 iterations in 0.00 seconds (average 0.000000, setup 0.00)\n",
      "Time for model checking: 0.002 seconds.\n",
      "Result: 0.07407407407407407 (value in the initial state)\n",
      "Model checking: Pmin=? [ F game_over&score=k ]\n",
      "Property constants: k=4\n",
      "Prob0E: 7 iterations in 0.00 seconds (average 0.000143, setup 0.00)\n",
      "Prob1A: 3 iterations in 0.00 seconds (average 0.000000, setup 0.00)\n",
      "Iterative method: 6 iterations in 0.00 seconds (average 0.000000, setup 0.00)\n",
      "Time for model checking: 0.002 seconds.\n",
      "Result: 0.06481481481481481 (value in the initial state)\n",
      "Model checking: Pmin=? [ F game_over&score=k ]\n",
      "Property constants: k=5\n",
      "Prob0E: 7 iterations in 0.00 seconds (average 0.000143, setup 0.00)\n",
      "Prob1A: 3 iterations in 0.00 seconds (average 0.000333, setup 0.00)\n",
      "Iterative method: 6 iterations in 0.00 seconds (average 0.000000, setup 0.00)\n",
      "Time for model checking: 0.003 seconds.\n",
      "Result: 0.07407407407407407 (value in the initial state)\n",
      "Model checking: Pmin=? [ F game_over&score=k ]\n",
      "Property constants: k=6\n",
      "Prob0E: 7 iterations in 0.00 seconds (average 0.000143, setup 0.00)\n",
      "Prob1A: 4 iterations in 0.00 seconds (average 0.000250, setup 0.00)\n",
      "Iterative method: 8 iterations in 0.00 seconds (average 0.000000, setup 0.00)\n",
      "Time for model checking: 0.002 seconds.\n",
      "Result: 0.16203703703703703 (value in the initial state)\n",
      "Model checking: Pmin=? [ F game_over&score=k ]\n",
      "Property constants: k=7\n",
      "Prob0E: 8 iterations in 0.00 seconds (average 0.000125, setup 0.00)\n",
      "Prob1A: 3 iterations in 0.00 seconds (average 0.000000, setup 0.00)\n",
      "Iterative method: 8 iterations in 0.00 seconds (average 0.000000, setup 0.00)\n",
      "Time for model checking: 0.002 seconds.\n",
      "Result: 0.039351851851851846 (value in the initial state)\n",
      "Model checking: Pmin=? [ F game_over&score=k ]\n",
      "Property constants: k=8\n",
      "Prob0E: 9 iterations in 0.00 seconds (average 0.000111, setup 0.00)\n",
      "Prob1A: 3 iterations in 0.00 seconds (average 0.000000, setup 0.00)\n",
      "Iterative method: 8 iterations in 0.00 seconds (average 0.000000, setup 0.00)\n",
      "Time for model checking: 0.003 seconds.\n",
      "Result: 0.05092592592592592 (value in the initial state)\n",
      "Model checking: Pmin=? [ F game_over&score=k ]\n",
      "Property constants: k=9\n",
      "Prob0E: 9 iterations in 0.00 seconds (average 0.000222, setup 0.00)\n",
      "Prob1A: 3 iterations in 0.00 seconds (average 0.000000, setup 0.00)\n",
      "Iterative method: 8 iterations in 0.00 seconds (average 0.000000, setup 0.00)\n",
      "Time for model checking: 0.003 seconds.\n",
      "Result: 0.05092592592592592 (value in the initial state)\n",
      "Model checking: Pmin=? [ F game_over&score=k ]\n",
      "Property constants: k=10\n",
      "Prob0E: 9 iterations in 0.00 seconds (average 0.000222, setup 0.00)\n",
      "Prob1A: 4 iterations in 0.00 seconds (average 0.000250, setup 0.00)\n",
      "Iterative method: 10 iterations in 0.00 seconds (average 0.000000, setup 0.00)\n",
      "Time for model checking: 0.005 seconds.\n",
      "Result: 0.08847736625514402 (value in the initial state)\n",
      "Model checking: Pmin=? [ F game_over&score=k ]\n",
      "Property constants: k=11\n",
      "Prob0E: 9 iterations in 0.00 seconds (average 0.000111, setup 0.00)\n",
      "Prob1A: 4 iterations in 0.00 seconds (average 0.000250, setup 0.00)\n",
      "Iterative method: 10 iterations in 0.00 seconds (average 0.000100, setup 0.00)\n",
      "Time for model checking: 0.004 seconds.\n",
      "Result: 0.07073045267489711 (value in the initial state)\n",
      "Model checking: Pmin=? [ F game_over&score=k ]\n",
      "Property constants: k=12\n",
      "Prob0E: 9 iterations in 0.00 seconds (average 0.000111, setup 0.00)\n",
      "Prob1A: 4 iterations in 0.00 seconds (average 0.000250, setup 0.00)\n",
      "Iterative method: 10 iterations in 0.00 seconds (average 0.000000, setup 0.00)\n",
      "Time for model checking: 0.003 seconds.\n",
      "Result: 0.058127572016460904 (value in the initial state)\n",
      "Model checking: Pmin=? [ F game_over&score=k ]\n",
      "Property constants: k=13\n",
      "Prob0E: 10 iterations in 0.00 seconds (average 0.000000, setup 0.00)\n",
      "Prob1A: 3 iterations in 0.00 seconds (average 0.000333, setup 0.00)\n",
      "Iterative method: 10 iterations in 0.00 seconds (average 0.000000, setup 0.00)\n",
      "Time for model checking: 0.004 seconds.\n",
      "Result: 0.021604938271604937 (value in the initial state)\n",
      "Model checking: Pmin=? [ F game_over&score=k ]\n",
      "Property constants: k=14\n",
      "Prob0E: 11 iterations in 0.00 seconds (average 0.000182, setup 0.00)\n",
      "Prob1A: 3 iterations in 0.00 seconds (average 0.000333, setup 0.00)\n",
      "Iterative method: 10 iterations in 0.00 seconds (average 0.000000, setup 0.00)\n",
      "Time for model checking: 0.004 seconds.\n",
      "Result: 0.019547325102880656 (value in the initial state)\n",
      "Model checking: Pmin=? [ F game_over&score=k ]\n",
      "Property constants: k=15\n",
      "Prob0E: 11 iterations in 0.00 seconds (average 0.000091, setup 0.00)\n",
      "Prob1A: 4 iterations in 0.00 seconds (average 0.000250, setup 0.00)\n",
      "Iterative method: 12 iterations in 0.00 seconds (average 0.000000, setup 0.00)\n",
      "Time for model checking: 0.004 seconds.\n",
      "Result: 0.050368655692729754 (value in the initial state)\n",
      "Model checking: Pmin=? [ F game_over&score=k ]\n",
      "Property constants: k=16\n",
      "Prob0E: 11 iterations in 0.00 seconds (average 0.000182, setup 0.00)\n",
      "Prob1A: 4 iterations in 0.00 seconds (average 0.000250, setup 0.00)\n",
      "Iterative method: 12 iterations in 0.00 seconds (average 0.000000, setup 0.00)\n",
      "Time for model checking: 0.004 seconds.\n",
      "Result: 0.03187157064471878 (value in the initial state)\n",
      "Model checking: Pmin=? [ F game_over&score=k ]\n",
      "Property constants: k=17\n",
      "Prob0E: 11 iterations in 0.00 seconds (average 0.000091, setup 0.00)\n",
      "Prob1A: 4 iterations in 0.00 seconds (average 0.000250, setup 0.00)\n",
      "Iterative method: 12 iterations in 0.00 seconds (average 0.000000, setup 0.00)\n",
      "Time for model checking: 0.003 seconds.\n",
      "Result: 0.024969993141289427 (value in the initial state)\n",
      "Model checking: Pmin=? [ F game_over&score=k ]\n",
      "Property constants: k=18\n",
      "Prob0E: 12 iterations in 0.00 seconds (average 0.000167, setup 0.00)\n",
      "Prob1A: 3 iterations in 0.00 seconds (average 0.000333, setup 0.00)\n",
      "Iterative method: 12 iterations in 0.00 seconds (average 0.000000, setup 0.00)\n",
      "Time for model checking: 0.004 seconds.\n",
      "Result: 0.00932355967078189 (value in the initial state)\n",
      "Model checking: Pmin=? [ F game_over&score=k ]\n",
      "Property constants: k=19\n",
      "Prob0E: 13 iterations in 0.00 seconds (average 0.000154, setup 0.00)\n",
      "Prob1A: 3 iterations in 0.00 seconds (average 0.000000, setup 0.00)\n",
      "Iterative method: 12 iterations in 0.00 seconds (average 0.000000, setup 0.00)\n",
      "Time for model checking: 0.003 seconds.\n",
      "Result: 0.0025720164609053485 (value in the initial state)\n",
      "Model checking: Pmin=? [ F game_over&score=k ]\n",
      "Property constants: k=20\n",
      "Prob0E: 13 iterations in 0.00 seconds (average 0.000154, setup 0.00)\n",
      "Prob1A: 3 iterations in 0.00 seconds (average 0.000000, setup 0.00)\n",
      "Iterative method: 12 iterations in 0.00 seconds (average 0.000000, setup 0.00)\n",
      "Time for model checking: 0.004 seconds.\n",
      "Result: 7.501714677640601E-4 (value in the initial state)\n",
      "Model checking: Pmin=? [ F game_over&score=k ]\n",
      "Property constants: k=21\n",
      "Prob0E: 13 iterations in 0.00 seconds (average 0.000154, setup 0.00)\n",
      "Prob1A: 4 iterations in 0.00 seconds (average 0.000250, setup 0.00)\n",
      "Iterative method: 12 iterations in 0.00 seconds (average 0.000000, setup 0.00)\n",
      "Time for model checking: 0.005 seconds.\n",
      "Result: 0.02443415637860082 (value in the initial state)\n"
     ]
    }
   ],
   "source": [
    "prob_score_low_file = f\"{data_location}/{model_spec}_prob_score_low.csv\"\n",
    "\n",
    "!prism $output_model_low $output_props -prop 2 -const k=1:{max_score} -exportresults {prob_score_low_file}:csv | grep -E \"(Model checking)|(Result)|(Property constants)|(sec)|(Error)\""
   ]
  },
  {
   "cell_type": "code",
   "execution_count": 58,
   "metadata": {
    "ExecuteTime": {
     "end_time": "2021-03-24T10:15:07.621750Z",
     "start_time": "2021-03-24T10:15:07.020989Z"
    }
   },
   "outputs": [
    {
     "name": "stdout",
     "output_type": "stream",
     "text": [
      "Model checking: Pmin=? [ F game_over&score=k ]\n",
      "Property constants: k=1\n",
      "Result: 0.027777777777777776 (value in the initial state)\n",
      "Model checking: Pmin=? [ F game_over&score=k ]\n",
      "Property constants: k=2\n",
      "Result: 0.027777777777777776 (value in the initial state)\n",
      "Model checking: Pmin=? [ F game_over&score=k ]\n",
      "Property constants: k=3\n",
      "Result: 0.018518518518518517 (value in the initial state)\n",
      "Model checking: Pmin=? [ F game_over&score=k ]\n",
      "Property constants: k=4\n",
      "Result: 0.009259259259259259 (value in the initial state)\n",
      "Model checking: Pmin=? [ F game_over&score=k ]\n",
      "Property constants: k=5\n",
      "Result: 0.018518518518518517 (value in the initial state)\n",
      "Model checking: Pmin=? [ F game_over&score=k ]\n",
      "Property constants: k=6\n",
      "Result: 0.037037037037037035 (value in the initial state)\n",
      "Model checking: Pmin=? [ F game_over&score=k ]\n",
      "Property constants: k=7\n",
      "Result: 0.020833333333333332 (value in the initial state)\n",
      "Model checking: Pmin=? [ F game_over&score=k ]\n",
      "Property constants: k=8\n",
      "Result: 0.032407407407407406 (value in the initial state)\n",
      "Model checking: Pmin=? [ F game_over&score=k ]\n",
      "Property constants: k=9\n",
      "Result: 0.018518518518518517 (value in the initial state)\n",
      "Model checking: Pmin=? [ F game_over&score=k ]\n",
      "Property constants: k=10\n",
      "Result: 0.05195473251028806 (value in the initial state)\n",
      "Model checking: Pmin=? [ F game_over&score=k ]\n",
      "Property constants: k=11\n",
      "Result: 0.03883744855967078 (value in the initial state)\n",
      "Model checking: Pmin=? [ F game_over&score=k ]\n",
      "Property constants: k=12\n",
      "Result: 0.03858024691358024 (value in the initial state)\n",
      "Model checking: Pmin=? [ F game_over&score=k ]\n",
      "Property constants: k=13\n",
      "Result: 0.021347736625514403 (value in the initial state)\n",
      "Model checking: Pmin=? [ F game_over&score=k ]\n",
      "Property constants: k=14\n",
      "Result: 0.016975308641975308 (value in the initial state)\n",
      "Model checking: Pmin=? [ F game_over&score=k ]\n",
      "Property constants: k=15\n",
      "Result: 0.030178326474622763 (value in the initial state)\n",
      "Model checking: Pmin=? [ F game_over&score=k ]\n",
      "Property constants: k=16\n",
      "Result: 0.02396262002743484 (value in the initial state)\n",
      "Model checking: Pmin=? [ F game_over&score=k ]\n",
      "Property constants: k=17\n",
      "Result: 0.010266632373113852 (value in the initial state)\n",
      "Model checking: Pmin=? [ F game_over&score=k ]\n",
      "Property constants: k=18\n",
      "Result: 0.0055298353909465 (value in the initial state)\n",
      "Model checking: Pmin=? [ F game_over&score=k ]\n",
      "Property constants: k=19\n",
      "Result: 0.0022505144032921804 (value in the initial state)\n",
      "Model checking: Pmin=? [ F game_over&score=k ]\n",
      "Property constants: k=20\n",
      "Result: 1.0716735253772286E-4 (value in the initial state)\n",
      "Model checking: Pmin=? [ F game_over&score=k ]\n",
      "Property constants: k=21\n",
      "Result: 0.023662551440329214 (value in the initial state)\n"
     ]
    }
   ],
   "source": [
    "prob_score_nondet_min_file = f\"{data_location}/{model_spec}_prob_score_nondet_min.csv\"\n",
    "\n",
    "!prism $output_model_nondet $output_props -prop 2 -const k=1:{max_score} -exportresults {prob_score_nondet_min_file}:csv | grep -E \"(Model checking)|(Result)|(Property constants)|(Error)\""
   ]
  },
  {
   "cell_type": "code",
   "execution_count": 59,
   "metadata": {
    "ExecuteTime": {
     "end_time": "2021-03-24T10:15:08.212915Z",
     "start_time": "2021-03-24T10:15:07.623753Z"
    },
    "scrolled": false
   },
   "outputs": [
    {
     "name": "stdout",
     "output_type": "stream",
     "text": [
      "Model checking: Pmax=? [ F game_over&score=k ]\n",
      "Property constants: k=1\n",
      "Result: 0.027777777777777776 (value in the initial state)\n",
      "Model checking: Pmax=? [ F game_over&score=k ]\n",
      "Property constants: k=2\n",
      "Result: 0.027777777777777776 (value in the initial state)\n",
      "Model checking: Pmax=? [ F game_over&score=k ]\n",
      "Property constants: k=3\n",
      "Result: 0.07407407407407407 (value in the initial state)\n",
      "Model checking: Pmax=? [ F game_over&score=k ]\n",
      "Property constants: k=4\n",
      "Result: 0.07407407407407407 (value in the initial state)\n",
      "Model checking: Pmax=? [ F game_over&score=k ]\n",
      "Property constants: k=5\n",
      "Result: 0.09259259259259259 (value in the initial state)\n",
      "Model checking: Pmax=? [ F game_over&score=k ]\n",
      "Property constants: k=6\n",
      "Result: 0.16666666666666669 (value in the initial state)\n",
      "Model checking: Pmax=? [ F game_over&score=k ]\n",
      "Property constants: k=7\n",
      "Result: 0.09722222222222224 (value in the initial state)\n",
      "Model checking: Pmax=? [ F game_over&score=k ]\n",
      "Property constants: k=8\n",
      "Result: 0.09722222222222221 (value in the initial state)\n",
      "Model checking: Pmax=? [ F game_over&score=k ]\n",
      "Property constants: k=9\n",
      "Result: 0.09722222222222221 (value in the initial state)\n",
      "Model checking: Pmax=? [ F game_over&score=k ]\n",
      "Property constants: k=10\n",
      "Result: 0.13580246913580246 (value in the initial state)\n",
      "Model checking: Pmax=? [ F game_over&score=k ]\n",
      "Property constants: k=11\n",
      "Result: 0.1111111111111111 (value in the initial state)\n",
      "Model checking: Pmax=? [ F game_over&score=k ]\n",
      "Property constants: k=12\n",
      "Result: 0.11419753086419752 (value in the initial state)\n",
      "Model checking: Pmax=? [ F game_over&score=k ]\n",
      "Property constants: k=13\n",
      "Result: 0.08641975308641975 (value in the initial state)\n",
      "Model checking: Pmax=? [ F game_over&score=k ]\n",
      "Property constants: k=14\n",
      "Result: 0.08333333333333333 (value in the initial state)\n",
      "Model checking: Pmax=? [ F game_over&score=k ]\n",
      "Property constants: k=15\n",
      "Result: 0.10673868312757197 (value in the initial state)\n",
      "Model checking: Pmax=? [ F game_over&score=k ]\n",
      "Property constants: k=16\n",
      "Result: 0.0848765432098765 (value in the initial state)\n",
      "Model checking: Pmax=? [ F game_over&score=k ]\n",
      "Property constants: k=17\n",
      "Result: 0.06301440329218104 (value in the initial state)\n",
      "Model checking: Pmax=? [ F game_over&score=k ]\n",
      "Property constants: k=18\n",
      "Result: 0.05401234567901232 (value in the initial state)\n",
      "Model checking: Pmax=? [ F game_over&score=k ]\n",
      "Property constants: k=19\n",
      "Result: 0.036008230452674886 (value in the initial state)\n",
      "Model checking: Pmax=? [ F game_over&score=k ]\n",
      "Property constants: k=20\n",
      "Result: 0.028292181069958833 (value in the initial state)\n",
      "Model checking: Pmax=? [ F game_over&score=k ]\n",
      "Property constants: k=21\n",
      "Result: 0.07458847736625514 (value in the initial state)\n"
     ]
    }
   ],
   "source": [
    "prob_score_nondet_max_file = f\"{data_location}/{model_spec}_prob_score_nondet_max.csv\"\n",
    "\n",
    "!prism $output_model_nondet $output_props -prop 3 -const k=1:{max_score} -exportresults {prob_score_nondet_max_file}:csv | grep -E \"(Model checking)|(Result)|(Property constants)|(Error)\""
   ]
  },
  {
   "cell_type": "markdown",
   "metadata": {},
   "source": [
    "### Expected number of die rolls"
   ]
  },
  {
   "cell_type": "code",
   "execution_count": 60,
   "metadata": {
    "ExecuteTime": {
     "end_time": "2021-03-24T10:15:09.192905Z",
     "start_time": "2021-03-24T10:15:08.213853Z"
    }
   },
   "outputs": [
    {
     "name": "stdout",
     "output_type": "stream",
     "text": [
      "High board strategy:\n",
      "Model checking: R{\"no_rolls\"}max=? [ F game_over ]\n",
      "Result: 4.313786008230452 (value in the initial state)\n",
      "Low board strategy:\n",
      "Model checking: R{\"no_rolls\"}max=? [ F game_over ]\n",
      "Result: 3.214077503429355 (value in the initial state)\n"
     ]
    }
   ],
   "source": [
    "print(\"High board strategy:\")\n",
    "!prism $output_model_high $output_props -prop 9 | grep -E \"(Model checking)|(Result)|(Error)\"\n",
    "print(\"Low board strategy:\")\n",
    "!prism $output_model_low $output_props -prop 9 | grep -E \"(Model checking)|(Result)|(Error)\""
   ]
  },
  {
   "cell_type": "markdown",
   "metadata": {},
   "source": [
    "### Probability of obtaining a score given a particular board is covered"
   ]
  },
  {
   "cell_type": "code",
   "execution_count": 61,
   "metadata": {
    "ExecuteTime": {
     "end_time": "2021-03-24T10:15:12.542419Z",
     "start_time": "2021-03-24T10:15:09.194912Z"
    },
    "tags": [
     "outputPrepend"
    ]
   },
   "outputs": [
    {
     "name": "stdout",
     "output_type": "stream",
     "text": [
      "Model checking: Pmin=? [ F game_over&b1=1&score=k ]\n",
      "Property constants: k=1\n",
      "Result: 0.027777777777777776 (value in the initial state)\n",
      "Model checking: Pmin=? [ F game_over&b1=1&score=k ]\n",
      "Property constants: k=2\n",
      "Result: 0.0 (value in the initial state)\n",
      "Model checking: Pmin=? [ F game_over&b1=1&score=k ]\n",
      "Property constants: k=3\n",
      "Result: 0.018518518518518517 (value in the initial state)\n",
      "Model checking: Pmin=? [ F game_over&b1=1&score=k ]\n",
      "Property constants: k=4\n",
      "Result: 0.018518518518518517 (value in the initial state)\n",
      "Model checking: Pmin=? [ F game_over&b1=1&score=k ]\n",
      "Property constants: k=5\n",
      "Result: 0.018518518518518517 (value in the initial state)\n",
      "Model checking: Pmin=? [ F game_over&b1=1&score=k ]\n",
      "Property constants: k=6\n",
      "Result: 0.037037037037037035 (value in the initial state)\n",
      "Model checking: Pmin=? [ F game_over&b1=1&score=k ]\n",
      "Property constants: k=7\n",
      "Result: 0.023148148148148147 (value in the initial state)\n",
      "Model checking: Pmin=? [ F game_over&b1=1&score=k ]\n",
      "Property constants: k=8\n",
      "Result: 0.041666666666666664 (value in the initial state)\n",
      "Model checking: Pmin=? [ F game_over&b1=1&score=k ]\n",
      "Property constants: k=9\n",
      "Result: 0.027777777777777776 (value in the initial state)\n",
      "Model checking: Pmin=? [ F game_over&b1=1&score=k ]\n",
      "Property constants: k=10\n",
      "Result: 0.04938271604938271 (value in the initial state)\n",
      "Model checking: Pmin=? [ F game_over&b1=1&score=k ]\n",
      "Property constants: k=11\n",
      "Result: 0.041666666666666664 (value in the initial state)\n",
      "Model checking: Pmin=? [ F game_over&b1=1&score=k ]\n",
      "Property constants: k=12\n",
      "Result: 0.044753086419753084 (value in the initial state)\n",
      "Model checking: Pmin=? [ F game_over&b1=1&score=k ]\n",
      "Property constants: k=13\n",
      "Result: 0.046296296296296294 (value in the initial state)\n",
      "Model checking: Pmin=? [ F game_over&b1=1&score=k ]\n",
      "Property constants: k=14\n",
      "Result: 0.040123456790123455 (value in the initial state)\n",
      "Model checking: Pmin=? [ F game_over&b1=1&score=k ]\n",
      "Property constants: k=15\n",
      "Result: 0.05555555555555554 (value in the initial state)\n",
      "Model checking: Pmin=? [ F game_over&b1=1&score=k ]\n",
      "Property constants: k=16\n",
      "Result: 0.04963991769547323 (value in the initial state)\n",
      "Model checking: Pmin=? [ F game_over&b1=1&score=k ]\n",
      "Property constants: k=17\n",
      "Result: 0.030864197530864185 (value in the initial state)\n",
      "Model checking: Pmin=? [ F game_over&b1=1&score=k ]\n",
      "Property constants: k=18\n",
      "Result: 0.03600823045267488 (value in the initial state)\n",
      "Model checking: Pmin=? [ F game_over&b1=1&score=k ]\n",
      "Property constants: k=19\n",
      "Result: 0.030864197530864185 (value in the initial state)\n",
      "Model checking: Pmin=? [ F game_over&b1=1&score=k ]\n",
      "Property constants: k=20\n",
      "Result: 0.0 (value in the initial state)\n",
      "Model checking: Pmin=? [ F game_over&b1=1&score=k ]\n",
      "Property constants: k=21\n",
      "Result: 0.07458847736625514 (value in the initial state)\n",
      "Exporting results to file \"ShutTheBox/data/stb6_1d6/stb6_1d6_score_with_covered_1.csv\"...\n",
      "Model checking: Pmin=? [ F game_over&b2=1&score=k ]\n",
      "Property constants: k=1\n",
      "Result: 0.0 (value in the initial state)\n",
      "Model checking: Pmin=? [ F game_over&b2=1&score=k ]\n",
      "Property constants: k=2\n",
      "Result: 0.027777777777777776 (value in the initial state)\n",
      "Model checking: Pmin=? [ F game_over&b2=1&score=k ]\n",
      "Property constants: k=3\n",
      "Result: 0.018518518518518517 (value in the initial state)\n",
      "Model checking: Pmin=? [ F game_over&b2=1&score=k ]\n",
      "Property constants: k=4\n",
      "Result: 0.0 (value in the initial state)\n",
      "Model checking: Pmin=? [ F game_over&b2=1&score=k ]\n",
      "Property constants: k=5\n",
      "Result: 0.018518518518518517 (value in the initial state)\n",
      "Model checking: Pmin=? [ F game_over&b2=1&score=k ]\n",
      "Property constants: k=6\n",
      "Result: 0.037037037037037035 (value in the initial state)\n",
      "Model checking: Pmin=? [ F game_over&b2=1&score=k ]\n",
      "Property constants: k=7\n",
      "Result: 0.023148148148148147 (value in the initial state)\n",
      "Model checking: Pmin=? [ F game_over&b2=1&score=k ]\n",
      "Property constants: k=8\n",
      "Result: 0.023148148148148147 (value in the initial state)\n",
      "Model checking: Pmin=? [ F game_over&b2=1&score=k ]\n",
      "Property constants: k=9\n",
      "Result: 0.027777777777777776 (value in the initial state)\n",
      "Model checking: Pmin=? [ F game_over&b2=1&score=k ]\n",
      "Property constants: k=10\n",
      "Result: 0.040123456790123455 (value in the initial state)\n",
      "Model checking: Pmin=? [ F game_over&b2=1&score=k ]\n",
      "Property constants: k=11\n",
      "Result: 0.046296296296296294 (value in the initial state)\n",
      "Model checking: Pmin=? [ F game_over&b2=1&score=k ]\n",
      "Property constants: k=12\n",
      "Result: 0.044753086419753084 (value in the initial state)\n",
      "Model checking: Pmin=? [ F game_over&b2=1&score=k ]\n",
      "Property constants: k=13\n",
      "Result: 0.027777777777777776 (value in the initial state)\n",
      "Model checking: Pmin=? [ F game_over&b2=1&score=k ]\n",
      "Property constants: k=14\n",
      "Result: 0.037037037037037035 (value in the initial state)\n",
      "Model checking: Pmin=? [ F game_over&b2=1&score=k ]\n",
      "Property constants: k=15\n",
      "Result: 0.05555555555555554 (value in the initial state)\n",
      "Model checking: Pmin=? [ F game_over&b2=1&score=k ]\n",
      "Property constants: k=16\n",
      "Result: 0.04269547325102879 (value in the initial state)\n",
      "Model checking: Pmin=? [ F game_over&b2=1&score=k ]\n",
      "Property constants: k=17\n",
      "Result: 0.04706790123456789 (value in the initial state)\n",
      "Model checking: Pmin=? [ F game_over&b2=1&score=k ]\n",
      "Property constants: k=18\n",
      "Result: 0.03600823045267488 (value in the initial state)\n",
      "Model checking: Pmin=? [ F game_over&b2=1&score=k ]\n",
      "Property constants: k=19\n",
      "Result: 0.0 (value in the initial state)\n",
      "Model checking: Pmin=? [ F game_over&b2=1&score=k ]\n",
      "Property constants: k=20\n",
      "Result: 0.02314814814814814 (value in the initial state)\n",
      "Model checking: Pmin=? [ F game_over&b2=1&score=k ]\n",
      "Property constants: k=21\n",
      "Result: 0.07458847736625514 (value in the initial state)\n",
      "Exporting results to file \"ShutTheBox/data/stb6_1d6/stb6_1d6_score_with_covered_2.csv\"...\n",
      "Model checking: Pmin=? [ F game_over&b3=1&score=k ]\n",
      "Property constants: k=1\n",
      "Result: 0.0 (value in the initial state)\n",
      "Model checking: Pmin=? [ F game_over&b3=1&score=k ]\n",
      "Property constants: k=2\n",
      "Result: 0.0 (value in the initial state)\n",
      "Model checking: Pmin=? [ F game_over&b3=1&score=k ]\n",
      "Property constants: k=3\n",
      "Result: 0.0 (value in the initial state)\n",
      "Model checking: Pmin=? [ F game_over&b3=1&score=k ]\n",
      "Property constants: k=4\n",
      "Result: 0.018518518518518517 (value in the initial state)\n",
      "Model checking: Pmin=? [ F game_over&b3=1&score=k ]\n",
      "Property constants: k=5\n",
      "Result: 0.018518518518518517 (value in the initial state)\n",
      "Model checking: Pmin=? [ F game_over&b3=1&score=k ]\n",
      "Property constants: k=6\n",
      "Result: 0.027777777777777776 (value in the initial state)\n",
      "Model checking: Pmin=? [ F game_over&b3=1&score=k ]\n",
      "Property constants: k=7\n",
      "Result: 0.009259259259259259 (value in the initial state)\n",
      "Model checking: Pmin=? [ F game_over&b3=1&score=k ]\n",
      "Property constants: k=8\n",
      "Result: 0.027777777777777776 (value in the initial state)\n",
      "Model checking: Pmin=? [ F game_over&b3=1&score=k ]\n",
      "Property constants: k=9\n",
      "Result: 0.027777777777777776 (value in the initial state)\n",
      "Model checking: Pmin=? [ F game_over&b3=1&score=k ]\n",
      "Property constants: k=10\n",
      "Result: 0.04938271604938271 (value in the initial state)\n",
      "Model checking: Pmin=? [ F game_over&b3=1&score=k ]\n",
      "Property constants: k=11\n",
      "Result: 0.037037037037037035 (value in the initial state)\n",
      "Model checking: Pmin=? [ F game_over&b3=1&score=k ]\n",
      "Property constants: k=12\n",
      "Result: 0.030864197530864196 (value in the initial state)\n",
      "Model checking: Pmin=? [ F game_over&b3=1&score=k ]\n",
      "Property constants: k=13\n",
      "Result: 0.032407407407407406 (value in the initial state)\n",
      "Model checking: Pmin=? [ F game_over&b3=1&score=k ]\n",
      "Property constants: k=14\n",
      "Result: 0.040123456790123455 (value in the initial state)\n",
      "Model checking: Pmin=? [ F game_over&b3=1&score=k ]\n",
      "Property constants: k=15\n",
      "Result: 0.07175925925925924 (value in the initial state)\n",
      "Model checking: Pmin=? [ F game_over&b3=1&score=k ]\n",
      "Property constants: k=16\n",
      "Result: 0.04269547325102879 (value in the initial state)\n",
      "Model checking: Pmin=? [ F game_over&b3=1&score=k ]\n",
      "Property constants: k=17\n",
      "Result: 0.030864197530864185 (value in the initial state)\n",
      "Model checking: Pmin=? [ F game_over&b3=1&score=k ]\n",
      "Property constants: k=18\n",
      "Result: 0.009259259259259259 (value in the initial state)\n",
      "Model checking: Pmin=? [ F game_over&b3=1&score=k ]\n",
      "Property constants: k=19\n",
      "Result: 0.030864197530864185 (value in the initial state)\n",
      "Model checking: Pmin=? [ F game_over&b3=1&score=k ]\n",
      "Property constants: k=20\n",
      "Result: 0.02314814814814814 (value in the initial state)\n",
      "Model checking: Pmin=? [ F game_over&b3=1&score=k ]\n",
      "Property constants: k=21\n",
      "Result: 0.07458847736625514 (value in the initial state)\n",
      "Exporting results to file \"ShutTheBox/data/stb6_1d6/stb6_1d6_score_with_covered_3.csv\"...\n"
     ]
    },
    {
     "name": "stdout",
     "output_type": "stream",
     "text": [
      "Model checking: Pmin=? [ F game_over&b4=1&score=k ]\n",
      "Property constants: k=1\n",
      "Result: 0.0 (value in the initial state)\n",
      "Model checking: Pmin=? [ F game_over&b4=1&score=k ]\n",
      "Property constants: k=2\n",
      "Result: 0.0 (value in the initial state)\n",
      "Model checking: Pmin=? [ F game_over&b4=1&score=k ]\n",
      "Property constants: k=3\n",
      "Result: 0.0 (value in the initial state)\n",
      "Model checking: Pmin=? [ F game_over&b4=1&score=k ]\n",
      "Property constants: k=4\n",
      "Result: 0.0 (value in the initial state)\n",
      "Model checking: Pmin=? [ F game_over&b4=1&score=k ]\n",
      "Property constants: k=5\n",
      "Result: 0.018518518518518517 (value in the initial state)\n",
      "Model checking: Pmin=? [ F game_over&b4=1&score=k ]\n",
      "Property constants: k=6\n",
      "Result: 0.009259259259259259 (value in the initial state)\n",
      "Model checking: Pmin=? [ F game_over&b4=1&score=k ]\n",
      "Property constants: k=7\n",
      "Result: 0.023148148148148147 (value in the initial state)\n",
      "Model checking: Pmin=? [ F game_over&b4=1&score=k ]\n",
      "Property constants: k=8\n",
      "Result: 0.027777777777777776 (value in the initial state)\n",
      "Model checking: Pmin=? [ F game_over&b4=1&score=k ]\n",
      "Property constants: k=9\n",
      "Result: 0.013888888888888888 (value in the initial state)\n",
      "Model checking: Pmin=? [ F game_over&b4=1&score=k ]\n",
      "Property constants: k=10\n",
      "Result: 0.040123456790123455 (value in the initial state)\n",
      "Model checking: Pmin=? [ F game_over&b4=1&score=k ]\n",
      "Property constants: k=11\n",
      "Result: 0.023148148148148147 (value in the initial state)\n",
      "Model checking: Pmin=? [ F game_over&b4=1&score=k ]\n",
      "Property constants: k=12\n",
      "Result: 0.032407407407407406 (value in the initial state)\n",
      "Model checking: Pmin=? [ F game_over&b4=1&score=k ]\n",
      "Property constants: k=13\n",
      "Result: 0.05092592592592592 (value in the initial state)\n",
      "Model checking: Pmin=? [ F game_over&b4=1&score=k ]\n",
      "Property constants: k=14\n",
      "Result: 0.040123456790123455 (value in the initial state)\n",
      "Model checking: Pmin=? [ F game_over&b4=1&score=k ]\n",
      "Property constants: k=15\n",
      "Result: 0.05555555555555554 (value in the initial state)\n",
      "Model checking: Pmin=? [ F game_over&b4=1&score=k ]\n",
      "Property constants: k=16\n",
      "Result: 0.04963991769547323 (value in the initial state)\n",
      "Model checking: Pmin=? [ F game_over&b4=1&score=k ]\n",
      "Property constants: k=17\n",
      "Result: 0.013888888888888888 (value in the initial state)\n",
      "Model checking: Pmin=? [ F game_over&b4=1&score=k ]\n",
      "Property constants: k=18\n",
      "Result: 0.04526748971193414 (value in the initial state)\n",
      "Model checking: Pmin=? [ F game_over&b4=1&score=k ]\n",
      "Property constants: k=19\n",
      "Result: 0.030864197530864185 (value in the initial state)\n",
      "Model checking: Pmin=? [ F game_over&b4=1&score=k ]\n",
      "Property constants: k=20\n",
      "Result: 0.02314814814814814 (value in the initial state)\n",
      "Model checking: Pmin=? [ F game_over&b4=1&score=k ]\n",
      "Property constants: k=21\n",
      "Result: 0.07458847736625514 (value in the initial state)\n",
      "Exporting results to file \"ShutTheBox/data/stb6_1d6/stb6_1d6_score_with_covered_4.csv\"...\n",
      "Model checking: Pmin=? [ F game_over&b5=1&score=k ]\n",
      "Property constants: k=1\n",
      "Result: 0.0 (value in the initial state)\n",
      "Model checking: Pmin=? [ F game_over&b5=1&score=k ]\n",
      "Property constants: k=2\n",
      "Result: 0.0 (value in the initial state)\n",
      "Model checking: Pmin=? [ F game_over&b5=1&score=k ]\n",
      "Property constants: k=3\n",
      "Result: 0.0 (value in the initial state)\n",
      "Model checking: Pmin=? [ F game_over&b5=1&score=k ]\n",
      "Property constants: k=4\n",
      "Result: 0.0 (value in the initial state)\n",
      "Model checking: Pmin=? [ F game_over&b5=1&score=k ]\n",
      "Property constants: k=5\n",
      "Result: 0.0 (value in the initial state)\n",
      "Model checking: Pmin=? [ F game_over&b5=1&score=k ]\n",
      "Property constants: k=6\n",
      "Result: 0.009259259259259259 (value in the initial state)\n",
      "Model checking: Pmin=? [ F game_over&b5=1&score=k ]\n",
      "Property constants: k=7\n",
      "Result: 0.009259259259259259 (value in the initial state)\n",
      "Model checking: Pmin=? [ F game_over&b5=1&score=k ]\n",
      "Property constants: k=8\n",
      "Result: 0.013888888888888888 (value in the initial state)\n",
      "Model checking: Pmin=? [ F game_over&b5=1&score=k ]\n",
      "Property constants: k=9\n",
      "Result: 0.013888888888888888 (value in the initial state)\n",
      "Model checking: Pmin=? [ F game_over&b5=1&score=k ]\n",
      "Property constants: k=10\n",
      "Result: 0.027777777777777776 (value in the initial state)\n",
      "Model checking: Pmin=? [ F game_over&b5=1&score=k ]\n",
      "Property constants: k=11\n",
      "Result: 0.037037037037037035 (value in the initial state)\n",
      "Model checking: Pmin=? [ F game_over&b5=1&score=k ]\n",
      "Property constants: k=12\n",
      "Result: 0.032407407407407406 (value in the initial state)\n",
      "Model checking: Pmin=? [ F game_over&b5=1&score=k ]\n",
      "Property constants: k=13\n",
      "Result: 0.037037037037037035 (value in the initial state)\n",
      "Model checking: Pmin=? [ F game_over&b5=1&score=k ]\n",
      "Property constants: k=14\n",
      "Result: 0.037037037037037035 (value in the initial state)\n",
      "Model checking: Pmin=? [ F game_over&b5=1&score=k ]\n",
      "Property constants: k=15\n",
      "Result: 0.05555555555555554 (value in the initial state)\n",
      "Model checking: Pmin=? [ F game_over&b5=1&score=k ]\n",
      "Property constants: k=16\n",
      "Result: 0.03009259259259259 (value in the initial state)\n",
      "Model checking: Pmin=? [ F game_over&b5=1&score=k ]\n",
      "Property constants: k=17\n",
      "Result: 0.04706790123456789 (value in the initial state)\n",
      "Model checking: Pmin=? [ F game_over&b5=1&score=k ]\n",
      "Property constants: k=18\n",
      "Result: 0.04526748971193414 (value in the initial state)\n",
      "Model checking: Pmin=? [ F game_over&b5=1&score=k ]\n",
      "Property constants: k=19\n",
      "Result: 0.030864197530864185 (value in the initial state)\n",
      "Model checking: Pmin=? [ F game_over&b5=1&score=k ]\n",
      "Property constants: k=20\n",
      "Result: 0.02314814814814814 (value in the initial state)\n",
      "Model checking: Pmin=? [ F game_over&b5=1&score=k ]\n",
      "Property constants: k=21\n",
      "Result: 0.07458847736625514 (value in the initial state)\n",
      "Exporting results to file \"ShutTheBox/data/stb6_1d6/stb6_1d6_score_with_covered_5.csv\"...\n",
      "Model checking: Pmin=? [ F game_over&b6=1&score=k ]\n",
      "Property constants: k=1\n",
      "Result: 0.0 (value in the initial state)\n",
      "Model checking: Pmin=? [ F game_over&b6=1&score=k ]\n",
      "Property constants: k=2\n",
      "Result: 0.0 (value in the initial state)\n",
      "Model checking: Pmin=? [ F game_over&b6=1&score=k ]\n",
      "Property constants: k=3\n",
      "Result: 0.0 (value in the initial state)\n",
      "Model checking: Pmin=? [ F game_over&b6=1&score=k ]\n",
      "Property constants: k=4\n",
      "Result: 0.0 (value in the initial state)\n",
      "Model checking: Pmin=? [ F game_over&b6=1&score=k ]\n",
      "Property constants: k=5\n",
      "Result: 0.0 (value in the initial state)\n",
      "Model checking: Pmin=? [ F game_over&b6=1&score=k ]\n",
      "Property constants: k=6\n",
      "Result: 0.0 (value in the initial state)\n",
      "Model checking: Pmin=? [ F game_over&b6=1&score=k ]\n",
      "Property constants: k=7\n",
      "Result: 0.009259259259259259 (value in the initial state)\n",
      "Model checking: Pmin=? [ F game_over&b6=1&score=k ]\n",
      "Property constants: k=8\n",
      "Result: 0.009259259259259259 (value in the initial state)\n",
      "Model checking: Pmin=? [ F game_over&b6=1&score=k ]\n",
      "Property constants: k=9\n",
      "Result: 0.013888888888888888 (value in the initial state)\n",
      "Model checking: Pmin=? [ F game_over&b6=1&score=k ]\n",
      "Property constants: k=10\n",
      "Result: 0.009259259259259259 (value in the initial state)\n",
      "Model checking: Pmin=? [ F game_over&b6=1&score=k ]\n",
      "Property constants: k=11\n",
      "Result: 0.023148148148148147 (value in the initial state)\n",
      "Model checking: Pmin=? [ F game_over&b6=1&score=k ]\n",
      "Property constants: k=12\n",
      "Result: 0.035493827160493825 (value in the initial state)\n",
      "Model checking: Pmin=? [ F game_over&b6=1&score=k ]\n",
      "Property constants: k=13\n",
      "Result: 0.032407407407407406 (value in the initial state)\n",
      "Model checking: Pmin=? [ F game_over&b6=1&score=k ]\n",
      "Property constants: k=14\n",
      "Result: 0.040123456790123455 (value in the initial state)\n",
      "Model checking: Pmin=? [ F game_over&b6=1&score=k ]\n",
      "Property constants: k=15\n",
      "Result: 0.02546296296296296 (value in the initial state)\n",
      "Model checking: Pmin=? [ F game_over&b6=1&score=k ]\n",
      "Property constants: k=16\n",
      "Result: 0.06584362139917693 (value in the initial state)\n",
      "Model checking: Pmin=? [ F game_over&b6=1&score=k ]\n",
      "Property constants: k=17\n",
      "Result: 0.04706790123456789 (value in the initial state)\n",
      "Model checking: Pmin=? [ F game_over&b6=1&score=k ]\n",
      "Property constants: k=18\n",
      "Result: 0.04526748971193414 (value in the initial state)\n",
      "Model checking: Pmin=? [ F game_over&b6=1&score=k ]\n",
      "Property constants: k=19\n",
      "Result: 0.030864197530864185 (value in the initial state)\n",
      "Model checking: Pmin=? [ F game_over&b6=1&score=k ]\n",
      "Property constants: k=20\n",
      "Result: 0.02314814814814814 (value in the initial state)\n",
      "Model checking: Pmin=? [ F game_over&b6=1&score=k ]\n",
      "Property constants: k=21\n",
      "Result: 0.07458847736625514 (value in the initial state)\n",
      "Exporting results to file \"ShutTheBox/data/stb6_1d6/stb6_1d6_score_with_covered_6.csv\"...\n"
     ]
    }
   ],
   "source": [
    "for covered_board in range(1, boards+1):\n",
    "    !prism $output_model_high $output_props -prop {10+covered_board} -const k=1:{max_score} -exportresults ShutTheBox/data/{model_spec}/{model_spec}_score_with_covered_{covered_board}.csv:csv | grep -E \"(Model checking)|(Result)|(Property constant)|(Exporting results)|(Error)\""
   ]
  },
  {
   "cell_type": "markdown",
   "metadata": {},
   "source": [
    "### Cumulative probability of a score"
   ]
  },
  {
   "cell_type": "code",
   "execution_count": 62,
   "metadata": {
    "ExecuteTime": {
     "end_time": "2021-03-24T10:15:13.147458Z",
     "start_time": "2021-03-24T10:15:12.545381Z"
    }
   },
   "outputs": [
    {
     "name": "stdout",
     "output_type": "stream",
     "text": [
      "Model checking: Pmax=? [ F game_over&score<=k ]\n",
      "Property constants: k=1\n",
      "Result: 0.027777777777777776 (value in the initial state)\n",
      "Model checking: Pmax=? [ F game_over&score<=k ]\n",
      "Property constants: k=2\n",
      "Result: 0.05555555555555555 (value in the initial state)\n",
      "Model checking: Pmax=? [ F game_over&score<=k ]\n",
      "Property constants: k=3\n",
      "Result: 0.07407407407407407 (value in the initial state)\n",
      "Model checking: Pmax=? [ F game_over&score<=k ]\n",
      "Property constants: k=4\n",
      "Result: 0.09259259259259259 (value in the initial state)\n",
      "Model checking: Pmax=? [ F game_over&score<=k ]\n",
      "Property constants: k=5\n",
      "Result: 0.12962962962962965 (value in the initial state)\n",
      "Model checking: Pmax=? [ F game_over&score<=k ]\n",
      "Property constants: k=6\n",
      "Result: 0.1759259259259259 (value in the initial state)\n",
      "Model checking: Pmax=? [ F game_over&score<=k ]\n",
      "Property constants: k=7\n",
      "Result: 0.2175925925925926 (value in the initial state)\n",
      "Model checking: Pmax=? [ F game_over&score<=k ]\n",
      "Property constants: k=8\n",
      "Result: 0.26851851851851843 (value in the initial state)\n",
      "Model checking: Pmax=? [ F game_over&score<=k ]\n",
      "Property constants: k=9\n",
      "Result: 0.3101851851851852 (value in the initial state)\n",
      "Model checking: Pmax=? [ F game_over&score<=k ]\n",
      "Property constants: k=10\n",
      "Result: 0.3780864197530864 (value in the initial state)\n",
      "Model checking: Pmax=? [ F game_over&score<=k ]\n",
      "Property constants: k=11\n",
      "Result: 0.441358024691358 (value in the initial state)\n",
      "Model checking: Pmax=? [ F game_over&score<=k ]\n",
      "Property constants: k=12\n",
      "Result: 0.5046296296296295 (value in the initial state)\n",
      "Model checking: Pmax=? [ F game_over&score<=k ]\n",
      "Property constants: k=13\n",
      "Result: 0.5709876543209875 (value in the initial state)\n",
      "Model checking: Pmax=? [ F game_over&score<=k ]\n",
      "Property constants: k=14\n",
      "Result: 0.6296296296296294 (value in the initial state)\n",
      "Model checking: Pmax=? [ F game_over&score<=k ]\n",
      "Property constants: k=15\n",
      "Result: 0.7013888888888887 (value in the initial state)\n",
      "Model checking: Pmax=? [ F game_over&score<=k ]\n",
      "Property constants: k=16\n",
      "Result: 0.7713477366255143 (value in the initial state)\n",
      "Model checking: Pmax=? [ F game_over&score<=k ]\n",
      "Property constants: k=17\n",
      "Result: 0.8209876543209874 (value in the initial state)\n",
      "Model checking: Pmax=? [ F game_over&score<=k ]\n",
      "Property constants: k=18\n",
      "Result: 0.8662551440329215 (value in the initial state)\n",
      "Model checking: Pmax=? [ F game_over&score<=k ]\n",
      "Property constants: k=19\n",
      "Result: 0.9022633744855965 (value in the initial state)\n",
      "Model checking: Pmax=? [ F game_over&score<=k ]\n",
      "Property constants: k=20\n",
      "Result: 0.9254115226337445 (value in the initial state)\n",
      "Model checking: Pmax=? [ F game_over&score<=k ]\n",
      "Property constants: k=21\n",
      "Result: 1.0 (value in the initial state)\n",
      "Exporting results to file \"ShutTheBox/data/stb6_1d6/stb6_1d6_cum_prob_high.csv\"...\n"
     ]
    }
   ],
   "source": [
    "!prism $output_model_high $output_props -prop 6 -const k=1:{max_score} -exportresults ShutTheBox/data/{model_spec}/{model_spec}_cum_prob_high.csv:csv | grep -E \"(Model checking)|(Result)|(Property constant)|(Exporting results)|(Error)\""
   ]
  },
  {
   "cell_type": "code",
   "execution_count": 63,
   "metadata": {
    "ExecuteTime": {
     "end_time": "2021-03-24T10:15:13.784656Z",
     "start_time": "2021-03-24T10:15:13.148460Z"
    }
   },
   "outputs": [
    {
     "name": "stdout",
     "output_type": "stream",
     "text": [
      "Model checking: Pmax=? [ F game_over&score<=k ]\n",
      "Property constants: k=1\n",
      "Result: 0.027777777777777776 (value in the initial state)\n",
      "Model checking: Pmax=? [ F game_over&score<=k ]\n",
      "Property constants: k=2\n",
      "Result: 0.05555555555555555 (value in the initial state)\n",
      "Model checking: Pmax=? [ F game_over&score<=k ]\n",
      "Property constants: k=3\n",
      "Result: 0.12962962962962962 (value in the initial state)\n",
      "Model checking: Pmax=? [ F game_over&score<=k ]\n",
      "Property constants: k=4\n",
      "Result: 0.19444444444444445 (value in the initial state)\n",
      "Model checking: Pmax=? [ F game_over&score<=k ]\n",
      "Property constants: k=5\n",
      "Result: 0.2685185185185185 (value in the initial state)\n",
      "Model checking: Pmax=? [ F game_over&score<=k ]\n",
      "Property constants: k=6\n",
      "Result: 0.4305555555555554 (value in the initial state)\n",
      "Model checking: Pmax=? [ F game_over&score<=k ]\n",
      "Property constants: k=7\n",
      "Result: 0.4791666666666666 (value in the initial state)\n",
      "Model checking: Pmax=? [ F game_over&score<=k ]\n",
      "Property constants: k=8\n",
      "Result: 0.5300925925925926 (value in the initial state)\n",
      "Model checking: Pmax=? [ F game_over&score<=k ]\n",
      "Property constants: k=9\n",
      "Result: 0.5810185185185185 (value in the initial state)\n",
      "Model checking: Pmax=? [ F game_over&score<=k ]\n",
      "Property constants: k=10\n",
      "Result: 0.6818415637860082 (value in the initial state)\n",
      "Model checking: Pmax=? [ F game_over&score<=k ]\n",
      "Property constants: k=11\n",
      "Result: 0.7525720164609053 (value in the initial state)\n",
      "Model checking: Pmax=? [ F game_over&score<=k ]\n",
      "Property constants: k=12\n",
      "Result: 0.810699588477366 (value in the initial state)\n",
      "Model checking: Pmax=? [ F game_over&score<=k ]\n",
      "Property constants: k=13\n",
      "Result: 0.8338477366255141 (value in the initial state)\n",
      "Model checking: Pmax=? [ F game_over&score<=k ]\n",
      "Property constants: k=14\n",
      "Result: 0.853395061728395 (value in the initial state)\n",
      "Model checking: Pmax=? [ F game_over&score<=k ]\n",
      "Property constants: k=15\n",
      "Result: 0.9037637174211247 (value in the initial state)\n",
      "Model checking: Pmax=? [ F game_over&score<=k ]\n",
      "Property constants: k=16\n",
      "Result: 0.9379501028806583 (value in the initial state)\n",
      "Model checking: Pmax=? [ F game_over&score<=k ]\n",
      "Property constants: k=17\n",
      "Result: 0.9629200960219477 (value in the initial state)\n",
      "Model checking: Pmax=? [ F game_over&score<=k ]\n",
      "Property constants: k=18\n",
      "Result: 0.9722436556927296 (value in the initial state)\n",
      "Model checking: Pmax=? [ F game_over&score<=k ]\n",
      "Property constants: k=19\n",
      "Result: 0.974815672153635 (value in the initial state)\n",
      "Model checking: Pmax=? [ F game_over&score<=k ]\n",
      "Property constants: k=20\n",
      "Result: 0.975565843621399 (value in the initial state)\n",
      "Model checking: Pmax=? [ F game_over&score<=k ]\n",
      "Property constants: k=21\n",
      "Result: 1.0 (value in the initial state)\n",
      "Exporting results to file \"ShutTheBox/data/stb6_1d6/stb6_1d6_cum_prob_low.csv\"...\n"
     ]
    }
   ],
   "source": [
    "!prism $output_model_low $output_props -prop 6 -const k=1:{max_score} -exportresults ShutTheBox/data/{model_spec}/{model_spec}_cum_prob_low.csv:csv | grep -E \"(Model checking)|(Result)|(Property constant)|(Exporting results)|(Error)\""
   ]
  },
  {
   "cell_type": "code",
   "execution_count": 64,
   "metadata": {
    "ExecuteTime": {
     "end_time": "2021-03-24T10:15:14.418605Z",
     "start_time": "2021-03-24T10:15:13.786658Z"
    }
   },
   "outputs": [
    {
     "name": "stdout",
     "output_type": "stream",
     "text": [
      "Model checking: Pmin=? [ F game_over&score<=k ]\n",
      "Property constants: k=1\n",
      "Result: 0.027777777777777776 (value in the initial state)\n",
      "Model checking: Pmin=? [ F game_over&score<=k ]\n",
      "Property constants: k=2\n",
      "Result: 0.05555555555555555 (value in the initial state)\n",
      "Model checking: Pmin=? [ F game_over&score<=k ]\n",
      "Property constants: k=3\n",
      "Result: 0.07407407407407407 (value in the initial state)\n",
      "Model checking: Pmin=? [ F game_over&score<=k ]\n",
      "Property constants: k=4\n",
      "Result: 0.09259259259259259 (value in the initial state)\n",
      "Model checking: Pmin=? [ F game_over&score<=k ]\n",
      "Property constants: k=5\n",
      "Result: 0.12962962962962965 (value in the initial state)\n",
      "Model checking: Pmin=? [ F game_over&score<=k ]\n",
      "Property constants: k=6\n",
      "Result: 0.1759259259259259 (value in the initial state)\n",
      "Model checking: Pmin=? [ F game_over&score<=k ]\n",
      "Property constants: k=7\n",
      "Result: 0.2175925925925926 (value in the initial state)\n",
      "Model checking: Pmin=? [ F game_over&score<=k ]\n",
      "Property constants: k=8\n",
      "Result: 0.26851851851851843 (value in the initial state)\n",
      "Model checking: Pmin=? [ F game_over&score<=k ]\n",
      "Property constants: k=9\n",
      "Result: 0.3101851851851852 (value in the initial state)\n",
      "Model checking: Pmin=? [ F game_over&score<=k ]\n",
      "Property constants: k=10\n",
      "Result: 0.3780864197530864 (value in the initial state)\n",
      "Model checking: Pmin=? [ F game_over&score<=k ]\n",
      "Property constants: k=11\n",
      "Result: 0.43827160493827155 (value in the initial state)\n",
      "Model checking: Pmin=? [ F game_over&score<=k ]\n",
      "Property constants: k=12\n",
      "Result: 0.5046296296296295 (value in the initial state)\n",
      "Model checking: Pmin=? [ F game_over&score<=k ]\n",
      "Property constants: k=13\n",
      "Result: 0.5648148148148147 (value in the initial state)\n",
      "Model checking: Pmin=? [ F game_over&score<=k ]\n",
      "Property constants: k=14\n",
      "Result: 0.6296296296296294 (value in the initial state)\n",
      "Model checking: Pmin=? [ F game_over&score<=k ]\n",
      "Property constants: k=15\n",
      "Result: 0.7013888888888887 (value in the initial state)\n",
      "Model checking: Pmin=? [ F game_over&score<=k ]\n",
      "Property constants: k=16\n",
      "Result: 0.7672325102880657 (value in the initial state)\n",
      "Model checking: Pmin=? [ F game_over&score<=k ]\n",
      "Property constants: k=17\n",
      "Result: 0.8184156378600821 (value in the initial state)\n",
      "Model checking: Pmin=? [ F game_over&score<=k ]\n",
      "Property constants: k=18\n",
      "Result: 0.8662551440329215 (value in the initial state)\n",
      "Model checking: Pmin=? [ F game_over&score<=k ]\n",
      "Property constants: k=19\n",
      "Result: 0.8971193415637858 (value in the initial state)\n",
      "Model checking: Pmin=? [ F game_over&score<=k ]\n",
      "Property constants: k=20\n",
      "Result: 0.9254115226337445 (value in the initial state)\n",
      "Model checking: Pmin=? [ F game_over&score<=k ]\n",
      "Property constants: k=21\n",
      "Result: 1.0 (value in the initial state)\n",
      "Exporting results to file \"ShutTheBox/data/stb6_1d6/stb6_1d6_cum_prob_min.csv\"...\n"
     ]
    }
   ],
   "source": [
    "!prism $output_model_nondet $output_props -prop 5 -const k=1:{max_score} -exportresults ShutTheBox/data/{model_spec}/{model_spec}_cum_prob_min.csv:csv | grep -E \"(Model checking)|(Result)|(Property constant)|(Exporting results)|(Error)\""
   ]
  },
  {
   "cell_type": "code",
   "execution_count": 65,
   "metadata": {
    "ExecuteTime": {
     "end_time": "2021-03-24T10:15:15.009711Z",
     "start_time": "2021-03-24T10:15:14.419605Z"
    },
    "scrolled": false
   },
   "outputs": [
    {
     "name": "stdout",
     "output_type": "stream",
     "text": [
      "Model checking: Pmax=? [ F game_over&score<=k ]\n",
      "Property constants: k=1\n",
      "Result: 0.027777777777777776 (value in the initial state)\n",
      "Model checking: Pmax=? [ F game_over&score<=k ]\n",
      "Property constants: k=2\n",
      "Result: 0.05555555555555555 (value in the initial state)\n",
      "Model checking: Pmax=? [ F game_over&score<=k ]\n",
      "Property constants: k=3\n",
      "Result: 0.12962962962962962 (value in the initial state)\n",
      "Model checking: Pmax=? [ F game_over&score<=k ]\n",
      "Property constants: k=4\n",
      "Result: 0.19444444444444445 (value in the initial state)\n",
      "Model checking: Pmax=? [ F game_over&score<=k ]\n",
      "Property constants: k=5\n",
      "Result: 0.2685185185185185 (value in the initial state)\n",
      "Model checking: Pmax=? [ F game_over&score<=k ]\n",
      "Property constants: k=6\n",
      "Result: 0.4305555555555554 (value in the initial state)\n",
      "Model checking: Pmax=? [ F game_over&score<=k ]\n",
      "Property constants: k=7\n",
      "Result: 0.4791666666666666 (value in the initial state)\n",
      "Model checking: Pmax=? [ F game_over&score<=k ]\n",
      "Property constants: k=8\n",
      "Result: 0.5439814814814814 (value in the initial state)\n",
      "Model checking: Pmax=? [ F game_over&score<=k ]\n",
      "Property constants: k=9\n",
      "Result: 0.5810185185185185 (value in the initial state)\n",
      "Model checking: Pmax=? [ F game_over&score<=k ]\n",
      "Property constants: k=10\n",
      "Result: 0.6818415637860082 (value in the initial state)\n",
      "Model checking: Pmax=? [ F game_over&score<=k ]\n",
      "Property constants: k=11\n",
      "Result: 0.7525720164609053 (value in the initial state)\n",
      "Model checking: Pmax=? [ F game_over&score<=k ]\n",
      "Property constants: k=12\n",
      "Result: 0.810699588477366 (value in the initial state)\n",
      "Model checking: Pmax=? [ F game_over&score<=k ]\n",
      "Property constants: k=13\n",
      "Result: 0.8353909465020575 (value in the initial state)\n",
      "Model checking: Pmax=? [ F game_over&score<=k ]\n",
      "Property constants: k=14\n",
      "Result: 0.8580246913580245 (value in the initial state)\n",
      "Model checking: Pmax=? [ F game_over&score<=k ]\n",
      "Property constants: k=15\n",
      "Result: 0.9037637174211247 (value in the initial state)\n",
      "Model checking: Pmax=? [ F game_over&score<=k ]\n",
      "Property constants: k=16\n",
      "Result: 0.9406507201646089 (value in the initial state)\n",
      "Model checking: Pmax=? [ F game_over&score<=k ]\n",
      "Property constants: k=17\n",
      "Result: 0.9629200960219477 (value in the initial state)\n",
      "Model checking: Pmax=? [ F game_over&score<=k ]\n",
      "Property constants: k=18\n",
      "Result: 0.9722436556927296 (value in the initial state)\n",
      "Model checking: Pmax=? [ F game_over&score<=k ]\n",
      "Property constants: k=19\n",
      "Result: 0.9762302812071328 (value in the initial state)\n",
      "Model checking: Pmax=? [ F game_over&score<=k ]\n",
      "Property constants: k=20\n",
      "Result: 0.9763374485596705 (value in the initial state)\n",
      "Model checking: Pmax=? [ F game_over&score<=k ]\n",
      "Property constants: k=21\n",
      "Result: 1.0 (value in the initial state)\n",
      "Exporting results to file \"ShutTheBox/data/stb6_1d6/stb6_1d6_cum_prob_max.csv\"...\n"
     ]
    }
   ],
   "source": [
    "cum_prob_max_file = \"ShutTheBox/data/cum_prob_max.csv\"\n",
    "\n",
    "!prism $output_model_nondet $output_props -prop 6 -const k=1:{max_score} -exportresults ShutTheBox/data/{model_spec}/{model_spec}_cum_prob_max.csv:csv | grep -E \"(Model checking)|(Result)|(Property constant)|(Exporting results)|(Error)\""
   ]
  },
  {
   "cell_type": "markdown",
   "metadata": {},
   "source": [
    "# Optimal Strategy for highest expected score"
   ]
  },
  {
   "cell_type": "code",
   "execution_count": 77,
   "metadata": {
    "ExecuteTime": {
     "end_time": "2021-03-24T11:23:31.426956Z",
     "start_time": "2021-03-24T11:23:30.975908Z"
    }
   },
   "outputs": [
    {
     "name": "stdout",
     "output_type": "stream",
     "text": [
      "Model checking: R{\"total_boards\"}max=? [ F game_over ]\n",
      "Result: 12.148662551440324 (value in the initial state)\n",
      "Exporting results to file \"ShutTheBox/data/stb6_1d6/stb6_1d6_exp_score_min.csv\"...\n"
     ]
    }
   ],
   "source": [
    "!prism $output_model_nondet $output_props -prop 8 -exportresults ShutTheBox/data/{model_spec}/{model_spec}_exp_score_min.csv:csv | grep -E \"(Model checking)|(Result)|(Property constant)|(Exporting results)|(Error)\""
   ]
  },
  {
   "cell_type": "code",
   "execution_count": 78,
   "metadata": {
    "ExecuteTime": {
     "end_time": "2021-03-24T11:23:32.885162Z",
     "start_time": "2021-03-24T11:23:31.427958Z"
    }
   },
   "outputs": [
    {
     "name": "stdout",
     "output_type": "stream",
     "text": [
      "PRISM-games\n",
      "===========\n",
      "\n",
      "Version: 3.0 (based on PRISM 4.6)\n",
      "Date: Wed Mar 24 11:23:31 GMT 2021\n",
      "Hostname: DESKTOP-LDYER\n",
      "Memory limits: cudd=1g, java(heap)=910.5m\n",
      "Command line: prism-games ShutTheBox/models/stb6_1d6/stb6_1d6_nondet.prism ShutTheBox/props/stb6_1d6.props -prop 8 -s -exportadvmdp ShutTheBox/data/stb6_1d6/stb6_1d6_exp_score_min.tra -exportstates ShutTheBox/data/stb6_1d6/stb6_1d6_exp_score_min.sta -exportlabels ShutTheBox/data/stb6_1d6/stb6_1d6_exp_score_min.lab -exportstaterewards ShutTheBox/data/stb6_1d6/state_rewards.txt -exporttransrewards ShutTheBox/data/stb6_1d6/stb6_1d6_trans_rewards.txt\n",
      "\n",
      "Parsing model file \"ShutTheBox/models/stb6_1d6/stb6_1d6_nondet.prism\"...\n",
      "\n",
      "Type:        MDP\n",
      "Modules:     player1 board1 board2 board3 board4 board5 board6 \n",
      "Variables:   state die b1 b2 b3 b4 b5 b6 \n",
      "\n",
      "Parsing properties file \"ShutTheBox/props/stb6_1d6.props\"...\n",
      "\n",
      "16 properties:\n",
      "(1) Pmax=? [ F game_over ]\n",
      "(2) Pmin=? [ F game_over&score=k ]\n",
      "(3) Pmax=? [ F game_over&score=k ]\n",
      "(4) Pmax=? [ F game_over&score=k ]-Pmin=? [ F game_over&score=k ]\n",
      "(5) Pmin=? [ F game_over&score<=k ]\n",
      "(6) Pmax=? [ F game_over&score<=k ]\n",
      "(7) R{\"total_boards\"}min=? [ F game_over ]\n",
      "(8) R{\"total_boards\"}max=? [ F game_over ]\n",
      "(9) R{\"no_rolls\"}max=? [ F game_over ]\n",
      "(10) R{\"no_rolls\"}min=? [ F game_over ]\n",
      "(11) Pmin=? [ F game_over&b1=1&score=k ]\n",
      "(12) Pmin=? [ F game_over&b2=1&score=k ]\n",
      "(13) Pmin=? [ F game_over&b3=1&score=k ]\n",
      "(14) Pmin=? [ F game_over&b4=1&score=k ]\n",
      "(15) Pmin=? [ F game_over&b5=1&score=k ]\n",
      "(16) Pmin=? [ F game_over&b6=1&score=k ]\n",
      "\n",
      "Building model...\n",
      "\n",
      "Computing reachable states...\n",
      "\n",
      "Reachability (BFS): 12 iterations in 0.00 seconds (average 0.000083, setup 0.00)\n",
      "\n",
      "Time for model construction: 0.052 seconds.\n",
      "\n",
      "Type:        MDP\n",
      "States:      916 (1 initial)\n",
      "Transitions: 2165\n",
      "Choices:     975\n",
      "\n",
      "Transition matrix: 632 nodes (3 terminal), 2165 minterms, vars: 11r/11c/17nd\n",
      "\n",
      "Exporting state rewards in plain text format to file \"ShutTheBox\\data\\stb6_1d6\\state_rewards.txt\"...\n",
      "Rewards were exported to multiple files: ShutTheBox\\data\\stb6_1d6\\state_rewards1.txt,ShutTheBox\\data\\stb6_1d6\\state_rewards2.txt\n",
      "\n",
      "Exporting transition rewards in plain text format to file \"ShutTheBox\\data\\stb6_1d6\\stb6_1d6_trans_rewards.txt\"...\n",
      "Rewards were exported to multiple files: ShutTheBox\\data\\stb6_1d6\\stb6_1d6_trans_rewards1.txt,ShutTheBox\\data\\stb6_1d6\\stb6_1d6_trans_rewards2.txt\n",
      "\n",
      "Exporting list of reachable states in plain text format to file \"ShutTheBox\\data\\stb6_1d6\\stb6_1d6_exp_score_min.sta\"...\n",
      "\n",
      "Exporting labels and satisfying states in plain text format to file \"ShutTheBox\\data\\stb6_1d6\\stb6_1d6_exp_score_min.lab\"...\n",
      "\n",
      "Warning: Disabling Prob1 since this is needed for adversary generation\n",
      "\n",
      "---------------------------------------------------------------------\n",
      "\n",
      "Model checking: R{\"total_boards\"}max=? [ F game_over ]\n",
      "\n",
      "Warning: Disabling Prob1 since this is needed for adversary generation\n",
      "\n",
      "Prob0E: 7 iterations in 0.00 seconds (average 0.000143, setup 0.00)\n",
      "\n",
      "Prob1A: 1 iterations in 0.00 seconds (average 0.000000, setup 0.00)\n",
      "\n",
      "goal = 147, inf = 0, maybe = 769\n",
      "\n",
      "Computing remaining rewards...\n",
      "Engine: Sparse\n",
      "\n",
      "Building sparse matrix (transitions)... [n=916, nc=828, nnz=2018, k=4] [30.5 KB]\n",
      "Building action information... [3.6 KB]\n",
      "Building sparse matrix (transition rewards)... [n=916, nc=828, nnz=0, k=4] [6.8 KB]\n",
      "Creating vector for state rewards... [7.2 KB]\n",
      "Creating vector for inf... [7.2 KB]\n",
      "Allocating iteration vectors... [2 x 7.2 KB]\n",
      "Allocating adversary vector... [3.6 KB]\n",
      "TOTAL: [73.1 KB]\n",
      "\n",
      "Starting iterations...\n",
      "\n",
      "Iterative method: 16 iterations in 0.00 seconds (average 0.000188, setup 0.00)\n",
      "\n",
      "Adversary written to file \"ShutTheBox/data/stb6_1d6/stb6_1d6_exp_score_min.tra\".\n",
      "\n",
      "Value in the initial state: 12.148662551440324\n",
      "\n",
      "Time for model checking: 0.007 seconds.\n",
      "\n",
      "Result: 12.148662551440324 (value in the initial state)\n",
      "\n",
      "---------------------------------------------------------------------\n",
      "\n",
      "Note: There were 2 warnings during computation.\n",
      "\n"
     ]
    }
   ],
   "source": [
    "!prism $output_model_nondet $output_props -prop 8  -s -exportadvmdp ShutTheBox/data/{model_spec}/{model_spec}_exp_score_min.tra -exportstates ShutTheBox/data/{model_spec}/{model_spec}_exp_score_min.sta -exportlabels ShutTheBox/data/{model_spec}/{model_spec}_exp_score_min.lab -exportstaterewards ShutTheBox/data/{model_spec}/state_rewards.txt -exporttransrewards ShutTheBox/data/{model_spec}/{model_spec}_trans_rewards.txt"
   ]
  },
  {
   "cell_type": "code",
   "execution_count": 79,
   "metadata": {
    "ExecuteTime": {
     "end_time": "2021-03-24T11:23:41.952204Z",
     "start_time": "2021-03-24T11:23:40.559373Z"
    }
   },
   "outputs": [
    {
     "name": "stdout",
     "output_type": "stream",
     "text": [
      "PRISM-games\n",
      "===========\n",
      "\n",
      "Version: 3.0 (based on PRISM 4.6)\n",
      "Date: Wed Mar 24 11:23:40 GMT 2021\n",
      "Hostname: DESKTOP-LDYER\n",
      "Memory limits: cudd=1g, java(heap)=910.5m\n",
      "Command line: prism-games -mdp -importtrans ShutTheBox/data/stb6_1d6/stb6_1d6_exp_score_min.tra -importstates ShutTheBox/data/stb6_1d6/stb6_1d6_exp_score_min.sta -importlabels ShutTheBox/data/stb6_1d6/stb6_1d6_exp_score_min.lab -exporttrans test.tra -exportstates test.sta -exporttransdotstates test.dot -fixdl\n",
      "\n",
      "Importing model from \"ShutTheBox/data/stb6_1d6/stb6_1d6_exp_score_min.tra\", \"ShutTheBox/data/stb6_1d6/stb6_1d6_exp_score_min.sta\", \"ShutTheBox/data/stb6_1d6/stb6_1d6_exp_score_min.lab\"...\n",
      "Using specified model type: MDP\n",
      "\n",
      "Building model...\n",
      "\n",
      "Computing reachable states...\n",
      "\n",
      "Reachability (BFS): 12 iterations in 0.00 seconds (average 0.000083, setup 0.00)\n",
      "\n",
      "Time for model construction: 0.099 seconds.\n",
      "\n",
      "Warning: Deadlocks detected and fixed in 147 states\n",
      "\n",
      "Type:        MDP\n",
      "States:      871 (1 initial)\n",
      "Transitions: 1836\n",
      "Choices:     871\n",
      "\n",
      "Transition matrix: 356 nodes (3 terminal), 1836 minterms, vars: 11r/11c/1nd\n",
      "\n",
      "Exporting transition matrix in plain text format to file \"test.tra\"...\n",
      "\n",
      "Exporting list of reachable states in plain text format to file \"test.sta\"...\n",
      "\n",
      "Exporting transition matrix in Dot format (with states) to file \"test.dot\"...\n",
      "\n",
      "---------------------------------------------------------------------\n",
      "\n",
      "Note: There was 1 warning during computation.\n",
      "\n"
     ]
    }
   ],
   "source": [
    "!prism -mdp -importtrans ShutTheBox/data/{model_spec}/{model_spec}_exp_score_min.tra -importstates ShutTheBox/data/{model_spec}/{model_spec}_exp_score_min.sta -importlabels ShutTheBox/data/{model_spec}/{model_spec}_exp_score_min.lab -exporttrans test.tra -exportstates test.sta -exporttransdotstates test.dot -fixdl"
   ]
  },
  {
   "cell_type": "markdown",
   "metadata": {},
   "source": [
    "## Try for highboard"
   ]
  },
  {
   "cell_type": "code",
   "execution_count": 80,
   "metadata": {
    "ExecuteTime": {
     "end_time": "2021-03-24T11:25:08.393080Z",
     "start_time": "2021-03-24T11:25:06.940113Z"
    }
   },
   "outputs": [
    {
     "name": "stdout",
     "output_type": "stream",
     "text": [
      "PRISM-games\n",
      "===========\n",
      "\n",
      "Version: 3.0 (based on PRISM 4.6)\n",
      "Date: Wed Mar 24 11:25:07 GMT 2021\n",
      "Hostname: DESKTOP-LDYER\n",
      "Memory limits: cudd=1g, java(heap)=910.5m\n",
      "Command line: prism-games ShutTheBox/models/stb6_1d6/stb6_1d6_high.prism ShutTheBox/props/stb6_1d6.props -prop 7 -s -exportadvmdp ShutTheBox/data/stb6_1d6/stb6_1d6_exp_score_highboard.tra -exportstates ShutTheBox/data/stb6_1d6/stb6_1d6_exp_score_highboard.sta -exportlabels ShutTheBox/data/stb6_1d6/stb6_1d6_exp_score_highboard.lab -exportstaterewards ShutTheBox/data/stb6_1d6/state_rewards_high.txt -exporttransrewards ShutTheBox/data/stb6_1d6/stb6_1d6_trans_rewards_high.txt\n",
      "\n",
      "Parsing model file \"ShutTheBox/models/stb6_1d6/stb6_1d6_high.prism\"...\n",
      "\n",
      "Type:        MDP\n",
      "Modules:     player1 board1 board2 board3 board4 board5 board6 \n",
      "Variables:   state die b1 b2 b3 b4 b5 b6 \n",
      "\n",
      "Parsing properties file \"ShutTheBox/props/stb6_1d6.props\"...\n",
      "\n",
      "16 properties:\n",
      "(1) Pmax=? [ F game_over ]\n",
      "(2) Pmin=? [ F game_over&score=k ]\n",
      "(3) Pmax=? [ F game_over&score=k ]\n",
      "(4) Pmax=? [ F game_over&score=k ]-Pmin=? [ F game_over&score=k ]\n",
      "(5) Pmin=? [ F game_over&score<=k ]\n",
      "(6) Pmax=? [ F game_over&score<=k ]\n",
      "(7) R{\"total_boards\"}min=? [ F game_over ]\n",
      "(8) R{\"total_boards\"}max=? [ F game_over ]\n",
      "(9) R{\"no_rolls\"}max=? [ F game_over ]\n",
      "(10) R{\"no_rolls\"}min=? [ F game_over ]\n",
      "(11) Pmin=? [ F game_over&b1=1&score=k ]\n",
      "(12) Pmin=? [ F game_over&b2=1&score=k ]\n",
      "(13) Pmin=? [ F game_over&b3=1&score=k ]\n",
      "(14) Pmin=? [ F game_over&b4=1&score=k ]\n",
      "(15) Pmin=? [ F game_over&b5=1&score=k ]\n",
      "(16) Pmin=? [ F game_over&b6=1&score=k ]\n",
      "\n",
      "Building model...\n",
      "\n",
      "Computing reachable states...\n",
      "\n",
      "Reachability (BFS): 12 iterations in 0.00 seconds (average 0.000083, setup 0.00)\n",
      "\n",
      "Time for model construction: 0.061 seconds.\n",
      "\n",
      "Type:        MDP\n",
      "States:      871 (1 initial)\n",
      "Transitions: 1840\n",
      "Choices:     875\n",
      "\n",
      "Transition matrix: 638 nodes (3 terminal), 1840 minterms, vars: 11r/11c/17nd\n",
      "\n",
      "Exporting state rewards in plain text format to file \"ShutTheBox\\data\\stb6_1d6\\state_rewards_high.txt\"...\n",
      "Rewards were exported to multiple files: ShutTheBox\\data\\stb6_1d6\\state_rewards_high1.txt,ShutTheBox\\data\\stb6_1d6\\state_rewards_high2.txt\n",
      "\n",
      "Exporting transition rewards in plain text format to file \"ShutTheBox\\data\\stb6_1d6\\stb6_1d6_trans_rewards_high.txt\"...\n",
      "Rewards were exported to multiple files: ShutTheBox\\data\\stb6_1d6\\stb6_1d6_trans_rewards_high1.txt,ShutTheBox\\data\\stb6_1d6\\stb6_1d6_trans_rewards_high2.txt\n",
      "\n",
      "Exporting list of reachable states in plain text format to file \"ShutTheBox\\data\\stb6_1d6\\stb6_1d6_exp_score_highboard.sta\"...\n",
      "\n",
      "Exporting labels and satisfying states in plain text format to file \"ShutTheBox\\data\\stb6_1d6\\stb6_1d6_exp_score_highboard.lab\"...\n",
      "\n",
      "Warning: Disabling Prob1 since this is needed for adversary generation\n",
      "\n",
      "---------------------------------------------------------------------\n",
      "\n",
      "Model checking: R{\"total_boards\"}min=? [ F game_over ]\n",
      "\n",
      "Warning: Disabling Prob1 since this is needed for adversary generation\n",
      "\n",
      "Prob0A: 7 iterations in 0.00 seconds (average 0.000143, setup 0.00)\n",
      "\n",
      "Prob1E: 8 iterations in 0.00 seconds (average 0.000125, setup 0.00)\n",
      "\n",
      "Warning: PRISM hasn't checked for zero-reward loops.\n",
      "Your minimum rewards may be too low...\n",
      "\n",
      "goal = 147, inf = 0, maybe = 724\n",
      "\n",
      "Computing remaining rewards...\n",
      "Engine: Sparse\n",
      "\n",
      "Building sparse matrix (transitions)... [n=871, nc=728, nnz=1693, k=2] [26.1 KB]\n",
      "Building action information... [3.4 KB]\n",
      "Building sparse matrix (transition rewards)... [n=871, nc=728, nnz=0, k=2] [6.2 KB]\n",
      "Creating vector for state rewards... [6.8 KB]\n",
      "Creating vector for inf... [6.8 KB]\n",
      "Allocating iteration vectors... [2 x 6.8 KB]\n",
      "Allocating adversary vector... [3.4 KB]\n",
      "TOTAL: [66.4 KB]\n",
      "\n",
      "Starting iterations...\n",
      "\n",
      "Iterative method: 16 iterations in 0.00 seconds (average 0.000125, setup 0.00)\n",
      "\n",
      "Adversary written to file \"ShutTheBox/data/stb6_1d6/stb6_1d6_exp_score_highboard.tra\".\n",
      "\n",
      "Value in the initial state: 12.144032921810695\n",
      "\n",
      "Time for model checking: 0.007 seconds.\n",
      "\n",
      "Result: 12.144032921810695 (value in the initial state)\n",
      "\n",
      "---------------------------------------------------------------------\n",
      "\n",
      "Note: There were 3 warnings during computation.\n",
      "\n"
     ]
    }
   ],
   "source": [
    "!prism $output_model_high $output_props -prop 7  -s -exportadvmdp ShutTheBox/data/{model_spec}/{model_spec}_exp_score_highboard.tra -exportstates ShutTheBox/data/{model_spec}/{model_spec}_exp_score_highboard.sta -exportlabels ShutTheBox/data/{model_spec}/{model_spec}_exp_score_highboard.lab -exportstaterewards ShutTheBox/data/{model_spec}/state_rewards_high.txt -exporttransrewards ShutTheBox/data/{model_spec}/{model_spec}_trans_rewards_high.txt"
   ]
  },
  {
   "cell_type": "code",
   "execution_count": 73,
   "metadata": {
    "ExecuteTime": {
     "end_time": "2021-03-24T10:32:53.858100Z",
     "start_time": "2021-03-24T10:32:52.469922Z"
    }
   },
   "outputs": [
    {
     "name": "stdout",
     "output_type": "stream",
     "text": [
      "PRISM-games\n",
      "===========\n",
      "\n",
      "Version: 3.0 (based on PRISM 4.6)\n",
      "Date: Wed Mar 24 10:32:52 GMT 2021\n",
      "Hostname: DESKTOP-LDYER\n",
      "Memory limits: cudd=1g, java(heap)=910.5m\n",
      "Command line: prism-games -mdp -importtrans ShutTheBox/data/stb6_1d6/stb6_1d6_exp_score_highboard.tra -importstates ShutTheBox/data/stb6_1d6/stb6_1d6_exp_score_highboard.sta -importlabels ShutTheBox/data/stb6_1d6/stb6_1d6_exp_score_highboard.lab -exporttrans test_highboard.tra -exportstates test_highboard.sta -exporttransdotstates test_highboard.dot -fixdl\n",
      "\n",
      "Importing model from \"ShutTheBox/data/stb6_1d6/stb6_1d6_exp_score_highboard.tra\", \"ShutTheBox/data/stb6_1d6/stb6_1d6_exp_score_highboard.sta\", \"ShutTheBox/data/stb6_1d6/stb6_1d6_exp_score_highboard.lab\"...\n",
      "Using specified model type: MDP\n",
      "\n",
      "Building model...\n",
      "\n",
      "Computing reachable states...\n",
      "\n",
      "Reachability (BFS): 12 iterations in 0.00 seconds (average 0.000083, setup 0.00)\n",
      "\n",
      "Time for model construction: 0.099 seconds.\n",
      "\n",
      "Warning: Deadlocks detected and fixed in 147 states\n",
      "\n",
      "Type:        MDP\n",
      "States:      871 (1 initial)\n",
      "Transitions: 1836\n",
      "Choices:     871\n",
      "\n",
      "Transition matrix: 352 nodes (3 terminal), 1836 minterms, vars: 11r/11c/1nd\n",
      "\n",
      "Exporting transition matrix in plain text format to file \"test_highboard.tra\"...\n",
      "\n",
      "Exporting list of reachable states in plain text format to file \"test_highboard.sta\"...\n",
      "\n",
      "Exporting transition matrix in Dot format (with states) to file \"test_highboard.dot\"...\n",
      "\n",
      "---------------------------------------------------------------------\n",
      "\n",
      "Note: There was 1 warning during computation.\n",
      "\n"
     ]
    }
   ],
   "source": [
    "!prism -mdp -importtrans ShutTheBox/data/{model_spec}/{model_spec}_exp_score_highboard.tra -importstates ShutTheBox/data/{model_spec}/{model_spec}_exp_score_highboard.sta -importlabels ShutTheBox/data/{model_spec}/{model_spec}_exp_score_highboard.lab -exporttrans test_highboard.tra -exportstates test_highboard.sta -exporttransdotstates test_highboard.dot -fixdl"
   ]
  },
  {
   "cell_type": "code",
   "execution_count": 69,
   "metadata": {
    "ExecuteTime": {
     "end_time": "2021-03-24T10:15:19.848436Z",
     "start_time": "2021-03-24T10:15:18.374119Z"
    }
   },
   "outputs": [
    {
     "name": "stdout",
     "output_type": "stream",
     "text": [
      "Model checking: R{\"total_boards\"}max=? [ F game_over ]\n",
      "Result: 12.148662551440324 (value in the initial state)\n",
      "Exporting results to file \"ShutTheBox/data/stb6_1d6/stb6_1d6_exp_score_max.csv\"...\n"
     ]
    }
   ],
   "source": [
    "!prism $output_model_nondet $output_props -prop 8 -exportresults ShutTheBox/data/{model_spec}/{model_spec}_exp_score_max.csv:csv -s | grep -E \"(Model checking)|(Result)|(Property constant)|(Exporting results)|(Error)\""
   ]
  },
  {
   "cell_type": "code",
   "execution_count": 70,
   "metadata": {
    "ExecuteTime": {
     "end_time": "2021-03-24T10:15:20.332014Z",
     "start_time": "2021-03-24T10:15:19.849437Z"
    }
   },
   "outputs": [
    {
     "name": "stdout",
     "output_type": "stream",
     "text": [
      "Model checking: R{\"total_boards\"}max=? [ F game_over ]\n",
      "Result: 8.753150720164609 (value in the initial state)\n",
      "Exporting results to file \"ShutTheBox/data/stb6_1d6/stb6_1d6_exp_score_low.csv\"...\n"
     ]
    }
   ],
   "source": [
    "!prism $output_model_low $output_props -prop 8 -exportresults ShutTheBox/data/{model_spec}/{model_spec}_exp_score_low.csv:csv | grep -E \"(Model checking)|(Result)|(Property constant)|(Exporting results)|(Error)\""
   ]
  },
  {
   "cell_type": "code",
   "execution_count": 71,
   "metadata": {
    "ExecuteTime": {
     "end_time": "2021-03-24T10:15:20.813021Z",
     "start_time": "2021-03-24T10:15:20.333016Z"
    }
   },
   "outputs": [
    {
     "name": "stdout",
     "output_type": "stream",
     "text": [
      "Model checking: R{\"total_boards\"}max=? [ F game_over ]\n",
      "Result: 12.148662551440324 (value in the initial state)\n",
      "Exporting results to file \"ShutTheBox/data/stb6_1d6/stb6_1d6_exp_score_high.csv\"...\n"
     ]
    }
   ],
   "source": [
    "!prism $output_model_high $output_props -prop 8 -exportresults ShutTheBox/data/{model_spec}/{model_spec}_exp_score_high.csv:csv | grep -E \"(Model checking)|(Result)|(Property constant)|(Exporting results)|(Error)\""
   ]
  },
  {
   "cell_type": "code",
   "execution_count": null,
   "metadata": {},
   "outputs": [],
   "source": []
  }
 ],
 "metadata": {
  "hide_input": false,
  "kernelspec": {
   "display_name": "Python 3",
   "language": "python",
   "name": "python3"
  },
  "language_info": {
   "codemirror_mode": {
    "name": "ipython",
    "version": 3
   },
   "file_extension": ".py",
   "mimetype": "text/x-python",
   "name": "python",
   "nbconvert_exporter": "python",
   "pygments_lexer": "ipython3",
   "version": "3.7.3"
  },
  "toc": {
   "base_numbering": 1,
   "nav_menu": {},
   "number_sections": true,
   "sideBar": true,
   "skip_h1_title": false,
   "title_cell": "Table of Contents",
   "title_sidebar": "Contents",
   "toc_cell": false,
   "toc_position": {},
   "toc_section_display": true,
   "toc_window_display": false
  }
 },
 "nbformat": 4,
 "nbformat_minor": 2
}
