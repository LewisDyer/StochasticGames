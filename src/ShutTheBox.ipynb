{
 "cells": [
  {
   "cell_type": "markdown",
   "metadata": {},
   "source": [
    "# Shut the Box"
   ]
  },
  {
   "cell_type": "markdown",
   "metadata": {},
   "source": [
    "## Step 0: Utils for Jupyter Notebooks"
   ]
  },
  {
   "cell_type": "markdown",
   "metadata": {},
   "source": [
    "### Add button to Show/Hide code (to focus on outputs)"
   ]
  },
  {
   "cell_type": "code",
   "execution_count": 1,
   "metadata": {},
   "outputs": [
    {
     "output_type": "execute_result",
     "data": {
      "text/plain": [
       "<IPython.core.display.HTML object>"
      ],
      "text/html": "<script>\ncode_show=true; \nfunction code_toggle() {\n if (code_show){\n $('div.input').hide();\n } else {\n $('div.input').show();\n }\n code_show = !code_show\n} \n$( document ).ready(code_toggle);\n</script>\n<form action=\"javascript:code_toggle()\"><input type=\"submit\" value=\"Show Code\"></form>"
     },
     "metadata": {},
     "execution_count": 1
    }
   ],
   "source": [
    "from IPython.display import HTML\n",
    "\n",
    "HTML('''<script>\n",
    "code_show=true; \n",
    "function code_toggle() {\n",
    " if (code_show){\n",
    " $('div.input').hide();\n",
    " } else {\n",
    " $('div.input').show();\n",
    " }\n",
    " code_show = !code_show\n",
    "} \n",
    "$( document ).ready(code_toggle);\n",
    "</script>\n",
    "<form action=\"javascript:code_toggle()\"><input type=\"submit\" value=\"Show Code\"></form>''')"
   ]
  },
  {
   "cell_type": "markdown",
   "metadata": {},
   "source": [
    "### Add magic command to store python variables in csv file"
   ]
  },
  {
   "cell_type": "code",
   "execution_count": 2,
   "metadata": {},
   "outputs": [],
   "source": [
    "# credit to sirex, https://github.com/ipython/ipython/issues/6701\n",
    "from IPython.core.magic import register_line_cell_magic\n",
    "\n",
    "@register_line_cell_magic\n",
    "def writetemplate(line, cell):\n",
    "    with open(line, 'w') as f:\n",
    "        f.write(cell.format(**globals()))"
   ]
  },
  {
   "cell_type": "markdown",
   "metadata": {},
   "source": [
    "## Step 1: Generate models"
   ]
  },
  {
   "cell_type": "code",
   "execution_count": 3,
   "metadata": {},
   "outputs": [],
   "source": [
    "# Edit this cell to define parameters for your model...\n",
    "\n",
    "boards = 6 # Number of boards to use\n",
    "sides = 6 # Number of sides per die\n",
    "die = 1 # Number of die to roll each round\n",
    "strategy = 1 # Board covering strategy to use (see strategy_lookup in stb/pp_fns.py for more info)\n",
    "\n",
    "max_score = boards * (boards+1) // 2"
   ]
  },
  {
   "cell_type": "code",
   "execution_count": 4,
   "metadata": {},
   "outputs": [],
   "source": [
    "%%writetemplate ShutTheBox/stb_params.csv\n",
    "b, {boards}\n",
    "d, {sides}\n",
    "ndie, {die}\n",
    "strategy, {strategy}"
   ]
  },
  {
   "cell_type": "code",
   "execution_count": 28,
   "metadata": {},
   "outputs": [],
   "source": [
    "%%writetemplate ShutTheBox/stb_nondet_params.csv\n",
    "b, {boards}\n",
    "d, {sides}\n",
    "ndie, {die}\n",
    "strategy, 0"
   ]
  },
  {
   "cell_type": "code",
   "execution_count": null,
   "metadata": {},
   "outputs": [],
   "source": []
  },
  {
   "cell_type": "code",
   "execution_count": 57,
   "metadata": {},
   "outputs": [
    {
     "output_type": "stream",
     "name": "stdout",
     "text": [
      "Model generated successfully at ShutTheBox\\stb6test.prism\n"
     ]
    }
   ],
   "source": [
    "!python utils/pyprism.py ShutTheBox/stb.pyprism ShutTheBox/stb6test.prism ShutTheBox/stb_params.csv"
   ]
  },
  {
   "cell_type": "code",
   "execution_count": 58,
   "metadata": {},
   "outputs": [
    {
     "output_type": "stream",
     "name": "stdout",
     "text": [
      "[(1,)]\n[(2,)]\n[(3,), (2, 1)]\n[(4,), (3, 1)]\n[(5,), (4, 1), (3, 2)]\n[(6,), (5, 1), (4, 2), (3, 2, 1)]\nModel generated successfully at ShutTheBox\\stb6test_nondet.prism\n"
     ]
    }
   ],
   "source": [
    "!python utils/pyprism.py ShutTheBox/stb.pyprism ShutTheBox/stb6test_nondet.prism ShutTheBox/stb_nondet_params.csv"
   ]
  },
  {
   "cell_type": "code",
   "execution_count": 59,
   "metadata": {},
   "outputs": [
    {
     "output_type": "stream",
     "name": "stdout",
     "text": [
      "Model generated successfully at ShutTheBox\\stb6test.props\n"
     ]
    }
   ],
   "source": [
    "# Generate properties file too\n",
    "!python utils/pyprism.py ShutTheBox/stbprops.pyprism ShutTheBox/stb6test.props ShutTheBox/stb_params.csv"
   ]
  },
  {
   "cell_type": "markdown",
   "metadata": {},
   "source": [
    "## Step 2: Check properties, run experiments, export data"
   ]
  },
  {
   "cell_type": "markdown",
   "metadata": {},
   "source": [
    "### Does the game eventually always terminate?"
   ]
  },
  {
   "cell_type": "code",
   "execution_count": 60,
   "metadata": {},
   "outputs": [
    {
     "output_type": "stream",
     "name": "stdout",
     "text": [
      "Model checking: <<p1>>Pmax=? [ F game_over ]\nResult: 0.9999999999999998 (value in the initial state)\n"
     ]
    }
   ],
   "source": [
    "!prism ShutTheBox/stb6test.prism ShutTheBox/stb6test.props -prop 1 | grep -E \"(Model checking)|(Result)\""
   ]
  },
  {
   "cell_type": "markdown",
   "metadata": {},
   "source": [
    "### Probability of obtaining each score "
   ]
  },
  {
   "cell_type": "code",
   "execution_count": 61,
   "metadata": {},
   "outputs": [
    {
     "output_type": "stream",
     "name": "stdout",
     "text": [
      "Model checking: <<p1>>Pmin=? [ F game_over&score=k ]\nProperty constants: k=1\nResult: 0.027777777777777776 (value in the initial state)\nModel checking: <<p1>>Pmin=? [ F game_over&score=k ]\nProperty constants: k=2\nResult: 0.027777777777777776 (value in the initial state)\nModel checking: <<p1>>Pmin=? [ F game_over&score=k ]\nProperty constants: k=3\nResult: 0.018518518518518517 (value in the initial state)\nModel checking: <<p1>>Pmin=? [ F game_over&score=k ]\nProperty constants: k=4\nResult: 0.018518518518518517 (value in the initial state)\nModel checking: <<p1>>Pmin=? [ F game_over&score=k ]\nProperty constants: k=5\nResult: 0.037037037037037035 (value in the initial state)\nModel checking: <<p1>>Pmin=? [ F game_over&score=k ]\nProperty constants: k=6\nResult: 0.046296296296296294 (value in the initial state)\nModel checking: <<p1>>Pmin=? [ F game_over&score=k ]\nProperty constants: k=7\nResult: 0.041666666666666664 (value in the initial state)\nModel checking: <<p1>>Pmin=? [ F game_over&score=k ]\nProperty constants: k=8\nResult: 0.05092592592592592 (value in the initial state)\nModel checking: <<p1>>Pmin=? [ F game_over&score=k ]\nProperty constants: k=9\nResult: 0.041666666666666664 (value in the initial state)\nModel checking: <<p1>>Pmin=? [ F game_over&score=k ]\nProperty constants: k=10\nResult: 0.06790123456790123 (value in the initial state)\nModel checking: <<p1>>Pmin=? [ F game_over&score=k ]\nProperty constants: k=11\nResult: 0.06018518518518518 (value in the initial state)\nModel checking: <<p1>>Pmin=? [ F game_over&score=k ]\nProperty constants: k=12\nResult: 0.0632716049382716 (value in the initial state)\nModel checking: <<p1>>Pmin=? [ F game_over&score=k ]\nProperty constants: k=13\nResult: 0.06018518518518518 (value in the initial state)\nModel checking: <<p1>>Pmin=? [ F game_over&score=k ]\nProperty constants: k=14\nResult: 0.05864197530864197 (value in the initial state)\nModel checking: <<p1>>Pmin=? [ F game_over&score=k ]\nProperty constants: k=15\nResult: 0.07175925925925924 (value in the initial state)\nModel checking: <<p1>>Pmin=? [ F game_over&score=k ]\nProperty constants: k=16\nResult: 0.06584362139917693 (value in the initial state)\nModel checking: <<p1>>Pmin=? [ F game_over&score=k ]\nProperty constants: k=17\nResult: 0.04706790123456789 (value in the initial state)\nModel checking: <<p1>>Pmin=? [ F game_over&score=k ]\nProperty constants: k=18\nResult: 0.04526748971193414 (value in the initial state)\nModel checking: <<p1>>Pmin=? [ F game_over&score=k ]\nProperty constants: k=19\nResult: 0.030864197530864185 (value in the initial state)\nModel checking: <<p1>>Pmin=? [ F game_over&score=k ]\nProperty constants: k=20\nResult: 0.02314814814814814 (value in the initial state)\nModel checking: <<p1>>Pmin=? [ F game_over&score=k ]\nProperty constants: k=21\nResult: 0.0745884773662551 (value in the initial state)\n"
     ]
    }
   ],
   "source": [
    "prob_score_file = \"ShutTheBox/data/prob_score.csv\"\n",
    "\n",
    "!prism ShutTheBox/stb6test.prism ShutTheBox/stb6.props -prop 2 -const k=1:{max_score} -exportresults {prob_score_file}:csv | grep -E \"(Model checking)|(Result)|(Property constants)\""
   ]
  },
  {
   "cell_type": "code",
   "execution_count": 62,
   "metadata": {},
   "outputs": [
    {
     "output_type": "stream",
     "name": "stdout",
     "text": [
      "PRISM-games\n===========\n\nVersion: 3.0 (based on PRISM 4.6)\nDate: Thu Nov 19 21:44:09 GMT 2020\nHostname: DESKTOP-LDYER\nMemory limits: cudd=1g, java(heap)=910.5m\nCommand line: prism-games ShutTheBox/stb6test_nondet.prism ShutTheBox/stb6test.props -prop 2 -const 'k=1:21' -exportresults 'ShutTheBox/data/prob_score_nondet_min.csv:csv'\n\nParsing model file \"ShutTheBox/stb6test_nondet.prism\"...\n\nType:        CSG\nModules:     player1 board1 board2 board3 board4 board5 board6 \nVariables:   state die b1 b2 b3 b4 b5 b6 \n\nSwitching to explicit engine, which supports CSGs...\n\nParsing properties file \"ShutTheBox/stb6test.props\"...\n\n22 properties:\n(1) <<p1>>Pmax=? [ F game_over ]\n(2) <<p1>>Pmin=? [ F game_over&score=k ]\n(3) <<p1>>Pmax=? [ F game_over&score=k ]\n(4) <<p1>>Pmax=? [ F game_over&score=k ]-<<p1>>Pmin=? [ F game_over&score=k ]\n(5) <<p1>>Pmin=? [ F game_over&score<=k ]\n(6) <<p1>>Pmax=? [ F game_over&score<=k ]\n(7) <<p1>>R{\"total_boards\"}min=? [ F game_over ]\n(8) <<p1>>R{\"total_boards\"}max=? [ F game_over ]\n(9) <<p1>>R{\"no_rolls\"}max=? [ F game_over ]\n(10) <<p1>>R{\"no_rolls\"}min=? [ F game_over ]\n(11) <<p1>>Pmin=? [ F game_over&b1=1&score=k ]/<<p1>>Pmin=? [ F game_over&score=k ]\n(12) <<p1>>Pmin=? [ F game_over&b2=1&score=k ]/<<p1>>Pmin=? [ F game_over&score=k ]\n(13) <<p1>>Pmin=? [ F game_over&b3=1&score=k ]/<<p1>>Pmin=? [ F game_over&score=k ]\n(14) <<p1>>Pmin=? [ F game_over&b4=1&score=k ]/<<p1>>Pmin=? [ F game_over&score=k ]\n(15) <<p1>>Pmin=? [ F game_over&b5=1&score=k ]/<<p1>>Pmin=? [ F game_over&score=k ]\n(16) <<p1>>Pmin=? [ F game_over&b6=1&score=k ]/<<p1>>Pmin=? [ F game_over&score=k ]\n(17) <<p1>>Pmin=? [ F game_over&b1=1&score=k ]/<<p1>>Pmin=? [ F game_over&b1=1 ]\n(18) <<p1>>Pmin=? [ F game_over&b2=1&score=k ]/<<p1>>Pmin=? [ F game_over&b2=1 ]\n(19) <<p1>>Pmin=? [ F game_over&b3=1&score=k ]/<<p1>>Pmin=? [ F game_over&b3=1 ]\n(20) <<p1>>Pmin=? [ F game_over&b4=1&score=k ]/<<p1>>Pmin=? [ F game_over&b4=1 ]\n(21) <<p1>>Pmin=? [ F game_over&b5=1&score=k ]/<<p1>>Pmin=? [ F game_over&b5=1 ]\n(22) <<p1>>Pmin=? [ F game_over&b6=1&score=k ]/<<p1>>Pmin=? [ F game_over&b6=1 ]\n\n---------------------------------------------------------------------\n\nModel checking: <<p1>>Pmin=? [ F game_over&score=k ]\nProperty constants: k=1\n\nBuilding model...\n\nComputing reachable states... 916 states\nReachable states exploration and model construction done in 0.096 secs.\nSorting reachable states list...\n\nTime for model construction: 0.111 seconds.\n\nType:        CSG\nStates:      916 (1 initial)\nTransitions: 2165\nChoices:     975\nMax/avg:     4/1.06\n\nStarting probabilistic reachability (until)...\nMax/avg (actions): (4,1)/(1.06,1.00)\nMax/avg (actions): (1,4)/(1.00,1.06)\ntarget=1, yes=1, no=910, maybe=5\n\nStarting value iteration...\n\nValue iteration converged after 6 iterations.\nPrecomputation took 0.03 seconds.\n\nValue in the initial state: 0.027777777777777776\n\nTime for model checking: 0.046 seconds.\n\nResult: 0.027777777777777776 (value in the initial state)\n\n---------------------------------------------------------------------\n\nModel checking: <<p1>>Pmin=? [ F game_over&score=k ]\nProperty constants: k=2\n\nStarting probabilistic reachability (until)...\nMax/avg (actions): (4,1)/(1.06,1.00)\nMax/avg (actions): (1,4)/(1.00,1.06)\ntarget=1, yes=1, no=910, maybe=5\n\nStarting value iteration...\n\nValue iteration converged after 6 iterations.\nPrecomputation took 0.02 seconds.\n\nValue in the initial state: 0.027777777777777776\n\nTime for model checking: 0.026 seconds.\n\nResult: 0.027777777777777776 (value in the initial state)\n\n---------------------------------------------------------------------\n\nModel checking: <<p1>>Pmin=? [ F game_over&score=k ]\nProperty constants: k=3\n\nStarting probabilistic reachability (until)...\nMax/avg (actions): (4,1)/(1.06,1.00)\nMax/avg (actions): (1,4)/(1.00,1.06)\ntarget=2, yes=2, no=900, maybe=14\n\nStarting value iteration...\n\nValue iteration converged after 8 iterations.\nPrecomputation took 0.033 seconds.\n\nValue in the initial state: 0.018518518518518517\n\nTime for model checking: 0.044 seconds.\n\nResult: 0.018518518518518517 (value in the initial state)\n\n---------------------------------------------------------------------\n\nModel checking: <<p1>>Pmin=? [ F game_over&score=k ]\nProperty constants: k=4\n\nStarting probabilistic reachability (until)...\nMax/avg (actions): (4,1)/(1.06,1.00)\nMax/avg (actions): (1,4)/(1.00,1.06)\ntarget=2, yes=2, no=901, maybe=13\n\nStarting value iteration...\n\nValue iteration converged after 8 iterations.\nPrecomputation took 0.019 seconds.\n\nValue in the initial state: 0.009259259259259259\n\nTime for model checking: 0.029 seconds.\n\nResult: 0.009259259259259259 (value in the initial state)\n\n---------------------------------------------------------------------\n\nModel checking: <<p1>>Pmin=? [ F game_over&score=k ]\nProperty constants: k=5\n\nStarting probabilistic reachability (until)...\nMax/avg (actions): (4,1)/(1.06,1.00)\nMax/avg (actions): (1,4)/(1.00,1.06)\ntarget=4, yes=4, no=887, maybe=25\n\nStarting value iteration...\n\nValue iteration converged after 8 iterations.\nPrecomputation took 0.021 seconds.\n\nValue in the initial state: 0.018518518518518517\n\nTime for model checking: 0.028 seconds.\n\nResult: 0.018518518518518517 (value in the initial state)\n\n---------------------------------------------------------------------\n\nModel checking: <<p1>>Pmin=? [ F game_over&score=k ]\nProperty constants: k=6\n\nStarting probabilistic reachability (until)...\nMax/avg (actions): (4,1)/(1.06,1.00)\nMax/avg (actions): (1,4)/(1.00,1.06)\ntarget=5, yes=5, no=856, maybe=55\n\nStarting value iteration...\n\nValue iteration converged after 10 iterations.\nPrecomputation took 0.009 seconds.\n\nValue in the initial state: 0.037037037037037035\n\nTime for model checking: 0.018 seconds.\n\nResult: 0.037037037037037035 (value in the initial state)\n\n---------------------------------------------------------------------\n\nModel checking: <<p1>>Pmin=? [ F game_over&score=k ]\nProperty constants: k=7\n\nStarting probabilistic reachability (until)...\nMax/avg (actions): (4,1)/(1.06,1.00)\nMax/avg (actions): (1,4)/(1.00,1.06)\ntarget=6, yes=6, no=853, maybe=57\n\nStarting value iteration...\n\nValue iteration converged after 10 iterations.\nPrecomputation took 0.009 seconds.\n\nValue in the initial state: 0.020833333333333332\n\nTime for model checking: 0.016 seconds.\n\nResult: 0.020833333333333332 (value in the initial state)\n\n---------------------------------------------------------------------\n\nModel checking: <<p1>>Pmin=? [ F game_over&score=k ]\nProperty constants: k=8\n\nStarting probabilistic reachability (until)...\nMax/avg (actions): (4,1)/(1.06,1.00)\nMax/avg (actions): (1,4)/(1.00,1.06)\ntarget=7, yes=7, no=839, maybe=70\n\nStarting value iteration...\n\nValue iteration converged after 10 iterations.\nPrecomputation took 0.02 seconds.\n\nValue in the initial state: 0.032407407407407406\n\nTime for model checking: 0.027 seconds.\n\nResult: 0.032407407407407406 (value in the initial state)\n\n---------------------------------------------------------------------\n\nModel checking: <<p1>>Pmin=? [ F game_over&score=k ]\nProperty constants: k=9\n\nStarting probabilistic reachability (until)...\nMax/avg (actions): (4,1)/(1.06,1.00)\nMax/avg (actions): (1,4)/(1.00,1.06)\ntarget=9, yes=9, no=821, maybe=86\n\nStarting value iteration...\n\nValue iteration converged after 10 iterations.\nPrecomputation took 0.013 seconds.\n\nValue in the initial state: 0.018518518518518517\n\nTime for model checking: 0.02 seconds.\n\nResult: 0.018518518518518517 (value in the initial state)\n\n---------------------------------------------------------------------\n\nModel checking: <<p1>>Pmin=? [ F game_over&score=k ]\nProperty constants: k=10\n\nStarting probabilistic reachability (until)...\nMax/avg (actions): (4,1)/(1.06,1.00)\nMax/avg (actions): (1,4)/(1.00,1.06)\ntarget=10, yes=10, no=755, maybe=151\n\nStarting value iteration...\n\nValue iteration converged after 12 iterations.\nPrecomputation took 0.013 seconds.\n\nValue in the initial state: 0.05195473251028806\n\nTime for model checking: 0.022 seconds.\n\nResult: 0.05195473251028806 (value in the initial state)\n\n---------------------------------------------------------------------\n\nModel checking: <<p1>>Pmin=? [ F game_over&score=k ]\nProperty constants: k=11\n\nStarting probabilistic reachability (until)...\nMax/avg (actions): (4,1)/(1.06,1.00)\nMax/avg (actions): (1,4)/(1.00,1.06)\ntarget=11, yes=11, no=756, maybe=149\n\nStarting value iteration...\n\nValue iteration converged after 12 iterations.\nPrecomputation took 0.01 seconds.\n\nValue in the initial state: 0.03883744855967078\n\nTime for model checking: 0.018 seconds.\n\nResult: 0.03883744855967078 (value in the initial state)\n\n---------------------------------------------------------------------\n\nModel checking: <<p1>>Pmin=? [ F game_over&score=k ]\nProperty constants: k=12\n\nStarting probabilistic reachability (until)...\nMax/avg (actions): (4,1)/(1.06,1.00)\nMax/avg (actions): (1,4)/(1.00,1.06)\ntarget=12, yes=12, no=709, maybe=195\n\nStarting value iteration...\n\nValue iteration converged after 12 iterations.\nPrecomputation took 0.01 seconds.\n\nValue in the initial state: 0.03858024691358024\n\nTime for model checking: 0.019 seconds.\n\nResult: 0.03858024691358024 (value in the initial state)\n\n---------------------------------------------------------------------\n\nModel checking: <<p1>>Pmin=? [ F game_over&score=k ]\nProperty constants: k=13\n\nStarting probabilistic reachability (until)...\nMax/avg (actions): (4,1)/(1.06,1.00)\nMax/avg (actions): (1,4)/(1.00,1.06)\ntarget=11, yes=11, no=733, maybe=172\n\nStarting value iteration...\n\nValue iteration converged after 12 iterations.\nPrecomputation took 0.014 seconds.\n\nValue in the initial state: 0.021347736625514403\n\nTime for model checking: 0.026 seconds.\n\nResult: 0.021347736625514403 (value in the initial state)\n\n---------------------------------------------------------------------\n\nModel checking: <<p1>>Pmin=? [ F game_over&score=k ]\nProperty constants: k=14\n\nStarting probabilistic reachability (until)...\nMax/avg (actions): (4,1)/(1.06,1.00)\nMax/avg (actions): (1,4)/(1.00,1.06)\ntarget=12, yes=12, no=709, maybe=195\n\nStarting value iteration...\n\nValue iteration converged after 12 iterations.\nPrecomputation took 0.013 seconds.\n\nValue in the initial state: 0.016975308641975308\n\nTime for model checking: 0.023 seconds.\n\nResult: 0.016975308641975308 (value in the initial state)\n\n---------------------------------------------------------------------\n\nModel checking: <<p1>>Pmin=? [ F game_over&score=k ]\nProperty constants: k=15\n\nStarting probabilistic reachability (until)...\nMax/avg (actions): (4,1)/(1.06,1.00)\nMax/avg (actions): (1,4)/(1.00,1.06)\ntarget=11, yes=11, no=605, maybe=300\n\nStarting value iteration...\n\nValue iteration converged after 14 iterations.\nPrecomputation took 0.016 seconds.\n\nValue in the initial state: 0.030178326474622763\n\nTime for model checking: 0.028 seconds.\n\nResult: 0.030178326474622763 (value in the initial state)\n\n---------------------------------------------------------------------\n\nModel checking: <<p1>>Pmin=? [ F game_over&score=k ]\nProperty constants: k=16\n\nStarting probabilistic reachability (until)...\nMax/avg (actions): (4,1)/(1.06,1.00)\nMax/avg (actions): (1,4)/(1.00,1.06)\ntarget=11, yes=11, no=619, maybe=286\n\nStarting value iteration...\n\nValue iteration converged after 14 iterations.\nPrecomputation took 0.015 seconds.\n\nValue in the initial state: 0.02396262002743484\n\nTime for model checking: 0.027 seconds.\n\nResult: 0.02396262002743484 (value in the initial state)\n\n---------------------------------------------------------------------\n\nModel checking: <<p1>>Pmin=? [ F game_over&score=k ]\nProperty constants: k=17\n\nStarting probabilistic reachability (until)...\nMax/avg (actions): (4,1)/(1.06,1.00)\nMax/avg (actions): (1,4)/(1.00,1.06)\ntarget=8, yes=8, no=677, maybe=231\n\nStarting value iteration...\n\nValue iteration converged after 14 iterations.\nPrecomputation took 0.01 seconds.\n\nValue in the initial state: 0.010266632373113852\n\nTime for model checking: 0.027 seconds.\n\nResult: 0.010266632373113852 (value in the initial state)\n\n---------------------------------------------------------------------\n\nModel checking: <<p1>>Pmin=? [ F game_over&score=k ]\nProperty constants: k=18\n\nStarting probabilistic reachability (until)...\nMax/avg (actions): (4,1)/(1.06,1.00)\nMax/avg (actions): (1,4)/(1.00,1.06)\ntarget=8, yes=8, no=691, maybe=217\n\nStarting value iteration...\n\nValue iteration converged after 14 iterations.\nPrecomputation took 0.014 seconds.\n\nValue in the initial state: 0.0055298353909465\n\nTime for model checking: 0.027 seconds.\n\nResult: 0.0055298353909465 (value in the initial state)\n\n---------------------------------------------------------------------\n\nModel checking: <<p1>>Pmin=? [ F game_over&score=k ]\nProperty constants: k=19\n\nStarting probabilistic reachability (until)...\nMax/avg (actions): (4,1)/(1.06,1.00)\nMax/avg (actions): (1,4)/(1.00,1.06)\ntarget=5, yes=5, no=747, maybe=164\n\nStarting value iteration...\n\nValue iteration converged after 14 iterations.\nPrecomputation took 0.015 seconds.\n\nValue in the initial state: 0.0022505144032921804\n\nTime for model checking: 0.025 seconds.\n\nResult: 0.0022505144032921804 (value in the initial state)\n\n---------------------------------------------------------------------\n\nModel checking: <<p1>>Pmin=? [ F game_over&score=k ]\nProperty constants: k=20\n\nStarting probabilistic reachability (until)...\nMax/avg (actions): (4,1)/(1.06,1.00)\nMax/avg (actions): (1,4)/(1.00,1.06)\ntarget=5, yes=5, no=763, maybe=148\n\nStarting value iteration...\n\nValue iteration converged after 14 iterations.\nPrecomputation took 0.028 seconds.\n\nValue in the initial state: 1.0716735253772286E-4\n\nTime for model checking: 0.038 seconds.\n\nResult: 1.0716735253772286E-4 (value in the initial state)\n\n---------------------------------------------------------------------\n\nModel checking: <<p1>>Pmin=? [ F game_over&score=k ]\nProperty constants: k=21\n\nStarting probabilistic reachability (until)...\nMax/avg (actions): (4,1)/(1.06,1.00)\nMax/avg (actions): (1,4)/(1.00,1.06)\ntarget=6, yes=6, no=423, maybe=487\n\nStarting value iteration...\n\nValue iteration converged after 16 iterations.\nPrecomputation took 0.022 seconds.\n\nValue in the initial state: 0.023662551440329208\n\nTime for model checking: 0.051 seconds.\n\nResult: 0.023662551440329208 (value in the initial state)\n\nExporting results to file \"ShutTheBox/data/prob_score_nondet_min.csv\"...\n\n"
     ]
    }
   ],
   "source": [
    "prob_score_nondet_min_file = \"ShutTheBox/data/prob_score_nondet_min.csv\"\n",
    "\n",
    "!prism ShutTheBox/stb6test_nondet.prism ShutTheBox/stb6test.props -prop 2 -const k=1:{max_score} -exportresults {prob_score_nondet_min_file}:csv"
   ]
  },
  {
   "cell_type": "code",
   "execution_count": 63,
   "metadata": {},
   "outputs": [
    {
     "output_type": "stream",
     "name": "stdout",
     "text": [
      "Model checking: <<p1>>Pmax=? [ F game_over&score=k ]\nProperty constants: k=1\nResult: 0.027777777777777776 (value in the initial state)\nModel checking: <<p1>>Pmax=? [ F game_over&score=k ]\nProperty constants: k=2\nResult: 0.027777777777777776 (value in the initial state)\nModel checking: <<p1>>Pmax=? [ F game_over&score=k ]\nProperty constants: k=3\nResult: 0.07407407407407407 (value in the initial state)\nModel checking: <<p1>>Pmax=? [ F game_over&score=k ]\nProperty constants: k=4\nResult: 0.07407407407407407 (value in the initial state)\nModel checking: <<p1>>Pmax=? [ F game_over&score=k ]\nProperty constants: k=5\nResult: 0.09259259259259259 (value in the initial state)\nModel checking: <<p1>>Pmax=? [ F game_over&score=k ]\nProperty constants: k=6\nResult: 0.16666666666666669 (value in the initial state)\nModel checking: <<p1>>Pmax=? [ F game_over&score=k ]\nProperty constants: k=7\nResult: 0.09722222222222224 (value in the initial state)\nModel checking: <<p1>>Pmax=? [ F game_over&score=k ]\nProperty constants: k=8\nResult: 0.09722222222222221 (value in the initial state)\nModel checking: <<p1>>Pmax=? [ F game_over&score=k ]\nProperty constants: k=9\nResult: 0.09722222222222221 (value in the initial state)\nModel checking: <<p1>>Pmax=? [ F game_over&score=k ]\nProperty constants: k=10\nResult: 0.13580246913580246 (value in the initial state)\nModel checking: <<p1>>Pmax=? [ F game_over&score=k ]\nProperty constants: k=11\nResult: 0.1111111111111111 (value in the initial state)\nModel checking: <<p1>>Pmax=? [ F game_over&score=k ]\nProperty constants: k=12\nResult: 0.11419753086419752 (value in the initial state)\nModel checking: <<p1>>Pmax=? [ F game_over&score=k ]\nProperty constants: k=13\nResult: 0.08641975308641975 (value in the initial state)\nModel checking: <<p1>>Pmax=? [ F game_over&score=k ]\nProperty constants: k=14\nResult: 0.08333333333333333 (value in the initial state)\nModel checking: <<p1>>Pmax=? [ F game_over&score=k ]\nProperty constants: k=15\nResult: 0.10673868312757197 (value in the initial state)\nModel checking: <<p1>>Pmax=? [ F game_over&score=k ]\nProperty constants: k=16\nResult: 0.0848765432098765 (value in the initial state)\nModel checking: <<p1>>Pmax=? [ F game_over&score=k ]\nProperty constants: k=17\nResult: 0.06301440329218104 (value in the initial state)\nModel checking: <<p1>>Pmax=? [ F game_over&score=k ]\nProperty constants: k=18\nResult: 0.05401234567901232 (value in the initial state)\nModel checking: <<p1>>Pmax=? [ F game_over&score=k ]\nProperty constants: k=19\nResult: 0.036008230452674886 (value in the initial state)\nModel checking: <<p1>>Pmax=? [ F game_over&score=k ]\nProperty constants: k=20\nResult: 0.028292181069958837 (value in the initial state)\nModel checking: <<p1>>Pmax=? [ F game_over&score=k ]\nProperty constants: k=21\nResult: 0.07458847736625511 (value in the initial state)\n"
     ]
    }
   ],
   "source": [
    "prob_score_nondet_max_file = \"ShutTheBox/data/prob_score_nondet_max.csv\"\n",
    "\n",
    "!prism ShutTheBox/stb6test_nondet.prism ShutTheBox/stb6test.props -prop 3 -const k=1:{max_score} -exportresults {prob_score_nondet_max_file}:csv | grep -E \"(Model checking)|(Result)|(Property constants)\""
   ]
  },
  {
   "cell_type": "markdown",
   "metadata": {},
   "source": [
    "### Expected number of die rolls"
   ]
  },
  {
   "cell_type": "code",
   "execution_count": 64,
   "metadata": {},
   "outputs": [
    {
     "output_type": "stream",
     "name": "stdout",
     "text": [
      "Model checking: <<p1>>R{\"no_rolls\"}max=? [ F game_over ]\nResult: 4.313786008230452 (value in the initial state)\n"
     ]
    }
   ],
   "source": [
    "!prism ShutTheBox/stb6test.prism ShutTheBox/stb6.props -prop 9 | grep -E \"(Model checking)|(Result)\""
   ]
  },
  {
   "cell_type": "markdown",
   "metadata": {},
   "source": [
    "### Probability of obtaining a score given a particular board is covered"
   ]
  },
  {
   "cell_type": "code",
   "execution_count": 65,
   "metadata": {
    "tags": [
     "outputPrepend"
    ]
   },
   "outputs": [
    {
     "output_type": "stream",
     "name": "stdout",
     "text": [
      "2727273 (value in the initial state)\n",
      "Model checking: <<p1>>Pmin=? [ F game_over&b1=1&score=k ]/<<p1>>Pmin=? [ F game_over&score=k ]\n",
      "Property constants: k=11\n",
      "Result: 0.6923076923076923 (value in the initial state)\n",
      "Model checking: <<p1>>Pmin=? [ F game_over&b1=1&score=k ]/<<p1>>Pmin=? [ F game_over&score=k ]\n",
      "Property constants: k=12\n",
      "Result: 0.7073170731707318 (value in the initial state)\n",
      "Model checking: <<p1>>Pmin=? [ F game_over&b1=1&score=k ]/<<p1>>Pmin=? [ F game_over&score=k ]\n",
      "Property constants: k=13\n",
      "Result: 0.7692307692307693 (value in the initial state)\n",
      "Model checking: <<p1>>Pmin=? [ F game_over&b1=1&score=k ]/<<p1>>Pmin=? [ F game_over&score=k ]\n",
      "Property constants: k=14\n",
      "Result: 0.6842105263157895 (value in the initial state)\n",
      "Model checking: <<p1>>Pmin=? [ F game_over&b1=1&score=k ]/<<p1>>Pmin=? [ F game_over&score=k ]\n",
      "Property constants: k=15\n",
      "Result: 0.7741935483870966 (value in the initial state)\n",
      "Model checking: <<p1>>Pmin=? [ F game_over&b1=1&score=k ]/<<p1>>Pmin=? [ F game_over&score=k ]\n",
      "Property constants: k=16\n",
      "Result: 0.7539062499999999 (value in the initial state)\n",
      "Model checking: <<p1>>Pmin=? [ F game_over&b1=1&score=k ]/<<p1>>Pmin=? [ F game_over&score=k ]\n",
      "Property constants: k=17\n",
      "Result: 0.6557377049180327 (value in the initial state)\n",
      "Model checking: <<p1>>Pmin=? [ F game_over&b1=1&score=k ]/<<p1>>Pmin=? [ F game_over&score=k ]\n",
      "Property constants: k=18\n",
      "Result: 0.7954545454545455 (value in the initial state)\n",
      "Model checking: <<p1>>Pmin=? [ F game_over&b1=1&score=k ]/<<p1>>Pmin=? [ F game_over&score=k ]\n",
      "Property constants: k=19\n",
      "Result: 1.0 (value in the initial state)\n",
      "Model checking: <<p1>>Pmin=? [ F game_over&b1=1&score=k ]/<<p1>>Pmin=? [ F game_over&score=k ]\n",
      "Property constants: k=20\n",
      "Result: 0.0 (value in the initial state)\n",
      "Model checking: <<p1>>Pmin=? [ F game_over&b1=1&score=k ]/<<p1>>Pmin=? [ F game_over&score=k ]\n",
      "Property constants: k=21\n",
      "Result: 1.0 (value in the initial state)\n",
      "Exporting results to file \"ShutTheBox/data/score_given_1.csv\"...\n",
      "========\n",
      "Model checking: <<p1>>Pmin=? [ F game_over&b2=1&score=k ]/<<p1>>Pmin=? [ F game_over&score=k ]\n",
      "Property constants: k=1\n",
      "Result: 0.0 (value in the initial state)\n",
      "Model checking: <<p1>>Pmin=? [ F game_over&b2=1&score=k ]/<<p1>>Pmin=? [ F game_over&score=k ]\n",
      "Property constants: k=2\n",
      "Result: 1.0 (value in the initial state)\n",
      "Model checking: <<p1>>Pmin=? [ F game_over&b2=1&score=k ]/<<p1>>Pmin=? [ F game_over&score=k ]\n",
      "Property constants: k=3\n",
      "Result: 1.0 (value in the initial state)\n",
      "Model checking: <<p1>>Pmin=? [ F game_over&b2=1&score=k ]/<<p1>>Pmin=? [ F game_over&score=k ]\n",
      "Property constants: k=4\n",
      "Result: 0.0 (value in the initial state)\n",
      "Model checking: <<p1>>Pmin=? [ F game_over&b2=1&score=k ]/<<p1>>Pmin=? [ F game_over&score=k ]\n",
      "Property constants: k=5\n",
      "Result: 0.5 (value in the initial state)\n",
      "Model checking: <<p1>>Pmin=? [ F game_over&b2=1&score=k ]/<<p1>>Pmin=? [ F game_over&score=k ]\n",
      "Property constants: k=6\n",
      "Result: 0.8 (value in the initial state)\n",
      "Model checking: <<p1>>Pmin=? [ F game_over&b2=1&score=k ]/<<p1>>Pmin=? [ F game_over&score=k ]\n",
      "Property constants: k=7\n",
      "Result: 0.5555555555555556 (value in the initial state)\n",
      "Model checking: <<p1>>Pmin=? [ F game_over&b2=1&score=k ]/<<p1>>Pmin=? [ F game_over&score=k ]\n",
      "Property constants: k=8\n",
      "Result: 0.45454545454545453 (value in the initial state)\n",
      "Model checking: <<p1>>Pmin=? [ F game_over&b2=1&score=k ]/<<p1>>Pmin=? [ F game_over&score=k ]\n",
      "Property constants: k=9\n",
      "Result: 0.6666666666666666 (value in the initial state)\n",
      "Model checking: <<p1>>Pmin=? [ F game_over&b2=1&score=k ]/<<p1>>Pmin=? [ F game_over&score=k ]\n",
      "Property constants: k=10\n",
      "Result: 0.5909090909090909 (value in the initial state)\n",
      "Model checking: <<p1>>Pmin=? [ F game_over&b2=1&score=k ]/<<p1>>Pmin=? [ F game_over&score=k ]\n",
      "Property constants: k=11\n",
      "Result: 0.7692307692307693 (value in the initial state)\n",
      "Model checking: <<p1>>Pmin=? [ F game_over&b2=1&score=k ]/<<p1>>Pmin=? [ F game_over&score=k ]\n",
      "Property constants: k=12\n",
      "Result: 0.7073170731707318 (value in the initial state)\n",
      "Model checking: <<p1>>Pmin=? [ F game_over&b2=1&score=k ]/<<p1>>Pmin=? [ F game_over&score=k ]\n",
      "Property constants: k=13\n",
      "Result: 0.46153846153846156 (value in the initial state)\n",
      "Model checking: <<p1>>Pmin=? [ F game_over&b2=1&score=k ]/<<p1>>Pmin=? [ F game_over&score=k ]\n",
      "Property constants: k=14\n",
      "Result: 0.631578947368421 (value in the initial state)\n",
      "Model checking: <<p1>>Pmin=? [ F game_over&b2=1&score=k ]/<<p1>>Pmin=? [ F game_over&score=k ]\n",
      "Property constants: k=15\n",
      "Result: 0.7741935483870966 (value in the initial state)\n",
      "Model checking: <<p1>>Pmin=? [ F game_over&b2=1&score=k ]/<<p1>>Pmin=? [ F game_over&score=k ]\n",
      "Property constants: k=16\n",
      "Result: 0.6484375 (value in the initial state)\n",
      "Model checking: <<p1>>Pmin=? [ F game_over&b2=1&score=k ]/<<p1>>Pmin=? [ F game_over&score=k ]\n",
      "Property constants: k=17\n",
      "Result: 1.0 (value in the initial state)\n",
      "Model checking: <<p1>>Pmin=? [ F game_over&b2=1&score=k ]/<<p1>>Pmin=? [ F game_over&score=k ]\n",
      "Property constants: k=18\n",
      "Result: 0.7954545454545455 (value in the initial state)\n",
      "Model checking: <<p1>>Pmin=? [ F game_over&b2=1&score=k ]/<<p1>>Pmin=? [ F game_over&score=k ]\n",
      "Property constants: k=19\n",
      "Result: 0.0 (value in the initial state)\n",
      "Model checking: <<p1>>Pmin=? [ F game_over&b2=1&score=k ]/<<p1>>Pmin=? [ F game_over&score=k ]\n",
      "Property constants: k=20\n",
      "Result: 1.0 (value in the initial state)\n",
      "Model checking: <<p1>>Pmin=? [ F game_over&b2=1&score=k ]/<<p1>>Pmin=? [ F game_over&score=k ]\n",
      "Property constants: k=21\n",
      "Result: 1.0 (value in the initial state)\n",
      "Exporting results to file \"ShutTheBox/data/score_given_2.csv\"...\n",
      "========\n",
      "Model checking: <<p1>>Pmin=? [ F game_over&b3=1&score=k ]/<<p1>>Pmin=? [ F game_over&score=k ]\n",
      "Property constants: k=1\n",
      "Result: 0.0 (value in the initial state)\n",
      "Model checking: <<p1>>Pmin=? [ F game_over&b3=1&score=k ]/<<p1>>Pmin=? [ F game_over&score=k ]\n",
      "Property constants: k=2\n",
      "Result: 0.0 (value in the initial state)\n",
      "Model checking: <<p1>>Pmin=? [ F game_over&b3=1&score=k ]/<<p1>>Pmin=? [ F game_over&score=k ]\n",
      "Property constants: k=3\n",
      "Result: 0.0 (value in the initial state)\n",
      "Model checking: <<p1>>Pmin=? [ F game_over&b3=1&score=k ]/<<p1>>Pmin=? [ F game_over&score=k ]\n",
      "Property constants: k=4\n",
      "Result: 1.0 (value in the initial state)\n",
      "Model checking: <<p1>>Pmin=? [ F game_over&b3=1&score=k ]/<<p1>>Pmin=? [ F game_over&score=k ]\n",
      "Property constants: k=5\n",
      "Result: 0.5 (value in the initial state)\n",
      "Model checking: <<p1>>Pmin=? [ F game_over&b3=1&score=k ]/<<p1>>Pmin=? [ F game_over&score=k ]\n",
      "Property constants: k=6\n",
      "Result: 0.6 (value in the initial state)\n",
      "Model checking: <<p1>>Pmin=? [ F game_over&b3=1&score=k ]/<<p1>>Pmin=? [ F game_over&score=k ]\n",
      "Property constants: k=7\n",
      "Result: 0.2222222222222222 (value in the initial state)\n",
      "Model checking: <<p1>>Pmin=? [ F game_over&b3=1&score=k ]/<<p1>>Pmin=? [ F game_over&score=k ]\n",
      "Property constants: k=8\n",
      "Result: 0.5454545454545454 (value in the initial state)\n",
      "Model checking: <<p1>>Pmin=? [ F game_over&b3=1&score=k ]/<<p1>>Pmin=? [ F game_over&score=k ]\n",
      "Property constants: k=9\n",
      "Result: 0.6666666666666666 (value in the initial state)\n",
      "Model checking: <<p1>>Pmin=? [ F game_over&b3=1&score=k ]/<<p1>>Pmin=? [ F game_over&score=k ]\n",
      "Property constants: k=10\n",
      "Result: 0.7272727272727273 (value in the initial state)\n",
      "Model checking: <<p1>>Pmin=? [ F game_over&b3=1&score=k ]/<<p1>>Pmin=? [ F game_over&score=k ]\n",
      "Property constants: k=11\n",
      "Result: 0.6153846153846154 (value in the initial state)\n",
      "Model checking: <<p1>>Pmin=? [ F game_over&b3=1&score=k ]/<<p1>>Pmin=? [ F game_over&score=k ]\n",
      "Property constants: k=12\n",
      "Result: 0.48780487804878053 (value in the initial state)\n",
      "Model checking: <<p1>>Pmin=? [ F game_over&b3=1&score=k ]/<<p1>>Pmin=? [ F game_over&score=k ]\n",
      "Property constants: k=13\n",
      "Result: 0.5384615384615384 (value in the initial state)\n",
      "Model checking: <<p1>>Pmin=? [ F game_over&b3=1&score=k ]/<<p1>>Pmin=? [ F game_over&score=k ]\n",
      "Property constants: k=14\n",
      "Result: 0.6842105263157895 (value in the initial state)\n",
      "Model checking: <<p1>>Pmin=? [ F game_over&b3=1&score=k ]/<<p1>>Pmin=? [ F game_over&score=k ]\n",
      "Property constants: k=15\n",
      "Result: 1.0 (value in the initial state)\n",
      "Model checking: <<p1>>Pmin=? [ F game_over&b3=1&score=k ]/<<p1>>Pmin=? [ F game_over&score=k ]\n",
      "Property constants: k=16\n",
      "Result: 0.6484375 (value in the initial state)\n",
      "Model checking: <<p1>>Pmin=? [ F game_over&b3=1&score=k ]/<<p1>>Pmin=? [ F game_over&score=k ]\n",
      "Property constants: k=17\n",
      "Result: 0.6557377049180327 (value in the initial state)\n",
      "Model checking: <<p1>>Pmin=? [ F game_over&b3=1&score=k ]/<<p1>>Pmin=? [ F game_over&score=k ]\n",
      "Property constants: k=18\n",
      "Result: 0.2045454545454546 (value in the initial state)\n",
      "Model checking: <<p1>>Pmin=? [ F game_over&b3=1&score=k ]/<<p1>>Pmin=? [ F game_over&score=k ]\n",
      "Property constants: k=19\n",
      "Result: 1.0 (value in the initial state)\n",
      "Model checking: <<p1>>Pmin=? [ F game_over&b3=1&score=k ]/<<p1>>Pmin=? [ F game_over&score=k ]\n",
      "Property constants: k=20\n",
      "Result: 1.0 (value in the initial state)\n",
      "Model checking: <<p1>>Pmin=? [ F game_over&b3=1&score=k ]/<<p1>>Pmin=? [ F game_over&score=k ]\n",
      "Property constants: k=21\n",
      "Result: 1.0 (value in the initial state)\n",
      "Exporting results to file \"ShutTheBox/data/score_given_3.csv\"...\n",
      "========\n",
      "Model checking: <<p1>>Pmin=? [ F game_over&b4=1&score=k ]/<<p1>>Pmin=? [ F game_over&score=k ]\n",
      "Property constants: k=1\n",
      "Result: 0.0 (value in the initial state)\n",
      "Model checking: <<p1>>Pmin=? [ F game_over&b4=1&score=k ]/<<p1>>Pmin=? [ F game_over&score=k ]\n",
      "Property constants: k=2\n",
      "Result: 0.0 (value in the initial state)\n",
      "Model checking: <<p1>>Pmin=? [ F game_over&b4=1&score=k ]/<<p1>>Pmin=? [ F game_over&score=k ]\n",
      "Property constants: k=3\n",
      "Result: 0.0 (value in the initial state)\n",
      "Model checking: <<p1>>Pmin=? [ F game_over&b4=1&score=k ]/<<p1>>Pmin=? [ F game_over&score=k ]\n",
      "Property constants: k=4\n",
      "Result: 0.0 (value in the initial state)\n",
      "Model checking: <<p1>>Pmin=? [ F game_over&b4=1&score=k ]/<<p1>>Pmin=? [ F game_over&score=k ]\n",
      "Property constants: k=5\n",
      "Result: 0.5 (value in the initial state)\n",
      "Model checking: <<p1>>Pmin=? [ F game_over&b4=1&score=k ]/<<p1>>Pmin=? [ F game_over&score=k ]\n",
      "Property constants: k=6\n",
      "Result: 0.2 (value in the initial state)\n",
      "Model checking: <<p1>>Pmin=? [ F game_over&b4=1&score=k ]/<<p1>>Pmin=? [ F game_over&score=k ]\n",
      "Property constants: k=7\n",
      "Result: 0.5555555555555556 (value in the initial state)\n",
      "Model checking: <<p1>>Pmin=? [ F game_over&b4=1&score=k ]/<<p1>>Pmin=? [ F game_over&score=k ]\n",
      "Property constants: k=8\n",
      "Result: 0.5454545454545454 (value in the initial state)\n",
      "Model checking: <<p1>>Pmin=? [ F game_over&b4=1&score=k ]/<<p1>>Pmin=? [ F game_over&score=k ]\n",
      "Property constants: k=9\n",
      "Result: 0.3333333333333333 (value in the initial state)\n",
      "Model checking: <<p1>>Pmin=? [ F game_over&b4=1&score=k ]/<<p1>>Pmin=? [ F game_over&score=k ]\n",
      "Property constants: k=10\n",
      "Result: 0.5909090909090909 (value in the initial state)\n",
      "Model checking: <<p1>>Pmin=? [ F game_over&b4=1&score=k ]/<<p1>>Pmin=? [ F game_over&score=k ]\n",
      "Property constants: k=11\n",
      "Result: 0.38461538461538464 (value in the initial state)\n",
      "Model checking: <<p1>>Pmin=? [ F game_over&b4=1&score=k ]/<<p1>>Pmin=? [ F game_over&score=k ]\n",
      "Property constants: k=12\n",
      "Result: 0.5121951219512195 (value in the initial state)\n",
      "Model checking: <<p1>>Pmin=? [ F game_over&b4=1&score=k ]/<<p1>>Pmin=? [ F game_over&score=k ]\n",
      "Property constants: k=13\n",
      "Result: 0.8461538461538461 (value in the initial state)\n",
      "Model checking: <<p1>>Pmin=? [ F game_over&b4=1&score=k ]/<<p1>>Pmin=? [ F game_over&score=k ]\n",
      "Property constants: k=14\n",
      "Result: 0.6842105263157895 (value in the initial state)\n",
      "Model checking: <<p1>>Pmin=? [ F game_over&b4=1&score=k ]/<<p1>>Pmin=? [ F game_over&score=k ]\n",
      "Property constants: k=15\n",
      "Result: 0.7741935483870966 (value in the initial state)\n",
      "Model checking: <<p1>>Pmin=? [ F game_over&b4=1&score=k ]/<<p1>>Pmin=? [ F game_over&score=k ]\n",
      "Property constants: k=16\n",
      "Result: 0.7539062499999999 (value in the initial state)\n",
      "Model checking: <<p1>>Pmin=? [ F game_over&b4=1&score=k ]/<<p1>>Pmin=? [ F game_over&score=k ]\n",
      "Property constants: k=17\n",
      "Result: 0.2950819672131148 (value in the initial state)\n",
      "Model checking: <<p1>>Pmin=? [ F game_over&b4=1&score=k ]/<<p1>>Pmin=? [ F game_over&score=k ]\n",
      "Property constants: k=18\n",
      "Result: 1.0 (value in the initial state)\n",
      "Model checking: <<p1>>Pmin=? [ F game_over&b4=1&score=k ]/<<p1>>Pmin=? [ F game_over&score=k ]\n",
      "Property constants: k=19\n",
      "Result: 1.0 (value in the initial state)\n",
      "Model checking: <<p1>>Pmin=? [ F game_over&b4=1&score=k ]/<<p1>>Pmin=? [ F game_over&score=k ]\n",
      "Property constants: k=20\n",
      "Result: 1.0 (value in the initial state)\n",
      "Model checking: <<p1>>Pmin=? [ F game_over&b4=1&score=k ]/<<p1>>Pmin=? [ F game_over&score=k ]\n",
      "Property constants: k=21\n",
      "Result: 1.0 (value in the initial state)\n",
      "Exporting results to file \"ShutTheBox/data/score_given_4.csv\"...\n",
      "========\n",
      "Model checking: <<p1>>Pmin=? [ F game_over&b5=1&score=k ]/<<p1>>Pmin=? [ F game_over&score=k ]\n",
      "Property constants: k=1\n",
      "Result: 0.0 (value in the initial state)\n",
      "Model checking: <<p1>>Pmin=? [ F game_over&b5=1&score=k ]/<<p1>>Pmin=? [ F game_over&score=k ]\n",
      "Property constants: k=2\n",
      "Result: 0.0 (value in the initial state)\n",
      "Model checking: <<p1>>Pmin=? [ F game_over&b5=1&score=k ]/<<p1>>Pmin=? [ F game_over&score=k ]\n",
      "Property constants: k=3\n",
      "Result: 0.0 (value in the initial state)\n",
      "Model checking: <<p1>>Pmin=? [ F game_over&b5=1&score=k ]/<<p1>>Pmin=? [ F game_over&score=k ]\n",
      "Property constants: k=4\n",
      "Result: 0.0 (value in the initial state)\n",
      "Model checking: <<p1>>Pmin=? [ F game_over&b5=1&score=k ]/<<p1>>Pmin=? [ F game_over&score=k ]\n",
      "Property constants: k=5\n",
      "Result: 0.0 (value in the initial state)\n",
      "Model checking: <<p1>>Pmin=? [ F game_over&b5=1&score=k ]/<<p1>>Pmin=? [ F game_over&score=k ]\n",
      "Property constants: k=6\n",
      "Result: 0.2 (value in the initial state)\n",
      "Model checking: <<p1>>Pmin=? [ F game_over&b5=1&score=k ]/<<p1>>Pmin=? [ F game_over&score=k ]\n",
      "Property constants: k=7\n",
      "Result: 0.2222222222222222 (value in the initial state)\n",
      "Model checking: <<p1>>Pmin=? [ F game_over&b5=1&score=k ]/<<p1>>Pmin=? [ F game_over&score=k ]\n",
      "Property constants: k=8\n",
      "Result: 0.2727272727272727 (value in the initial state)\n",
      "Model checking: <<p1>>Pmin=? [ F game_over&b5=1&score=k ]/<<p1>>Pmin=? [ F game_over&score=k ]\n",
      "Property constants: k=9\n",
      "Result: 0.3333333333333333 (value in the initial state)\n",
      "Model checking: <<p1>>Pmin=? [ F game_over&b5=1&score=k ]/<<p1>>Pmin=? [ F game_over&score=k ]\n",
      "Property constants: k=10\n",
      "Result: 0.4090909090909091 (value in the initial state)\n",
      "Model checking: <<p1>>Pmin=? [ F game_over&b5=1&score=k ]/<<p1>>Pmin=? [ F game_over&score=k ]\n",
      "Property constants: k=11\n",
      "Result: 0.6153846153846154 (value in the initial state)\n",
      "Model checking: <<p1>>Pmin=? [ F game_over&b5=1&score=k ]/<<p1>>Pmin=? [ F game_over&score=k ]\n",
      "Property constants: k=12\n",
      "Result: 0.5121951219512195 (value in the initial state)\n",
      "Model checking: <<p1>>Pmin=? [ F game_over&b5=1&score=k ]/<<p1>>Pmin=? [ F game_over&score=k ]\n",
      "Property constants: k=13\n",
      "Result: 0.6153846153846154 (value in the initial state)\n",
      "Model checking: <<p1>>Pmin=? [ F game_over&b5=1&score=k ]/<<p1>>Pmin=? [ F game_over&score=k ]\n",
      "Property constants: k=14\n",
      "Result: 0.631578947368421 (value in the initial state)\n",
      "Model checking: <<p1>>Pmin=? [ F game_over&b5=1&score=k ]/<<p1>>Pmin=? [ F game_over&score=k ]\n",
      "Property constants: k=15\n",
      "Result: 0.7741935483870966 (value in the initial state)\n",
      "Model checking: <<p1>>Pmin=? [ F game_over&b5=1&score=k ]/<<p1>>Pmin=? [ F game_over&score=k ]\n",
      "Property constants: k=16\n",
      "Result: 0.4570312500000001 (value in the initial state)\n",
      "Model checking: <<p1>>Pmin=? [ F game_over&b5=1&score=k ]/<<p1>>Pmin=? [ F game_over&score=k ]\n",
      "Property constants: k=17\n",
      "Result: 1.0 (value in the initial state)\n",
      "Model checking: <<p1>>Pmin=? [ F game_over&b5=1&score=k ]/<<p1>>Pmin=? [ F game_over&score=k ]\n",
      "Property constants: k=18\n",
      "Result: 1.0 (value in the initial state)\n",
      "Model checking: <<p1>>Pmin=? [ F game_over&b5=1&score=k ]/<<p1>>Pmin=? [ F game_over&score=k ]\n",
      "Property constants: k=19\n",
      "Result: 1.0 (value in the initial state)\n",
      "Model checking: <<p1>>Pmin=? [ F game_over&b5=1&score=k ]/<<p1>>Pmin=? [ F game_over&score=k ]\n",
      "Property constants: k=20\n",
      "Result: 1.0 (value in the initial state)\n",
      "Model checking: <<p1>>Pmin=? [ F game_over&b5=1&score=k ]/<<p1>>Pmin=? [ F game_over&score=k ]\n",
      "Property constants: k=21\n",
      "Result: 1.0 (value in the initial state)\n",
      "Exporting results to file \"ShutTheBox/data/score_given_5.csv\"...\n",
      "========\n",
      "Model checking: <<p1>>Pmin=? [ F game_over&b6=1&score=k ]/<<p1>>Pmin=? [ F game_over&score=k ]\n",
      "Property constants: k=1\n",
      "Result: 0.0 (value in the initial state)\n",
      "Model checking: <<p1>>Pmin=? [ F game_over&b6=1&score=k ]/<<p1>>Pmin=? [ F game_over&score=k ]\n",
      "Property constants: k=2\n",
      "Result: 0.0 (value in the initial state)\n",
      "Model checking: <<p1>>Pmin=? [ F game_over&b6=1&score=k ]/<<p1>>Pmin=? [ F game_over&score=k ]\n",
      "Property constants: k=3\n",
      "Result: 0.0 (value in the initial state)\n",
      "Model checking: <<p1>>Pmin=? [ F game_over&b6=1&score=k ]/<<p1>>Pmin=? [ F game_over&score=k ]\n",
      "Property constants: k=4\n",
      "Result: 0.0 (value in the initial state)\n",
      "Model checking: <<p1>>Pmin=? [ F game_over&b6=1&score=k ]/<<p1>>Pmin=? [ F game_over&score=k ]\n",
      "Property constants: k=5\n",
      "Result: 0.0 (value in the initial state)\n",
      "Model checking: <<p1>>Pmin=? [ F game_over&b6=1&score=k ]/<<p1>>Pmin=? [ F game_over&score=k ]\n",
      "Property constants: k=6\n",
      "Result: 0.0 (value in the initial state)\n",
      "Model checking: <<p1>>Pmin=? [ F game_over&b6=1&score=k ]/<<p1>>Pmin=? [ F game_over&score=k ]\n",
      "Property constants: k=7\n",
      "Result: 0.2222222222222222 (value in the initial state)\n",
      "Model checking: <<p1>>Pmin=? [ F game_over&b6=1&score=k ]/<<p1>>Pmin=? [ F game_over&score=k ]\n",
      "Property constants: k=8\n",
      "Result: 0.18181818181818182 (value in the initial state)\n",
      "Model checking: <<p1>>Pmin=? [ F game_over&b6=1&score=k ]/<<p1>>Pmin=? [ F game_over&score=k ]\n",
      "Property constants: k=9\n",
      "Result: 0.3333333333333333 (value in the initial state)\n",
      "Model checking: <<p1>>Pmin=? [ F game_over&b6=1&score=k ]/<<p1>>Pmin=? [ F game_over&score=k ]\n",
      "Property constants: k=10\n",
      "Result: 0.13636363636363635 (value in the initial state)\n",
      "Model checking: <<p1>>Pmin=? [ F game_over&b6=1&score=k ]/<<p1>>Pmin=? [ F game_over&score=k ]\n",
      "Property constants: k=11\n",
      "Result: 0.38461538461538464 (value in the initial state)\n",
      "Model checking: <<p1>>Pmin=? [ F game_over&b6=1&score=k ]/<<p1>>Pmin=? [ F game_over&score=k ]\n",
      "Property constants: k=12\n",
      "Result: 0.5609756097560975 (value in the initial state)\n",
      "Model checking: <<p1>>Pmin=? [ F game_over&b6=1&score=k ]/<<p1>>Pmin=? [ F game_over&score=k ]\n",
      "Property constants: k=13\n",
      "Result: 0.5384615384615384 (value in the initial state)\n",
      "Model checking: <<p1>>Pmin=? [ F game_over&b6=1&score=k ]/<<p1>>Pmin=? [ F game_over&score=k ]\n",
      "Property constants: k=14\n",
      "Result: 0.6842105263157895 (value in the initial state)\n",
      "Model checking: <<p1>>Pmin=? [ F game_over&b6=1&score=k ]/<<p1>>Pmin=? [ F game_over&score=k ]\n",
      "Property constants: k=15\n",
      "Result: 0.35483870967741943 (value in the initial state)\n",
      "Model checking: <<p1>>Pmin=? [ F game_over&b6=1&score=k ]/<<p1>>Pmin=? [ F game_over&score=k ]\n",
      "Property constants: k=16\n",
      "Result: 1.0 (value in the initial state)\n",
      "Model checking: <<p1>>Pmin=? [ F game_over&b6=1&score=k ]/<<p1>>Pmin=? [ F game_over&score=k ]\n",
      "Property constants: k=17\n",
      "Result: 1.0 (value in the initial state)\n",
      "Model checking: <<p1>>Pmin=? [ F game_over&b6=1&score=k ]/<<p1>>Pmin=? [ F game_over&score=k ]\n",
      "Property constants: k=18\n",
      "Result: 1.0 (value in the initial state)\n",
      "Model checking: <<p1>>Pmin=? [ F game_over&b6=1&score=k ]/<<p1>>Pmin=? [ F game_over&score=k ]\n",
      "Property constants: k=19\n",
      "Result: 1.0 (value in the initial state)\n",
      "Model checking: <<p1>>Pmin=? [ F game_over&b6=1&score=k ]/<<p1>>Pmin=? [ F game_over&score=k ]\n",
      "Property constants: k=20\n",
      "Result: 1.0 (value in the initial state)\n",
      "Model checking: <<p1>>Pmin=? [ F game_over&b6=1&score=k ]/<<p1>>Pmin=? [ F game_over&score=k ]\n",
      "Property constants: k=21\n",
      "Result: 1.0 (value in the initial state)\n",
      "Exporting results to file \"ShutTheBox/data/score_given_6.csv\"...\n",
      "========\n"
     ]
    }
   ],
   "source": [
    "for covered_board in range(1, boards+1):\n",
    "    !prism ShutTheBox/stb6test.prism ShutTheBox/stb6.props -prop {10+covered_board} -const k=1:{max_score} -exportresults ShutTheBox/data/score_given_{covered_board}.csv:csv | grep -E \"(Model checking)|(Result)|(Property constant)|(Exporting results)\"\n",
    "    !echo ========"
   ]
  },
  {
   "cell_type": "markdown",
   "metadata": {},
   "source": [
    "### Cumulative probability of a score"
   ]
  },
  {
   "cell_type": "code",
   "execution_count": 82,
   "metadata": {},
   "outputs": [
    {
     "output_type": "stream",
     "name": "stdout",
     "text": [
      "Model checking: <<p1>>Pmax=? [ F game_over&score<=k ]\nProperty constants: k=1\nResult: 0.027777777777777776 (value in the initial state)\nModel checking: <<p1>>Pmax=? [ F game_over&score<=k ]\nProperty constants: k=2\nResult: 0.05555555555555555 (value in the initial state)\nModel checking: <<p1>>Pmax=? [ F game_over&score<=k ]\nProperty constants: k=3\nResult: 0.07407407407407407 (value in the initial state)\nModel checking: <<p1>>Pmax=? [ F game_over&score<=k ]\nProperty constants: k=4\nResult: 0.09259259259259259 (value in the initial state)\nModel checking: <<p1>>Pmax=? [ F game_over&score<=k ]\nProperty constants: k=5\nResult: 0.12962962962962965 (value in the initial state)\nModel checking: <<p1>>Pmax=? [ F game_over&score<=k ]\nProperty constants: k=6\nResult: 0.1759259259259259 (value in the initial state)\nModel checking: <<p1>>Pmax=? [ F game_over&score<=k ]\nProperty constants: k=7\nResult: 0.21759259259259253 (value in the initial state)\nModel checking: <<p1>>Pmax=? [ F game_over&score<=k ]\nProperty constants: k=8\nResult: 0.26851851851851843 (value in the initial state)\nModel checking: <<p1>>Pmax=? [ F game_over&score<=k ]\nProperty constants: k=9\nResult: 0.3101851851851852 (value in the initial state)\nModel checking: <<p1>>Pmax=? [ F game_over&score<=k ]\nProperty constants: k=10\nResult: 0.3780864197530864 (value in the initial state)\nModel checking: <<p1>>Pmax=? [ F game_over&score<=k ]\nProperty constants: k=11\nResult: 0.44135802469135793 (value in the initial state)\nModel checking: <<p1>>Pmax=? [ F game_over&score<=k ]\nProperty constants: k=12\nResult: 0.5046296296296295 (value in the initial state)\nModel checking: <<p1>>Pmax=? [ F game_over&score<=k ]\nProperty constants: k=13\nResult: 0.5709876543209875 (value in the initial state)\nModel checking: <<p1>>Pmax=? [ F game_over&score<=k ]\nProperty constants: k=14\nResult: 0.6296296296296294 (value in the initial state)\nModel checking: <<p1>>Pmax=? [ F game_over&score<=k ]\nProperty constants: k=15\nResult: 0.7013888888888887 (value in the initial state)\nModel checking: <<p1>>Pmax=? [ F game_over&score<=k ]\nProperty constants: k=16\nResult: 0.7713477366255143 (value in the initial state)\nModel checking: <<p1>>Pmax=? [ F game_over&score<=k ]\nProperty constants: k=17\nResult: 0.8209876543209874 (value in the initial state)\nModel checking: <<p1>>Pmax=? [ F game_over&score<=k ]\nProperty constants: k=18\nResult: 0.8662551440329216 (value in the initial state)\nModel checking: <<p1>>Pmax=? [ F game_over&score<=k ]\nProperty constants: k=19\nResult: 0.9022633744855965 (value in the initial state)\nModel checking: <<p1>>Pmax=? [ F game_over&score<=k ]\nProperty constants: k=20\nResult: 0.9254115226337445 (value in the initial state)\nModel checking: <<p1>>Pmax=? [ F game_over&score<=k ]\nProperty constants: k=21\nResult: 0.9999999999999998 (value in the initial state)\nExporting results to file \"ShutTheBox/data/cum_prob.csv\"...\n"
     ]
    }
   ],
   "source": [
    "cum_prob_file = \"ShutTheBox/data/cum_prob.csv\"\n",
    "\n",
    "!prism ShutTheBox/stb6test.prism ShutTheBox/stb6.props -prop 6 -const k=1:{max_score} -exportresults {cum_prob_file}:csv | grep -E \"(Model checking)|(Result)|(Property constant)|(Exporting results)\""
   ]
  },
  {
   "cell_type": "code",
   "execution_count": 83,
   "metadata": {},
   "outputs": [
    {
     "output_type": "stream",
     "name": "stdout",
     "text": [
      "Model checking: <<p1>>Pmin=? [ F game_over&score<=k ]\nProperty constants: k=1\nResult: 0.027777777777777776 (value in the initial state)\nModel checking: <<p1>>Pmin=? [ F game_over&score<=k ]\nProperty constants: k=2\nResult: 0.05555555555555555 (value in the initial state)\nModel checking: <<p1>>Pmin=? [ F game_over&score<=k ]\nProperty constants: k=3\nResult: 0.07407407407407407 (value in the initial state)\nModel checking: <<p1>>Pmin=? [ F game_over&score<=k ]\nProperty constants: k=4\nResult: 0.09259259259259259 (value in the initial state)\nModel checking: <<p1>>Pmin=? [ F game_over&score<=k ]\nProperty constants: k=5\nResult: 0.12962962962962965 (value in the initial state)\nModel checking: <<p1>>Pmin=? [ F game_over&score<=k ]\nProperty constants: k=6\nResult: 0.1759259259259259 (value in the initial state)\nModel checking: <<p1>>Pmin=? [ F game_over&score<=k ]\nProperty constants: k=7\nResult: 0.21759259259259253 (value in the initial state)\nModel checking: <<p1>>Pmin=? [ F game_over&score<=k ]\nProperty constants: k=8\nResult: 0.26851851851851843 (value in the initial state)\nModel checking: <<p1>>Pmin=? [ F game_over&score<=k ]\nProperty constants: k=9\nResult: 0.3101851851851852 (value in the initial state)\nModel checking: <<p1>>Pmin=? [ F game_over&score<=k ]\nProperty constants: k=10\nResult: 0.3780864197530864 (value in the initial state)\nModel checking: <<p1>>Pmin=? [ F game_over&score<=k ]\nProperty constants: k=11\nResult: 0.4382716049382715 (value in the initial state)\nModel checking: <<p1>>Pmin=? [ F game_over&score<=k ]\nProperty constants: k=12\nResult: 0.5046296296296295 (value in the initial state)\nModel checking: <<p1>>Pmin=? [ F game_over&score<=k ]\nProperty constants: k=13\nResult: 0.5648148148148147 (value in the initial state)\nModel checking: <<p1>>Pmin=? [ F game_over&score<=k ]\nProperty constants: k=14\nResult: 0.6296296296296294 (value in the initial state)\nModel checking: <<p1>>Pmin=? [ F game_over&score<=k ]\nProperty constants: k=15\nResult: 0.7013888888888887 (value in the initial state)\nModel checking: <<p1>>Pmin=? [ F game_over&score<=k ]\nProperty constants: k=16\nResult: 0.7672325102880657 (value in the initial state)\nModel checking: <<p1>>Pmin=? [ F game_over&score<=k ]\nProperty constants: k=17\nResult: 0.8184156378600821 (value in the initial state)\nModel checking: <<p1>>Pmin=? [ F game_over&score<=k ]\nProperty constants: k=18\nResult: 0.8662551440329216 (value in the initial state)\nModel checking: <<p1>>Pmin=? [ F game_over&score<=k ]\nProperty constants: k=19\nResult: 0.8971193415637858 (value in the initial state)\nModel checking: <<p1>>Pmin=? [ F game_over&score<=k ]\nProperty constants: k=20\nResult: 0.9254115226337445 (value in the initial state)\nModel checking: <<p1>>Pmin=? [ F game_over&score<=k ]\nProperty constants: k=21\nResult: 0.9999999999999998 (value in the initial state)\nExporting results to file \"ShutTheBox/data/cum_prob_min.csv\"...\n"
     ]
    }
   ],
   "source": [
    "cum_prob_min_file = \"ShutTheBox/data/cum_prob_min.csv\"\n",
    "\n",
    "!prism ShutTheBox/stb6test.prism ShutTheBox/stb6.props -prop 5 -const k=1:{max_score} -exportresults {cum_prob_min_file}:csv | grep -E \"(Model checking)|(Result)|(Property constant)|(Exporting results)\""
   ]
  },
  {
   "cell_type": "code",
   "execution_count": 84,
   "metadata": {},
   "outputs": [
    {
     "output_type": "stream",
     "name": "stdout",
     "text": [
      "Model checking: <<p1>>Pmax=? [ F game_over&score<=k ]\nProperty constants: k=1\nResult: 0.027777777777777776 (value in the initial state)\nModel checking: <<p1>>Pmax=? [ F game_over&score<=k ]\nProperty constants: k=2\nResult: 0.05555555555555555 (value in the initial state)\nModel checking: <<p1>>Pmax=? [ F game_over&score<=k ]\nProperty constants: k=3\nResult: 0.12962962962962962 (value in the initial state)\nModel checking: <<p1>>Pmax=? [ F game_over&score<=k ]\nProperty constants: k=4\nResult: 0.19444444444444445 (value in the initial state)\nModel checking: <<p1>>Pmax=? [ F game_over&score<=k ]\nProperty constants: k=5\nResult: 0.2685185185185185 (value in the initial state)\nModel checking: <<p1>>Pmax=? [ F game_over&score<=k ]\nProperty constants: k=6\nResult: 0.4305555555555554 (value in the initial state)\nModel checking: <<p1>>Pmax=? [ F game_over&score<=k ]\nProperty constants: k=7\nResult: 0.4791666666666666 (value in the initial state)\nModel checking: <<p1>>Pmax=? [ F game_over&score<=k ]\nProperty constants: k=8\nResult: 0.5439814814814814 (value in the initial state)\nModel checking: <<p1>>Pmax=? [ F game_over&score<=k ]\nProperty constants: k=9\nResult: 0.5810185185185185 (value in the initial state)\nModel checking: <<p1>>Pmax=? [ F game_over&score<=k ]\nProperty constants: k=10\nResult: 0.6818415637860082 (value in the initial state)\nModel checking: <<p1>>Pmax=? [ F game_over&score<=k ]\nProperty constants: k=11\nResult: 0.7525720164609052 (value in the initial state)\nModel checking: <<p1>>Pmax=? [ F game_over&score<=k ]\nProperty constants: k=12\nResult: 0.810699588477366 (value in the initial state)\nModel checking: <<p1>>Pmax=? [ F game_over&score<=k ]\nProperty constants: k=13\nResult: 0.8353909465020575 (value in the initial state)\nModel checking: <<p1>>Pmax=? [ F game_over&score<=k ]\nProperty constants: k=14\nResult: 0.8580246913580245 (value in the initial state)\nModel checking: <<p1>>Pmax=? [ F game_over&score<=k ]\nProperty constants: k=15\nResult: 0.9037637174211247 (value in the initial state)\nModel checking: <<p1>>Pmax=? [ F game_over&score<=k ]\nProperty constants: k=16\nResult: 0.9406507201646088 (value in the initial state)\nModel checking: <<p1>>Pmax=? [ F game_over&score<=k ]\nProperty constants: k=17\nResult: 0.9629200960219477 (value in the initial state)\nModel checking: <<p1>>Pmax=? [ F game_over&score<=k ]\nProperty constants: k=18\nResult: 0.9722436556927294 (value in the initial state)\nModel checking: <<p1>>Pmax=? [ F game_over&score<=k ]\nProperty constants: k=19\nResult: 0.9762302812071328 (value in the initial state)\nModel checking: <<p1>>Pmax=? [ F game_over&score<=k ]\nProperty constants: k=20\nResult: 0.9763374485596705 (value in the initial state)\nModel checking: <<p1>>Pmax=? [ F game_over&score<=k ]\nProperty constants: k=21\nResult: 0.9999999999999998 (value in the initial state)\nExporting results to file \"ShutTheBox/data/cum_prob_max.csv\"...\n"
     ]
    }
   ],
   "source": [
    "cum_prob_max_file = \"ShutTheBox/data/cum_prob_max.csv\"\n",
    "\n",
    "!prism ShutTheBox/stb6test_nondet.prism ShutTheBox/stb6.props -prop 6 -const k=1:{max_score} -exportresults {cum_prob_max_file}:csv | grep -E \"(Model checking)|(Result)|(Property constant)|(Exporting results)\""
   ]
  },
  {
   "cell_type": "markdown",
   "metadata": {},
   "source": [
    "## Step 3: Visualisations"
   ]
  },
  {
   "cell_type": "markdown",
   "metadata": {},
   "source": [
    "### Probability of obtaining each score"
   ]
  },
  {
   "cell_type": "code",
   "execution_count": 67,
   "metadata": {},
   "outputs": [
    {
     "output_type": "display_data",
     "data": {
      "text/plain": "<Figure size 432x288 with 1 Axes>",
      "image/png": "[encoded data removed]"
     },
     "metadata": {
      "needs_background": "light"
     }
    }
   ],
   "source": [
    "import matplotlib.pyplot as plt\n",
    "import numpy as np\n",
    "import csv\n",
    "\n",
    "def plot(axes, csv_file, series_name, points=None):\n",
    "    # given a set of axes and a csv filename, reads data from the csv file and plots it on the graph\n",
    "\n",
    "    data = np.genfromtxt(csv_file, delimiter=',',skip_header=1, names=['x', 'y'])\n",
    "    ax1.plot(data['x'], data['y'], points, label=series_name)\n",
    "\n",
    "\n",
    "\n",
    "fig = plt.figure()\n",
    "\n",
    "ax1 = fig.add_subplot(111)\n",
    "\n",
    "ax1.set_title(\"Probability of a given score\")\n",
    "ax1.set_xlabel(\"Score\")\n",
    "ax1.set_ylabel(\"Probability\")\n",
    "\n",
    "ax1.set_xticks(np.arange(max_score)+1)\n",
    "\n",
    "plot(ax1, prob_score_file, \"high-board\")\n",
    "\n",
    "plot(ax1, prob_score_nondet_max_file, \"max\")\n",
    "\n",
    "plot(ax1, prob_score_nondet_min_file, \"min\")\n",
    "\n",
    "leg = ax1.legend()\n",
    "\n",
    "plt.show()"
   ]
  },
  {
   "cell_type": "code",
   "execution_count": 88,
   "metadata": {},
   "outputs": [
    {
     "output_type": "display_data",
     "data": {
      "text/plain": "<Figure size 432x288 with 1 Axes>",
      "image/png": "[encoded data removed]"
     },
     "metadata": {
      "needs_background": "light"
     }
    }
   ],
   "source": [
    "fig = plt.figure()\n",
    "\n",
    "ax1 = fig.add_subplot(111)\n",
    "\n",
    "ax1.set_title(\"Cumulate probability of score <= k\")\n",
    "ax1.set_xlabel(\"Score\")\n",
    "ax1.set_ylabel(\"Probability\")\n",
    "\n",
    "ax1.set_xticks(np.arange(max_score)+1)\n",
    "\n",
    "plot(ax1, cum_prob_file, \"high-board\")\n",
    "\n",
    "plot(ax1, cum_prob_max_file, \"max\")\n",
    "\n",
    "plot(ax1, cum_prob_min_file, \"min\")\n",
    "\n",
    "leg = ax1.legend()\n",
    "\n",
    "plt.show()"
   ]
  },
  {
   "cell_type": "code",
   "execution_count": null,
   "metadata": {},
   "outputs": [],
   "source": []
  }
 ],
 "metadata": {
  "kernelspec": {
   "display_name": "Python 3",
   "language": "python",
   "name": "python3"
  },
  "language_info": {
   "codemirror_mode": {
    "name": "ipython",
    "version": 3
   },
   "file_extension": ".py",
   "mimetype": "text/x-python",
   "name": "python",
   "nbconvert_exporter": "python",
   "pygments_lexer": "ipython3",
   "version": "3.7.3-final"
  }
 },
 "nbformat": 4,
 "nbformat_minor": 2
}